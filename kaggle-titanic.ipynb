{
 "cells": [
  {
   "cell_type": "code",
   "execution_count": 1,
   "metadata": {
    "_cell_guid": "b1076dfc-b9ad-4769-8c92-a6c4dae69d19",
    "_uuid": "8f2839f25d086af736a60e9eeb907d3b93b6e0e5",
    "execution": {
     "iopub.execute_input": "2021-06-05T16:28:23.621334Z",
     "iopub.status.busy": "2021-06-05T16:28:23.620727Z",
     "iopub.status.idle": "2021-06-05T16:28:23.628318Z",
     "shell.execute_reply": "2021-06-05T16:28:23.627416Z",
     "shell.execute_reply.started": "2021-06-05T15:01:33.750206Z"
    },
    "papermill": {
     "duration": 0.059465,
     "end_time": "2021-06-05T16:28:23.628484",
     "exception": false,
     "start_time": "2021-06-05T16:28:23.569019",
     "status": "completed"
    },
    "tags": []
   },
   "outputs": [
    {
     "name": "stdout",
     "output_type": "stream",
     "text": [
      "/kaggle/input/titanic/train.csv\n",
      "/kaggle/input/titanic/test.csv\n",
      "/kaggle/input/titanic/gender_submission.csv\n"
     ]
    }
   ],
   "source": [
    "# This Python 3 environment comes with many helpful analytics libraries installed\n",
    "# It is defined by the kaggle/python Docker image: https://github.com/kaggle/docker-python\n",
    "# For example, here's several helpful packages to load\n",
    "\n",
    "import numpy as np # linear algebra\n",
    "import pandas as pd # data processing, CSV file I/O (e.g. pd.read_csv)\n",
    "\n",
    "# Input data files are available in the read-only \"../input/\" directory\n",
    "# For example, running this (by clicking run or pressing Shift+Enter) will list all files under the input directory\n",
    "\n",
    "import os\n",
    "for dirname, _, filenames in os.walk('/kaggle/input'):\n",
    "    for filename in filenames:\n",
    "        print(os.path.join(dirname, filename))\n",
    "\n",
    "# You can write up to 5GB to the current directory (/kaggle/working/) that gets preserved as output when you create a version using \"Save & Run All\" \n",
    "# You can also write temporary files to /kaggle/temp/, but they won't be saved outside of the current session"
   ]
  },
  {
   "cell_type": "code",
   "execution_count": 2,
   "metadata": {
    "execution": {
     "iopub.execute_input": "2021-06-05T16:28:23.724065Z",
     "iopub.status.busy": "2021-06-05T16:28:23.723490Z",
     "iopub.status.idle": "2021-06-05T16:28:30.331416Z",
     "shell.execute_reply": "2021-06-05T16:28:30.330746Z",
     "shell.execute_reply.started": "2021-06-05T15:01:33.762750Z"
    },
    "papermill": {
     "duration": 6.657161,
     "end_time": "2021-06-05T16:28:30.331555",
     "exception": false,
     "start_time": "2021-06-05T16:28:23.674394",
     "status": "completed"
    },
    "tags": []
   },
   "outputs": [],
   "source": [
    "import matplotlib.pyplot as plt\n",
    "import seaborn as sns\n",
    "import keras\n",
    "import sklearn\n",
    "\n",
    "plt.style.use('seaborn')\n",
    "sns.set(font_scale=1.5)\n",
    "import missingno as msno\n",
    "\n",
    "import warnings\n",
    "warnings.filterwarnings('ignore')\n",
    "\n",
    "%matplotlib inline"
   ]
  },
  {
   "cell_type": "code",
   "execution_count": 3,
   "metadata": {
    "_cell_guid": "79c7e3d0-c299-4dcb-8224-4455121ee9b0",
    "_uuid": "d629ff2d2480ee46fbb7e2d37f6b5fab8052498a",
    "execution": {
     "iopub.execute_input": "2021-06-05T16:28:30.431187Z",
     "iopub.status.busy": "2021-06-05T16:28:30.430553Z",
     "iopub.status.idle": "2021-06-05T16:28:30.458800Z",
     "shell.execute_reply": "2021-06-05T16:28:30.458264Z",
     "shell.execute_reply.started": "2021-06-05T15:01:33.781578Z"
    },
    "papermill": {
     "duration": 0.081949,
     "end_time": "2021-06-05T16:28:30.458936",
     "exception": false,
     "start_time": "2021-06-05T16:28:30.376987",
     "status": "completed"
    },
    "tags": []
   },
   "outputs": [],
   "source": [
    "df_train = pd.read_csv(\"/kaggle/input/titanic/train.csv\")\n",
    "df_test = pd.read_csv(\"/kaggle/input/titanic/test.csv\")"
   ]
  },
  {
   "cell_type": "code",
   "execution_count": 4,
   "metadata": {
    "execution": {
     "iopub.execute_input": "2021-06-05T16:28:30.552254Z",
     "iopub.status.busy": "2021-06-05T16:28:30.551608Z",
     "iopub.status.idle": "2021-06-05T16:28:30.557041Z",
     "shell.execute_reply": "2021-06-05T16:28:30.557473Z",
     "shell.execute_reply.started": "2021-06-05T15:01:33.807745Z"
    },
    "papermill": {
     "duration": 0.053605,
     "end_time": "2021-06-05T16:28:30.557628",
     "exception": false,
     "start_time": "2021-06-05T16:28:30.504023",
     "status": "completed"
    },
    "tags": []
   },
   "outputs": [
    {
     "data": {
      "text/plain": [
       "((891, 12), (418, 11))"
      ]
     },
     "execution_count": 4,
     "metadata": {},
     "output_type": "execute_result"
    }
   ],
   "source": [
    "df_train.shape, df_test.shape"
   ]
  },
  {
   "cell_type": "code",
   "execution_count": 5,
   "metadata": {
    "execution": {
     "iopub.execute_input": "2021-06-05T16:28:30.650836Z",
     "iopub.status.busy": "2021-06-05T16:28:30.650283Z",
     "iopub.status.idle": "2021-06-05T16:28:30.654773Z",
     "shell.execute_reply": "2021-06-05T16:28:30.655224Z",
     "shell.execute_reply.started": "2021-06-05T15:01:33.816638Z"
    },
    "papermill": {
     "duration": 0.052742,
     "end_time": "2021-06-05T16:28:30.655370",
     "exception": false,
     "start_time": "2021-06-05T16:28:30.602628",
     "status": "completed"
    },
    "tags": []
   },
   "outputs": [
    {
     "data": {
      "text/plain": [
       "Index(['PassengerId', 'Survived', 'Pclass', 'Name', 'Sex', 'Age', 'SibSp',\n",
       "       'Parch', 'Ticket', 'Fare', 'Cabin', 'Embarked'],\n",
       "      dtype='object')"
      ]
     },
     "execution_count": 5,
     "metadata": {},
     "output_type": "execute_result"
    }
   ],
   "source": [
    "df_train.columns"
   ]
  },
  {
   "cell_type": "code",
   "execution_count": 6,
   "metadata": {
    "execution": {
     "iopub.execute_input": "2021-06-05T16:28:30.749023Z",
     "iopub.status.busy": "2021-06-05T16:28:30.748427Z",
     "iopub.status.idle": "2021-06-05T16:28:30.770627Z",
     "shell.execute_reply": "2021-06-05T16:28:30.771004Z",
     "shell.execute_reply.started": "2021-06-05T15:01:33.832931Z"
    },
    "papermill": {
     "duration": 0.070793,
     "end_time": "2021-06-05T16:28:30.771189",
     "exception": false,
     "start_time": "2021-06-05T16:28:30.700396",
     "status": "completed"
    },
    "tags": []
   },
   "outputs": [
    {
     "data": {
      "text/html": [
       "<div>\n",
       "<style scoped>\n",
       "    .dataframe tbody tr th:only-of-type {\n",
       "        vertical-align: middle;\n",
       "    }\n",
       "\n",
       "    .dataframe tbody tr th {\n",
       "        vertical-align: top;\n",
       "    }\n",
       "\n",
       "    .dataframe thead th {\n",
       "        text-align: right;\n",
       "    }\n",
       "</style>\n",
       "<table border=\"1\" class=\"dataframe\">\n",
       "  <thead>\n",
       "    <tr style=\"text-align: right;\">\n",
       "      <th></th>\n",
       "      <th>PassengerId</th>\n",
       "      <th>Survived</th>\n",
       "      <th>Pclass</th>\n",
       "      <th>Name</th>\n",
       "      <th>Sex</th>\n",
       "      <th>Age</th>\n",
       "      <th>SibSp</th>\n",
       "      <th>Parch</th>\n",
       "      <th>Ticket</th>\n",
       "      <th>Fare</th>\n",
       "      <th>Cabin</th>\n",
       "      <th>Embarked</th>\n",
       "    </tr>\n",
       "  </thead>\n",
       "  <tbody>\n",
       "    <tr>\n",
       "      <th>0</th>\n",
       "      <td>1</td>\n",
       "      <td>0</td>\n",
       "      <td>3</td>\n",
       "      <td>Braund, Mr. Owen Harris</td>\n",
       "      <td>male</td>\n",
       "      <td>22.0</td>\n",
       "      <td>1</td>\n",
       "      <td>0</td>\n",
       "      <td>A/5 21171</td>\n",
       "      <td>7.2500</td>\n",
       "      <td>NaN</td>\n",
       "      <td>S</td>\n",
       "    </tr>\n",
       "    <tr>\n",
       "      <th>1</th>\n",
       "      <td>2</td>\n",
       "      <td>1</td>\n",
       "      <td>1</td>\n",
       "      <td>Cumings, Mrs. John Bradley (Florence Briggs Th...</td>\n",
       "      <td>female</td>\n",
       "      <td>38.0</td>\n",
       "      <td>1</td>\n",
       "      <td>0</td>\n",
       "      <td>PC 17599</td>\n",
       "      <td>71.2833</td>\n",
       "      <td>C85</td>\n",
       "      <td>C</td>\n",
       "    </tr>\n",
       "    <tr>\n",
       "      <th>2</th>\n",
       "      <td>3</td>\n",
       "      <td>1</td>\n",
       "      <td>3</td>\n",
       "      <td>Heikkinen, Miss. Laina</td>\n",
       "      <td>female</td>\n",
       "      <td>26.0</td>\n",
       "      <td>0</td>\n",
       "      <td>0</td>\n",
       "      <td>STON/O2. 3101282</td>\n",
       "      <td>7.9250</td>\n",
       "      <td>NaN</td>\n",
       "      <td>S</td>\n",
       "    </tr>\n",
       "    <tr>\n",
       "      <th>3</th>\n",
       "      <td>4</td>\n",
       "      <td>1</td>\n",
       "      <td>1</td>\n",
       "      <td>Futrelle, Mrs. Jacques Heath (Lily May Peel)</td>\n",
       "      <td>female</td>\n",
       "      <td>35.0</td>\n",
       "      <td>1</td>\n",
       "      <td>0</td>\n",
       "      <td>113803</td>\n",
       "      <td>53.1000</td>\n",
       "      <td>C123</td>\n",
       "      <td>S</td>\n",
       "    </tr>\n",
       "    <tr>\n",
       "      <th>4</th>\n",
       "      <td>5</td>\n",
       "      <td>0</td>\n",
       "      <td>3</td>\n",
       "      <td>Allen, Mr. William Henry</td>\n",
       "      <td>male</td>\n",
       "      <td>35.0</td>\n",
       "      <td>0</td>\n",
       "      <td>0</td>\n",
       "      <td>373450</td>\n",
       "      <td>8.0500</td>\n",
       "      <td>NaN</td>\n",
       "      <td>S</td>\n",
       "    </tr>\n",
       "  </tbody>\n",
       "</table>\n",
       "</div>"
      ],
      "text/plain": [
       "   PassengerId  Survived  Pclass  \\\n",
       "0            1         0       3   \n",
       "1            2         1       1   \n",
       "2            3         1       3   \n",
       "3            4         1       1   \n",
       "4            5         0       3   \n",
       "\n",
       "                                                Name     Sex   Age  SibSp  \\\n",
       "0                            Braund, Mr. Owen Harris    male  22.0      1   \n",
       "1  Cumings, Mrs. John Bradley (Florence Briggs Th...  female  38.0      1   \n",
       "2                             Heikkinen, Miss. Laina  female  26.0      0   \n",
       "3       Futrelle, Mrs. Jacques Heath (Lily May Peel)  female  35.0      1   \n",
       "4                           Allen, Mr. William Henry    male  35.0      0   \n",
       "\n",
       "   Parch            Ticket     Fare Cabin Embarked  \n",
       "0      0         A/5 21171   7.2500   NaN        S  \n",
       "1      0          PC 17599  71.2833   C85        C  \n",
       "2      0  STON/O2. 3101282   7.9250   NaN        S  \n",
       "3      0            113803  53.1000  C123        S  \n",
       "4      0            373450   8.0500   NaN        S  "
      ]
     },
     "execution_count": 6,
     "metadata": {},
     "output_type": "execute_result"
    }
   ],
   "source": [
    "df_train.head()"
   ]
  },
  {
   "cell_type": "code",
   "execution_count": 7,
   "metadata": {
    "execution": {
     "iopub.execute_input": "2021-06-05T16:28:30.867575Z",
     "iopub.status.busy": "2021-06-05T16:28:30.866911Z",
     "iopub.status.idle": "2021-06-05T16:28:30.880071Z",
     "shell.execute_reply": "2021-06-05T16:28:30.880544Z",
     "shell.execute_reply.started": "2021-06-05T15:01:33.859574Z"
    },
    "papermill": {
     "duration": 0.063501,
     "end_time": "2021-06-05T16:28:30.880696",
     "exception": false,
     "start_time": "2021-06-05T16:28:30.817195",
     "status": "completed"
    },
    "tags": []
   },
   "outputs": [
    {
     "data": {
      "text/html": [
       "<div>\n",
       "<style scoped>\n",
       "    .dataframe tbody tr th:only-of-type {\n",
       "        vertical-align: middle;\n",
       "    }\n",
       "\n",
       "    .dataframe tbody tr th {\n",
       "        vertical-align: top;\n",
       "    }\n",
       "\n",
       "    .dataframe thead th {\n",
       "        text-align: right;\n",
       "    }\n",
       "</style>\n",
       "<table border=\"1\" class=\"dataframe\">\n",
       "  <thead>\n",
       "    <tr style=\"text-align: right;\">\n",
       "      <th></th>\n",
       "      <th>PassengerId</th>\n",
       "      <th>Pclass</th>\n",
       "      <th>Name</th>\n",
       "      <th>Sex</th>\n",
       "      <th>Age</th>\n",
       "      <th>SibSp</th>\n",
       "      <th>Parch</th>\n",
       "      <th>Ticket</th>\n",
       "      <th>Fare</th>\n",
       "      <th>Cabin</th>\n",
       "      <th>Embarked</th>\n",
       "    </tr>\n",
       "  </thead>\n",
       "  <tbody>\n",
       "    <tr>\n",
       "      <th>0</th>\n",
       "      <td>892</td>\n",
       "      <td>3</td>\n",
       "      <td>Kelly, Mr. James</td>\n",
       "      <td>male</td>\n",
       "      <td>34.5</td>\n",
       "      <td>0</td>\n",
       "      <td>0</td>\n",
       "      <td>330911</td>\n",
       "      <td>7.8292</td>\n",
       "      <td>NaN</td>\n",
       "      <td>Q</td>\n",
       "    </tr>\n",
       "    <tr>\n",
       "      <th>1</th>\n",
       "      <td>893</td>\n",
       "      <td>3</td>\n",
       "      <td>Wilkes, Mrs. James (Ellen Needs)</td>\n",
       "      <td>female</td>\n",
       "      <td>47.0</td>\n",
       "      <td>1</td>\n",
       "      <td>0</td>\n",
       "      <td>363272</td>\n",
       "      <td>7.0000</td>\n",
       "      <td>NaN</td>\n",
       "      <td>S</td>\n",
       "    </tr>\n",
       "    <tr>\n",
       "      <th>2</th>\n",
       "      <td>894</td>\n",
       "      <td>2</td>\n",
       "      <td>Myles, Mr. Thomas Francis</td>\n",
       "      <td>male</td>\n",
       "      <td>62.0</td>\n",
       "      <td>0</td>\n",
       "      <td>0</td>\n",
       "      <td>240276</td>\n",
       "      <td>9.6875</td>\n",
       "      <td>NaN</td>\n",
       "      <td>Q</td>\n",
       "    </tr>\n",
       "    <tr>\n",
       "      <th>3</th>\n",
       "      <td>895</td>\n",
       "      <td>3</td>\n",
       "      <td>Wirz, Mr. Albert</td>\n",
       "      <td>male</td>\n",
       "      <td>27.0</td>\n",
       "      <td>0</td>\n",
       "      <td>0</td>\n",
       "      <td>315154</td>\n",
       "      <td>8.6625</td>\n",
       "      <td>NaN</td>\n",
       "      <td>S</td>\n",
       "    </tr>\n",
       "    <tr>\n",
       "      <th>4</th>\n",
       "      <td>896</td>\n",
       "      <td>3</td>\n",
       "      <td>Hirvonen, Mrs. Alexander (Helga E Lindqvist)</td>\n",
       "      <td>female</td>\n",
       "      <td>22.0</td>\n",
       "      <td>1</td>\n",
       "      <td>1</td>\n",
       "      <td>3101298</td>\n",
       "      <td>12.2875</td>\n",
       "      <td>NaN</td>\n",
       "      <td>S</td>\n",
       "    </tr>\n",
       "  </tbody>\n",
       "</table>\n",
       "</div>"
      ],
      "text/plain": [
       "   PassengerId  Pclass                                          Name     Sex  \\\n",
       "0          892       3                              Kelly, Mr. James    male   \n",
       "1          893       3              Wilkes, Mrs. James (Ellen Needs)  female   \n",
       "2          894       2                     Myles, Mr. Thomas Francis    male   \n",
       "3          895       3                              Wirz, Mr. Albert    male   \n",
       "4          896       3  Hirvonen, Mrs. Alexander (Helga E Lindqvist)  female   \n",
       "\n",
       "    Age  SibSp  Parch   Ticket     Fare Cabin Embarked  \n",
       "0  34.5      0      0   330911   7.8292   NaN        Q  \n",
       "1  47.0      1      0   363272   7.0000   NaN        S  \n",
       "2  62.0      0      0   240276   9.6875   NaN        Q  \n",
       "3  27.0      0      0   315154   8.6625   NaN        S  \n",
       "4  22.0      1      1  3101298  12.2875   NaN        S  "
      ]
     },
     "execution_count": 7,
     "metadata": {},
     "output_type": "execute_result"
    }
   ],
   "source": [
    "df_test.head()"
   ]
  },
  {
   "cell_type": "code",
   "execution_count": 8,
   "metadata": {
    "execution": {
     "iopub.execute_input": "2021-06-05T16:28:30.977402Z",
     "iopub.status.busy": "2021-06-05T16:28:30.976742Z",
     "iopub.status.idle": "2021-06-05T16:28:30.982270Z",
     "shell.execute_reply": "2021-06-05T16:28:30.982660Z",
     "shell.execute_reply.started": "2021-06-05T15:01:33.885016Z"
    },
    "papermill": {
     "duration": 0.055529,
     "end_time": "2021-06-05T16:28:30.982814",
     "exception": false,
     "start_time": "2021-06-05T16:28:30.927285",
     "status": "completed"
    },
    "tags": []
   },
   "outputs": [
    {
     "data": {
      "text/plain": [
       "PassengerId      int64\n",
       "Survived         int64\n",
       "Pclass           int64\n",
       "Name            object\n",
       "Sex             object\n",
       "Age            float64\n",
       "SibSp            int64\n",
       "Parch            int64\n",
       "Ticket          object\n",
       "Fare           float64\n",
       "Cabin           object\n",
       "Embarked        object\n",
       "dtype: object"
      ]
     },
     "execution_count": 8,
     "metadata": {},
     "output_type": "execute_result"
    }
   ],
   "source": [
    "df_train.dtypes"
   ]
  },
  {
   "cell_type": "code",
   "execution_count": 9,
   "metadata": {
    "execution": {
     "iopub.execute_input": "2021-06-05T16:28:31.081450Z",
     "iopub.status.busy": "2021-06-05T16:28:31.080790Z",
     "iopub.status.idle": "2021-06-05T16:28:31.116445Z",
     "shell.execute_reply": "2021-06-05T16:28:31.115845Z",
     "shell.execute_reply.started": "2021-06-05T15:01:33.900303Z"
    },
    "papermill": {
     "duration": 0.085488,
     "end_time": "2021-06-05T16:28:31.116575",
     "exception": false,
     "start_time": "2021-06-05T16:28:31.031087",
     "status": "completed"
    },
    "tags": []
   },
   "outputs": [
    {
     "data": {
      "text/html": [
       "<div>\n",
       "<style scoped>\n",
       "    .dataframe tbody tr th:only-of-type {\n",
       "        vertical-align: middle;\n",
       "    }\n",
       "\n",
       "    .dataframe tbody tr th {\n",
       "        vertical-align: top;\n",
       "    }\n",
       "\n",
       "    .dataframe thead th {\n",
       "        text-align: right;\n",
       "    }\n",
       "</style>\n",
       "<table border=\"1\" class=\"dataframe\">\n",
       "  <thead>\n",
       "    <tr style=\"text-align: right;\">\n",
       "      <th></th>\n",
       "      <th>PassengerId</th>\n",
       "      <th>Survived</th>\n",
       "      <th>Pclass</th>\n",
       "      <th>Age</th>\n",
       "      <th>SibSp</th>\n",
       "      <th>Parch</th>\n",
       "      <th>Fare</th>\n",
       "    </tr>\n",
       "  </thead>\n",
       "  <tbody>\n",
       "    <tr>\n",
       "      <th>count</th>\n",
       "      <td>891.000000</td>\n",
       "      <td>891.000000</td>\n",
       "      <td>891.000000</td>\n",
       "      <td>714.000000</td>\n",
       "      <td>891.000000</td>\n",
       "      <td>891.000000</td>\n",
       "      <td>891.000000</td>\n",
       "    </tr>\n",
       "    <tr>\n",
       "      <th>mean</th>\n",
       "      <td>446.000000</td>\n",
       "      <td>0.383838</td>\n",
       "      <td>2.308642</td>\n",
       "      <td>29.699118</td>\n",
       "      <td>0.523008</td>\n",
       "      <td>0.381594</td>\n",
       "      <td>32.204208</td>\n",
       "    </tr>\n",
       "    <tr>\n",
       "      <th>std</th>\n",
       "      <td>257.353842</td>\n",
       "      <td>0.486592</td>\n",
       "      <td>0.836071</td>\n",
       "      <td>14.526497</td>\n",
       "      <td>1.102743</td>\n",
       "      <td>0.806057</td>\n",
       "      <td>49.693429</td>\n",
       "    </tr>\n",
       "    <tr>\n",
       "      <th>min</th>\n",
       "      <td>1.000000</td>\n",
       "      <td>0.000000</td>\n",
       "      <td>1.000000</td>\n",
       "      <td>0.420000</td>\n",
       "      <td>0.000000</td>\n",
       "      <td>0.000000</td>\n",
       "      <td>0.000000</td>\n",
       "    </tr>\n",
       "    <tr>\n",
       "      <th>25%</th>\n",
       "      <td>223.500000</td>\n",
       "      <td>0.000000</td>\n",
       "      <td>2.000000</td>\n",
       "      <td>20.125000</td>\n",
       "      <td>0.000000</td>\n",
       "      <td>0.000000</td>\n",
       "      <td>7.910400</td>\n",
       "    </tr>\n",
       "    <tr>\n",
       "      <th>50%</th>\n",
       "      <td>446.000000</td>\n",
       "      <td>0.000000</td>\n",
       "      <td>3.000000</td>\n",
       "      <td>28.000000</td>\n",
       "      <td>0.000000</td>\n",
       "      <td>0.000000</td>\n",
       "      <td>14.454200</td>\n",
       "    </tr>\n",
       "    <tr>\n",
       "      <th>75%</th>\n",
       "      <td>668.500000</td>\n",
       "      <td>1.000000</td>\n",
       "      <td>3.000000</td>\n",
       "      <td>38.000000</td>\n",
       "      <td>1.000000</td>\n",
       "      <td>0.000000</td>\n",
       "      <td>31.000000</td>\n",
       "    </tr>\n",
       "    <tr>\n",
       "      <th>max</th>\n",
       "      <td>891.000000</td>\n",
       "      <td>1.000000</td>\n",
       "      <td>3.000000</td>\n",
       "      <td>80.000000</td>\n",
       "      <td>8.000000</td>\n",
       "      <td>6.000000</td>\n",
       "      <td>512.329200</td>\n",
       "    </tr>\n",
       "  </tbody>\n",
       "</table>\n",
       "</div>"
      ],
      "text/plain": [
       "       PassengerId    Survived      Pclass         Age       SibSp  \\\n",
       "count   891.000000  891.000000  891.000000  714.000000  891.000000   \n",
       "mean    446.000000    0.383838    2.308642   29.699118    0.523008   \n",
       "std     257.353842    0.486592    0.836071   14.526497    1.102743   \n",
       "min       1.000000    0.000000    1.000000    0.420000    0.000000   \n",
       "25%     223.500000    0.000000    2.000000   20.125000    0.000000   \n",
       "50%     446.000000    0.000000    3.000000   28.000000    0.000000   \n",
       "75%     668.500000    1.000000    3.000000   38.000000    1.000000   \n",
       "max     891.000000    1.000000    3.000000   80.000000    8.000000   \n",
       "\n",
       "            Parch        Fare  \n",
       "count  891.000000  891.000000  \n",
       "mean     0.381594   32.204208  \n",
       "std      0.806057   49.693429  \n",
       "min      0.000000    0.000000  \n",
       "25%      0.000000    7.910400  \n",
       "50%      0.000000   14.454200  \n",
       "75%      0.000000   31.000000  \n",
       "max      6.000000  512.329200  "
      ]
     },
     "execution_count": 9,
     "metadata": {},
     "output_type": "execute_result"
    }
   ],
   "source": [
    "df_train.describe()"
   ]
  },
  {
   "cell_type": "code",
   "execution_count": 10,
   "metadata": {
    "execution": {
     "iopub.execute_input": "2021-06-05T16:28:31.214869Z",
     "iopub.status.busy": "2021-06-05T16:28:31.214230Z",
     "iopub.status.idle": "2021-06-05T16:28:31.237175Z",
     "shell.execute_reply": "2021-06-05T16:28:31.237580Z",
     "shell.execute_reply.started": "2021-06-05T15:01:33.941084Z"
    },
    "papermill": {
     "duration": 0.073882,
     "end_time": "2021-06-05T16:28:31.237747",
     "exception": false,
     "start_time": "2021-06-05T16:28:31.163865",
     "status": "completed"
    },
    "tags": []
   },
   "outputs": [
    {
     "data": {
      "text/html": [
       "<div>\n",
       "<style scoped>\n",
       "    .dataframe tbody tr th:only-of-type {\n",
       "        vertical-align: middle;\n",
       "    }\n",
       "\n",
       "    .dataframe tbody tr th {\n",
       "        vertical-align: top;\n",
       "    }\n",
       "\n",
       "    .dataframe thead th {\n",
       "        text-align: right;\n",
       "    }\n",
       "</style>\n",
       "<table border=\"1\" class=\"dataframe\">\n",
       "  <thead>\n",
       "    <tr style=\"text-align: right;\">\n",
       "      <th></th>\n",
       "      <th>PassengerId</th>\n",
       "      <th>Pclass</th>\n",
       "      <th>Age</th>\n",
       "      <th>SibSp</th>\n",
       "      <th>Parch</th>\n",
       "      <th>Fare</th>\n",
       "    </tr>\n",
       "  </thead>\n",
       "  <tbody>\n",
       "    <tr>\n",
       "      <th>count</th>\n",
       "      <td>418.000000</td>\n",
       "      <td>418.000000</td>\n",
       "      <td>332.000000</td>\n",
       "      <td>418.000000</td>\n",
       "      <td>418.000000</td>\n",
       "      <td>417.000000</td>\n",
       "    </tr>\n",
       "    <tr>\n",
       "      <th>mean</th>\n",
       "      <td>1100.500000</td>\n",
       "      <td>2.265550</td>\n",
       "      <td>30.272590</td>\n",
       "      <td>0.447368</td>\n",
       "      <td>0.392344</td>\n",
       "      <td>35.627188</td>\n",
       "    </tr>\n",
       "    <tr>\n",
       "      <th>std</th>\n",
       "      <td>120.810458</td>\n",
       "      <td>0.841838</td>\n",
       "      <td>14.181209</td>\n",
       "      <td>0.896760</td>\n",
       "      <td>0.981429</td>\n",
       "      <td>55.907576</td>\n",
       "    </tr>\n",
       "    <tr>\n",
       "      <th>min</th>\n",
       "      <td>892.000000</td>\n",
       "      <td>1.000000</td>\n",
       "      <td>0.170000</td>\n",
       "      <td>0.000000</td>\n",
       "      <td>0.000000</td>\n",
       "      <td>0.000000</td>\n",
       "    </tr>\n",
       "    <tr>\n",
       "      <th>25%</th>\n",
       "      <td>996.250000</td>\n",
       "      <td>1.000000</td>\n",
       "      <td>21.000000</td>\n",
       "      <td>0.000000</td>\n",
       "      <td>0.000000</td>\n",
       "      <td>7.895800</td>\n",
       "    </tr>\n",
       "    <tr>\n",
       "      <th>50%</th>\n",
       "      <td>1100.500000</td>\n",
       "      <td>3.000000</td>\n",
       "      <td>27.000000</td>\n",
       "      <td>0.000000</td>\n",
       "      <td>0.000000</td>\n",
       "      <td>14.454200</td>\n",
       "    </tr>\n",
       "    <tr>\n",
       "      <th>75%</th>\n",
       "      <td>1204.750000</td>\n",
       "      <td>3.000000</td>\n",
       "      <td>39.000000</td>\n",
       "      <td>1.000000</td>\n",
       "      <td>0.000000</td>\n",
       "      <td>31.500000</td>\n",
       "    </tr>\n",
       "    <tr>\n",
       "      <th>max</th>\n",
       "      <td>1309.000000</td>\n",
       "      <td>3.000000</td>\n",
       "      <td>76.000000</td>\n",
       "      <td>8.000000</td>\n",
       "      <td>9.000000</td>\n",
       "      <td>512.329200</td>\n",
       "    </tr>\n",
       "  </tbody>\n",
       "</table>\n",
       "</div>"
      ],
      "text/plain": [
       "       PassengerId      Pclass         Age       SibSp       Parch        Fare\n",
       "count   418.000000  418.000000  332.000000  418.000000  418.000000  417.000000\n",
       "mean   1100.500000    2.265550   30.272590    0.447368    0.392344   35.627188\n",
       "std     120.810458    0.841838   14.181209    0.896760    0.981429   55.907576\n",
       "min     892.000000    1.000000    0.170000    0.000000    0.000000    0.000000\n",
       "25%     996.250000    1.000000   21.000000    0.000000    0.000000    7.895800\n",
       "50%    1100.500000    3.000000   27.000000    0.000000    0.000000   14.454200\n",
       "75%    1204.750000    3.000000   39.000000    1.000000    0.000000   31.500000\n",
       "max    1309.000000    3.000000   76.000000    8.000000    9.000000  512.329200"
      ]
     },
     "execution_count": 10,
     "metadata": {},
     "output_type": "execute_result"
    }
   ],
   "source": [
    "df_test.describe()"
   ]
  },
  {
   "cell_type": "code",
   "execution_count": 11,
   "metadata": {
    "execution": {
     "iopub.execute_input": "2021-06-05T16:28:31.335921Z",
     "iopub.status.busy": "2021-06-05T16:28:31.335330Z",
     "iopub.status.idle": "2021-06-05T16:28:31.363367Z",
     "shell.execute_reply": "2021-06-05T16:28:31.362816Z",
     "shell.execute_reply.started": "2021-06-05T15:01:33.972500Z"
    },
    "papermill": {
     "duration": 0.078142,
     "end_time": "2021-06-05T16:28:31.363492",
     "exception": false,
     "start_time": "2021-06-05T16:28:31.285350",
     "status": "completed"
    },
    "tags": []
   },
   "outputs": [
    {
     "data": {
      "text/plain": [
       "PassengerId    0.000000\n",
       "Survived       0.000000\n",
       "Pclass         0.000000\n",
       "Name           0.000000\n",
       "Sex            0.000000\n",
       "Age            0.198653\n",
       "SibSp          0.000000\n",
       "Parch          0.000000\n",
       "Ticket         0.000000\n",
       "Fare           0.000000\n",
       "Cabin          0.771044\n",
       "Embarked       0.002245\n",
       "dtype: float64"
      ]
     },
     "execution_count": 11,
     "metadata": {},
     "output_type": "execute_result"
    }
   ],
   "source": [
    "df_train.isnull().sum()/df_train.shape[0]"
   ]
  },
  {
   "cell_type": "code",
   "execution_count": 12,
   "metadata": {
    "execution": {
     "iopub.execute_input": "2021-06-05T16:28:31.469806Z",
     "iopub.status.busy": "2021-06-05T16:28:31.468917Z",
     "iopub.status.idle": "2021-06-05T16:28:31.473232Z",
     "shell.execute_reply": "2021-06-05T16:28:31.472755Z",
     "shell.execute_reply.started": "2021-06-05T15:01:33.984650Z"
    },
    "papermill": {
     "duration": 0.060934,
     "end_time": "2021-06-05T16:28:31.473347",
     "exception": false,
     "start_time": "2021-06-05T16:28:31.412413",
     "status": "completed"
    },
    "tags": []
   },
   "outputs": [
    {
     "data": {
      "text/plain": [
       "PassengerId    0.000000\n",
       "Pclass         0.000000\n",
       "Name           0.000000\n",
       "Sex            0.000000\n",
       "Age            0.205742\n",
       "SibSp          0.000000\n",
       "Parch          0.000000\n",
       "Ticket         0.000000\n",
       "Fare           0.002392\n",
       "Cabin          0.782297\n",
       "Embarked       0.000000\n",
       "dtype: float64"
      ]
     },
     "execution_count": 12,
     "metadata": {},
     "output_type": "execute_result"
    }
   ],
   "source": [
    "df_test.isnull().sum()/df_test.shape[0]"
   ]
  },
  {
   "cell_type": "code",
   "execution_count": 13,
   "metadata": {
    "execution": {
     "iopub.execute_input": "2021-06-05T16:28:31.576483Z",
     "iopub.status.busy": "2021-06-05T16:28:31.575790Z",
     "iopub.status.idle": "2021-06-05T16:28:31.833480Z",
     "shell.execute_reply": "2021-06-05T16:28:31.832951Z",
     "shell.execute_reply.started": "2021-06-05T15:01:33.995425Z"
    },
    "papermill": {
     "duration": 0.312481,
     "end_time": "2021-06-05T16:28:31.833626",
     "exception": false,
     "start_time": "2021-06-05T16:28:31.521145",
     "status": "completed"
    },
    "tags": []
   },
   "outputs": [
    {
     "data": {
      "image/png": "[encoded data removed]",
      "text/plain": [
       "<Figure size 1296x576 with 2 Axes>"
      ]
     },
     "metadata": {
      "needs_background": "light"
     },
     "output_type": "display_data"
    }
   ],
   "source": [
    "f, ax = plt.subplots(1,2,figsize=(18,8))\n",
    "\n",
    "df_train['Survived'].value_counts().plot.pie(explode=[0,0.1], autopct='%1.1f%%', ax=ax[0],shadow=True)\n",
    "ax[0].set_title('Pie plot - Survived')\n",
    "ax[0].set_ylabel('')\n",
    "sns.countplot('Survived', data=df_train, ax=ax[1])\n",
    "ax[1].set_title('Count Plot - Survived')\n",
    "\n",
    "plt.show()"
   ]
  },
  {
   "cell_type": "markdown",
   "metadata": {
    "papermill": {
     "duration": 0.048546,
     "end_time": "2021-06-05T16:28:31.932845",
     "exception": false,
     "start_time": "2021-06-05T16:28:31.884299",
     "status": "completed"
    },
    "tags": []
   },
   "source": [
    "# 02 탐색적 데이터 분석 Exploratory Data Analysis\n",
    "## 2.1 Pclass"
   ]
  },
  {
   "cell_type": "code",
   "execution_count": 14,
   "metadata": {
    "execution": {
     "iopub.execute_input": "2021-06-05T16:28:32.043781Z",
     "iopub.status.busy": "2021-06-05T16:28:32.042798Z",
     "iopub.status.idle": "2021-06-05T16:28:32.047174Z",
     "shell.execute_reply": "2021-06-05T16:28:32.046614Z",
     "shell.execute_reply.started": "2021-06-05T15:01:34.209305Z"
    },
    "papermill": {
     "duration": 0.065394,
     "end_time": "2021-06-05T16:28:32.047290",
     "exception": false,
     "start_time": "2021-06-05T16:28:31.981896",
     "status": "completed"
    },
    "tags": []
   },
   "outputs": [
    {
     "data": {
      "text/html": [
       "<div>\n",
       "<style scoped>\n",
       "    .dataframe tbody tr th:only-of-type {\n",
       "        vertical-align: middle;\n",
       "    }\n",
       "\n",
       "    .dataframe tbody tr th {\n",
       "        vertical-align: top;\n",
       "    }\n",
       "\n",
       "    .dataframe thead th {\n",
       "        text-align: right;\n",
       "    }\n",
       "</style>\n",
       "<table border=\"1\" class=\"dataframe\">\n",
       "  <thead>\n",
       "    <tr style=\"text-align: right;\">\n",
       "      <th></th>\n",
       "      <th>Survived</th>\n",
       "    </tr>\n",
       "    <tr>\n",
       "      <th>Pclass</th>\n",
       "      <th></th>\n",
       "    </tr>\n",
       "  </thead>\n",
       "  <tbody>\n",
       "    <tr>\n",
       "      <th>1</th>\n",
       "      <td>216</td>\n",
       "    </tr>\n",
       "    <tr>\n",
       "      <th>2</th>\n",
       "      <td>184</td>\n",
       "    </tr>\n",
       "    <tr>\n",
       "      <th>3</th>\n",
       "      <td>491</td>\n",
       "    </tr>\n",
       "  </tbody>\n",
       "</table>\n",
       "</div>"
      ],
      "text/plain": [
       "        Survived\n",
       "Pclass          \n",
       "1            216\n",
       "2            184\n",
       "3            491"
      ]
     },
     "execution_count": 14,
     "metadata": {},
     "output_type": "execute_result"
    }
   ],
   "source": [
    "#pclass 그룹 별 데이터 카운트\n",
    "df_train[['Pclass','Survived']].groupby(['Pclass'], as_index=True).count()"
   ]
  },
  {
   "cell_type": "code",
   "execution_count": 15,
   "metadata": {
    "execution": {
     "iopub.execute_input": "2021-06-05T16:28:32.159291Z",
     "iopub.status.busy": "2021-06-05T16:28:32.158593Z",
     "iopub.status.idle": "2021-06-05T16:28:32.162605Z",
     "shell.execute_reply": "2021-06-05T16:28:32.163063Z",
     "shell.execute_reply.started": "2021-06-05T15:01:34.226216Z"
    },
    "papermill": {
     "duration": 0.066427,
     "end_time": "2021-06-05T16:28:32.163237",
     "exception": false,
     "start_time": "2021-06-05T16:28:32.096810",
     "status": "completed"
    },
    "tags": []
   },
   "outputs": [
    {
     "data": {
      "text/html": [
       "<div>\n",
       "<style scoped>\n",
       "    .dataframe tbody tr th:only-of-type {\n",
       "        vertical-align: middle;\n",
       "    }\n",
       "\n",
       "    .dataframe tbody tr th {\n",
       "        vertical-align: top;\n",
       "    }\n",
       "\n",
       "    .dataframe thead th {\n",
       "        text-align: right;\n",
       "    }\n",
       "</style>\n",
       "<table border=\"1\" class=\"dataframe\">\n",
       "  <thead>\n",
       "    <tr style=\"text-align: right;\">\n",
       "      <th></th>\n",
       "      <th>Survived</th>\n",
       "    </tr>\n",
       "    <tr>\n",
       "      <th>Pclass</th>\n",
       "      <th></th>\n",
       "    </tr>\n",
       "  </thead>\n",
       "  <tbody>\n",
       "    <tr>\n",
       "      <th>1</th>\n",
       "      <td>136</td>\n",
       "    </tr>\n",
       "    <tr>\n",
       "      <th>2</th>\n",
       "      <td>87</td>\n",
       "    </tr>\n",
       "    <tr>\n",
       "      <th>3</th>\n",
       "      <td>119</td>\n",
       "    </tr>\n",
       "  </tbody>\n",
       "</table>\n",
       "</div>"
      ],
      "text/plain": [
       "        Survived\n",
       "Pclass          \n",
       "1            136\n",
       "2             87\n",
       "3            119"
      ]
     },
     "execution_count": 15,
     "metadata": {},
     "output_type": "execute_result"
    }
   ],
   "source": [
    "df_train[['Pclass','Survived']].groupby(['Pclass'], as_index=True).sum()"
   ]
  },
  {
   "cell_type": "code",
   "execution_count": 16,
   "metadata": {
    "execution": {
     "iopub.execute_input": "2021-06-05T16:28:32.273218Z",
     "iopub.status.busy": "2021-06-05T16:28:32.272582Z",
     "iopub.status.idle": "2021-06-05T16:28:32.323341Z",
     "shell.execute_reply": "2021-06-05T16:28:32.323783Z",
     "shell.execute_reply.started": "2021-06-05T15:01:34.243173Z"
    },
    "papermill": {
     "duration": 0.109359,
     "end_time": "2021-06-05T16:28:32.323938",
     "exception": false,
     "start_time": "2021-06-05T16:28:32.214579",
     "status": "completed"
    },
    "tags": []
   },
   "outputs": [
    {
     "data": {
      "text/html": [
       "<div>\n",
       "<style scoped>\n",
       "    .dataframe tbody tr th:only-of-type {\n",
       "        vertical-align: middle;\n",
       "    }\n",
       "\n",
       "    .dataframe tbody tr th {\n",
       "        vertical-align: top;\n",
       "    }\n",
       "\n",
       "    .dataframe thead th {\n",
       "        text-align: right;\n",
       "    }\n",
       "</style>\n",
       "<table border=\"1\" class=\"dataframe\">\n",
       "  <thead>\n",
       "    <tr style=\"text-align: right;\">\n",
       "      <th>Survived</th>\n",
       "      <th>0</th>\n",
       "      <th>1</th>\n",
       "      <th>All</th>\n",
       "    </tr>\n",
       "    <tr>\n",
       "      <th>Pclass</th>\n",
       "      <th></th>\n",
       "      <th></th>\n",
       "      <th></th>\n",
       "    </tr>\n",
       "  </thead>\n",
       "  <tbody>\n",
       "    <tr>\n",
       "      <th>1</th>\n",
       "      <td>80</td>\n",
       "      <td>136</td>\n",
       "      <td>216</td>\n",
       "    </tr>\n",
       "    <tr>\n",
       "      <th>2</th>\n",
       "      <td>97</td>\n",
       "      <td>87</td>\n",
       "      <td>184</td>\n",
       "    </tr>\n",
       "    <tr>\n",
       "      <th>3</th>\n",
       "      <td>372</td>\n",
       "      <td>119</td>\n",
       "      <td>491</td>\n",
       "    </tr>\n",
       "    <tr>\n",
       "      <th>All</th>\n",
       "      <td>549</td>\n",
       "      <td>342</td>\n",
       "      <td>891</td>\n",
       "    </tr>\n",
       "  </tbody>\n",
       "</table>\n",
       "</div>"
      ],
      "text/plain": [
       "Survived    0    1  All\n",
       "Pclass                 \n",
       "1          80  136  216\n",
       "2          97   87  184\n",
       "3         372  119  491\n",
       "All       549  342  891"
      ]
     },
     "execution_count": 16,
     "metadata": {},
     "output_type": "execute_result"
    }
   ],
   "source": [
    "pd.crosstab(df_train['Pclass'], df_train['Survived'], margins=True)"
   ]
  },
  {
   "cell_type": "code",
   "execution_count": 17,
   "metadata": {
    "execution": {
     "iopub.execute_input": "2021-06-05T16:28:32.435642Z",
     "iopub.status.busy": "2021-06-05T16:28:32.431811Z",
     "iopub.status.idle": "2021-06-05T16:28:32.440134Z",
     "shell.execute_reply": "2021-06-05T16:28:32.440566Z",
     "shell.execute_reply.started": "2021-06-05T15:01:34.297191Z"
    },
    "papermill": {
     "duration": 0.066586,
     "end_time": "2021-06-05T16:28:32.440717",
     "exception": false,
     "start_time": "2021-06-05T16:28:32.374131",
     "status": "completed"
    },
    "tags": []
   },
   "outputs": [
    {
     "data": {
      "text/html": [
       "<div>\n",
       "<style scoped>\n",
       "    .dataframe tbody tr th:only-of-type {\n",
       "        vertical-align: middle;\n",
       "    }\n",
       "\n",
       "    .dataframe tbody tr th {\n",
       "        vertical-align: top;\n",
       "    }\n",
       "\n",
       "    .dataframe thead th {\n",
       "        text-align: right;\n",
       "    }\n",
       "</style>\n",
       "<table border=\"1\" class=\"dataframe\">\n",
       "  <thead>\n",
       "    <tr style=\"text-align: right;\">\n",
       "      <th></th>\n",
       "      <th>Survived</th>\n",
       "    </tr>\n",
       "    <tr>\n",
       "      <th>Pclass</th>\n",
       "      <th></th>\n",
       "    </tr>\n",
       "  </thead>\n",
       "  <tbody>\n",
       "    <tr>\n",
       "      <th>1</th>\n",
       "      <td>0.629630</td>\n",
       "    </tr>\n",
       "    <tr>\n",
       "      <th>2</th>\n",
       "      <td>0.472826</td>\n",
       "    </tr>\n",
       "    <tr>\n",
       "      <th>3</th>\n",
       "      <td>0.242363</td>\n",
       "    </tr>\n",
       "  </tbody>\n",
       "</table>\n",
       "</div>"
      ],
      "text/plain": [
       "        Survived\n",
       "Pclass          \n",
       "1       0.629630\n",
       "2       0.472826\n",
       "3       0.242363"
      ]
     },
     "execution_count": 17,
     "metadata": {},
     "output_type": "execute_result"
    }
   ],
   "source": [
    "df_train[['Pclass','Survived']].groupby(['Pclass'], as_index=True).mean()"
   ]
  },
  {
   "cell_type": "code",
   "execution_count": 18,
   "metadata": {
    "execution": {
     "iopub.execute_input": "2021-06-05T16:28:32.557728Z",
     "iopub.status.busy": "2021-06-05T16:28:32.552959Z",
     "iopub.status.idle": "2021-06-05T16:28:32.683300Z",
     "shell.execute_reply": "2021-06-05T16:28:32.682662Z",
     "shell.execute_reply.started": "2021-06-05T15:01:34.311665Z"
    },
    "papermill": {
     "duration": 0.192338,
     "end_time": "2021-06-05T16:28:32.683428",
     "exception": false,
     "start_time": "2021-06-05T16:28:32.491090",
     "status": "completed"
    },
    "tags": []
   },
   "outputs": [
    {
     "data": {
      "text/plain": [
       "<matplotlib.axes._subplots.AxesSubplot at 0x7f29137d0610>"
      ]
     },
     "execution_count": 18,
     "metadata": {},
     "output_type": "execute_result"
    },
    {
     "data": {
      "image/png": "[encoded data removed]",
      "text/plain": [
       "<Figure size 432x288 with 1 Axes>"
      ]
     },
     "metadata": {
      "needs_background": "light"
     },
     "output_type": "display_data"
    }
   ],
   "source": [
    "df_train[['Pclass','Survived']].groupby(['Pclass'], as_index=True).mean().plot.bar()"
   ]
  },
  {
   "cell_type": "code",
   "execution_count": 19,
   "metadata": {
    "execution": {
     "iopub.execute_input": "2021-06-05T16:28:32.801012Z",
     "iopub.status.busy": "2021-06-05T16:28:32.800133Z",
     "iopub.status.idle": "2021-06-05T16:28:33.046482Z",
     "shell.execute_reply": "2021-06-05T16:28:33.045933Z",
     "shell.execute_reply.started": "2021-06-05T15:01:34.469593Z"
    },
    "papermill": {
     "duration": 0.310123,
     "end_time": "2021-06-05T16:28:33.046600",
     "exception": false,
     "start_time": "2021-06-05T16:28:32.736477",
     "status": "completed"
    },
    "tags": []
   },
   "outputs": [
    {
     "data": {
      "text/plain": [
       "<function matplotlib.pyplot.show(*args, **kw)>"
      ]
     },
     "execution_count": 19,
     "metadata": {},
     "output_type": "execute_result"
    },
    {
     "data": {
      "image/png": "[encoded data removed]",
      "text/plain": [
       "<Figure size 1296x576 with 2 Axes>"
      ]
     },
     "metadata": {
      "needs_background": "light"
     },
     "output_type": "display_data"
    }
   ],
   "source": [
    "y_position = 1.02\n",
    "f, ax = plt.subplots(1,2,figsize=(18,8))\n",
    "df_train['Pclass'].value_counts().plot.bar(color=['orange','yellow','white'], ax=ax[0])\n",
    "ax[0].set_title('Num of Passengers by Pclass', y=y_position)\n",
    "ax[0].set_ylabel('Count')\n",
    "sns.countplot('Pclass', hue='Survived', data=df_train, ax=ax[1])\n",
    "ax[1].set_title('Pclass: Survived vs Dead', y=y_position)\n",
    "plt.show"
   ]
  },
  {
   "cell_type": "markdown",
   "metadata": {
    "papermill": {
     "duration": 0.051957,
     "end_time": "2021-06-05T16:28:33.152281",
     "exception": false,
     "start_time": "2021-06-05T16:28:33.100324",
     "status": "completed"
    },
    "tags": []
   },
   "source": [
    "## 2.2 Sex"
   ]
  },
  {
   "cell_type": "code",
   "execution_count": 20,
   "metadata": {
    "execution": {
     "iopub.execute_input": "2021-06-05T16:28:33.272062Z",
     "iopub.status.busy": "2021-06-05T16:28:33.270577Z",
     "iopub.status.idle": "2021-06-05T16:28:33.547511Z",
     "shell.execute_reply": "2021-06-05T16:28:33.547973Z",
     "shell.execute_reply.started": "2021-06-05T15:01:34.749772Z"
    },
    "papermill": {
     "duration": 0.342237,
     "end_time": "2021-06-05T16:28:33.548129",
     "exception": false,
     "start_time": "2021-06-05T16:28:33.205892",
     "status": "completed"
    },
    "tags": []
   },
   "outputs": [
    {
     "data": {
      "image/png": "[encoded data removed]",
      "text/plain": [
       "<Figure size 1296x576 with 2 Axes>"
      ]
     },
     "metadata": {
      "needs_background": "light"
     },
     "output_type": "display_data"
    }
   ],
   "source": [
    "f, ax = plt.subplots(1,2,figsize=(18,8))\n",
    "df_train[['Sex','Survived']].groupby(['Sex'], as_index=True).mean().plot.bar(ax=ax[0])\n",
    "ax[0].set_title('Survived vs Sex')\n",
    "sns.countplot('Sex', hue='Survived', data=df_train, ax=ax[1])\n",
    "ax[1].set_title('Sex: Survived vs Dead')\n",
    "plt.show()"
   ]
  },
  {
   "cell_type": "code",
   "execution_count": 21,
   "metadata": {
    "execution": {
     "iopub.execute_input": "2021-06-05T16:28:33.674014Z",
     "iopub.status.busy": "2021-06-05T16:28:33.670810Z",
     "iopub.status.idle": "2021-06-05T16:28:33.678414Z",
     "shell.execute_reply": "2021-06-05T16:28:33.677876Z",
     "shell.execute_reply.started": "2021-06-05T15:01:35.069947Z"
    },
    "papermill": {
     "duration": 0.074947,
     "end_time": "2021-06-05T16:28:33.678542",
     "exception": false,
     "start_time": "2021-06-05T16:28:33.603595",
     "status": "completed"
    },
    "tags": []
   },
   "outputs": [
    {
     "data": {
      "text/html": [
       "<div>\n",
       "<style scoped>\n",
       "    .dataframe tbody tr th:only-of-type {\n",
       "        vertical-align: middle;\n",
       "    }\n",
       "\n",
       "    .dataframe tbody tr th {\n",
       "        vertical-align: top;\n",
       "    }\n",
       "\n",
       "    .dataframe thead th {\n",
       "        text-align: right;\n",
       "    }\n",
       "</style>\n",
       "<table border=\"1\" class=\"dataframe\">\n",
       "  <thead>\n",
       "    <tr style=\"text-align: right;\">\n",
       "      <th></th>\n",
       "      <th>Sex</th>\n",
       "      <th>Survived</th>\n",
       "    </tr>\n",
       "  </thead>\n",
       "  <tbody>\n",
       "    <tr>\n",
       "      <th>0</th>\n",
       "      <td>female</td>\n",
       "      <td>0.742038</td>\n",
       "    </tr>\n",
       "    <tr>\n",
       "      <th>1</th>\n",
       "      <td>male</td>\n",
       "      <td>0.188908</td>\n",
       "    </tr>\n",
       "  </tbody>\n",
       "</table>\n",
       "</div>"
      ],
      "text/plain": [
       "      Sex  Survived\n",
       "0  female  0.742038\n",
       "1    male  0.188908"
      ]
     },
     "execution_count": 21,
     "metadata": {},
     "output_type": "execute_result"
    }
   ],
   "source": [
    "df_train[['Sex','Survived']].groupby(['Sex'], as_index=False).mean().sort_values(by='Survived', ascending=False)"
   ]
  },
  {
   "cell_type": "code",
   "execution_count": 22,
   "metadata": {
    "execution": {
     "iopub.execute_input": "2021-06-05T16:28:33.801882Z",
     "iopub.status.busy": "2021-06-05T16:28:33.793177Z",
     "iopub.status.idle": "2021-06-05T16:28:33.989866Z",
     "shell.execute_reply": "2021-06-05T16:28:33.989363Z",
     "shell.execute_reply.started": "2021-06-05T15:01:35.089258Z"
    },
    "papermill": {
     "duration": 0.257813,
     "end_time": "2021-06-05T16:28:33.990016",
     "exception": false,
     "start_time": "2021-06-05T16:28:33.732203",
     "status": "completed"
    },
    "tags": []
   },
   "outputs": [
    {
     "data": {
      "text/html": [
       "<style  type=\"text/css\" >\n",
       "#T_12624090_c61b_11eb_ae94_0242ac130202row0_col0,#T_12624090_c61b_11eb_ae94_0242ac130202row0_col2,#T_12624090_c61b_11eb_ae94_0242ac130202row1_col1{\n",
       "            background-color:  #ffff66;\n",
       "            color:  #000000;\n",
       "        }#T_12624090_c61b_11eb_ae94_0242ac130202row0_col1{\n",
       "            background-color:  #77bb66;\n",
       "            color:  #000000;\n",
       "        }#T_12624090_c61b_11eb_ae94_0242ac130202row1_col0{\n",
       "            background-color:  #2c9666;\n",
       "            color:  #000000;\n",
       "        }#T_12624090_c61b_11eb_ae94_0242ac130202row1_col2{\n",
       "            background-color:  #8bc566;\n",
       "            color:  #000000;\n",
       "        }#T_12624090_c61b_11eb_ae94_0242ac130202row2_col0,#T_12624090_c61b_11eb_ae94_0242ac130202row2_col1,#T_12624090_c61b_11eb_ae94_0242ac130202row2_col2{\n",
       "            background-color:  #008066;\n",
       "            color:  #f1f1f1;\n",
       "        }</style><table id=\"T_12624090_c61b_11eb_ae94_0242ac130202\" ><thead>    <tr>        <th class=\"index_name level0\" >Survived</th>        <th class=\"col_heading level0 col0\" >0</th>        <th class=\"col_heading level0 col1\" >1</th>        <th class=\"col_heading level0 col2\" >All</th>    </tr>    <tr>        <th class=\"index_name level0\" >Sex</th>        <th class=\"blank\" ></th>        <th class=\"blank\" ></th>        <th class=\"blank\" ></th>    </tr></thead><tbody>\n",
       "                <tr>\n",
       "                        <th id=\"T_12624090_c61b_11eb_ae94_0242ac130202level0_row0\" class=\"row_heading level0 row0\" >female</th>\n",
       "                        <td id=\"T_12624090_c61b_11eb_ae94_0242ac130202row0_col0\" class=\"data row0 col0\" >81</td>\n",
       "                        <td id=\"T_12624090_c61b_11eb_ae94_0242ac130202row0_col1\" class=\"data row0 col1\" >233</td>\n",
       "                        <td id=\"T_12624090_c61b_11eb_ae94_0242ac130202row0_col2\" class=\"data row0 col2\" >314</td>\n",
       "            </tr>\n",
       "            <tr>\n",
       "                        <th id=\"T_12624090_c61b_11eb_ae94_0242ac130202level0_row1\" class=\"row_heading level0 row1\" >male</th>\n",
       "                        <td id=\"T_12624090_c61b_11eb_ae94_0242ac130202row1_col0\" class=\"data row1 col0\" >468</td>\n",
       "                        <td id=\"T_12624090_c61b_11eb_ae94_0242ac130202row1_col1\" class=\"data row1 col1\" >109</td>\n",
       "                        <td id=\"T_12624090_c61b_11eb_ae94_0242ac130202row1_col2\" class=\"data row1 col2\" >577</td>\n",
       "            </tr>\n",
       "            <tr>\n",
       "                        <th id=\"T_12624090_c61b_11eb_ae94_0242ac130202level0_row2\" class=\"row_heading level0 row2\" >All</th>\n",
       "                        <td id=\"T_12624090_c61b_11eb_ae94_0242ac130202row2_col0\" class=\"data row2 col0\" >549</td>\n",
       "                        <td id=\"T_12624090_c61b_11eb_ae94_0242ac130202row2_col1\" class=\"data row2 col1\" >342</td>\n",
       "                        <td id=\"T_12624090_c61b_11eb_ae94_0242ac130202row2_col2\" class=\"data row2 col2\" >891</td>\n",
       "            </tr>\n",
       "    </tbody></table>"
      ],
      "text/plain": [
       "<pandas.io.formats.style.Styler at 0x7f2913a1e050>"
      ]
     },
     "execution_count": 22,
     "metadata": {},
     "output_type": "execute_result"
    }
   ],
   "source": [
    "pd.crosstab(df_train['Sex'],df_train['Survived'], margins=True).style.background_gradient(cmap='summer_r')"
   ]
  },
  {
   "cell_type": "markdown",
   "metadata": {
    "papermill": {
     "duration": 0.053304,
     "end_time": "2021-06-05T16:28:34.098941",
     "exception": false,
     "start_time": "2021-06-05T16:28:34.045637",
     "status": "completed"
    },
    "tags": []
   },
   "source": [
    "## 2.3 Both Sex and Pclass"
   ]
  },
  {
   "cell_type": "code",
   "execution_count": 23,
   "metadata": {
    "execution": {
     "iopub.execute_input": "2021-06-05T16:28:34.215623Z",
     "iopub.status.busy": "2021-06-05T16:28:34.215014Z",
     "iopub.status.idle": "2021-06-05T16:28:34.676136Z",
     "shell.execute_reply": "2021-06-05T16:28:34.675559Z",
     "shell.execute_reply.started": "2021-06-05T15:01:35.149004Z"
    },
    "papermill": {
     "duration": 0.522458,
     "end_time": "2021-06-05T16:28:34.676270",
     "exception": false,
     "start_time": "2021-06-05T16:28:34.153812",
     "status": "completed"
    },
    "tags": []
   },
   "outputs": [
    {
     "data": {
      "text/plain": [
       "<seaborn.axisgrid.FacetGrid at 0x7f29136eb450>"
      ]
     },
     "execution_count": 23,
     "metadata": {},
     "output_type": "execute_result"
    },
    {
     "data": {
      "image/png": "[encoded data removed]",
      "text/plain": [
       "<Figure size 764.275x432 with 1 Axes>"
      ]
     },
     "metadata": {
      "needs_background": "light"
     },
     "output_type": "display_data"
    }
   ],
   "source": [
    "sns.factorplot('Pclass','Survived', hue='Sex', data=df_train, size=6, aspect=1.5)"
   ]
  },
  {
   "cell_type": "markdown",
   "metadata": {
    "papermill": {
     "duration": 0.060585,
     "end_time": "2021-06-05T16:28:34.796969",
     "exception": false,
     "start_time": "2021-06-05T16:28:34.736384",
     "status": "completed"
    },
    "tags": []
   },
   "source": [
    "- 모든 클래스에서 female 이 살 확률이 male 이 살 확률 보다 높다.\n",
    "- 또한 남녀 상관없이 클래스가 높을수록 살 확률이 높다.\n",
    "- 위 그래프는 hue 대신 column으로 하면 아래와 같아진다."
   ]
  },
  {
   "cell_type": "code",
   "execution_count": 24,
   "metadata": {
    "execution": {
     "iopub.execute_input": "2021-06-05T16:28:34.926887Z",
     "iopub.status.busy": "2021-06-05T16:28:34.920544Z",
     "iopub.status.idle": "2021-06-05T16:28:35.661796Z",
     "shell.execute_reply": "2021-06-05T16:28:35.661199Z",
     "shell.execute_reply.started": "2021-06-05T15:01:35.688073Z"
    },
    "papermill": {
     "duration": 0.805591,
     "end_time": "2021-06-05T16:28:35.661917",
     "exception": false,
     "start_time": "2021-06-05T16:28:34.856326",
     "status": "completed"
    },
    "tags": []
   },
   "outputs": [
    {
     "data": {
      "text/plain": [
       "<seaborn.axisgrid.FacetGrid at 0x7f29138a6390>"
      ]
     },
     "execution_count": 24,
     "metadata": {},
     "output_type": "execute_result"
    },
    {
     "data": {
      "image/png": "[encoded data removed]",
      "text/plain": [
       "<Figure size 1944x648 with 3 Axes>"
      ]
     },
     "metadata": {
      "needs_background": "light"
     },
     "output_type": "display_data"
    }
   ],
   "source": [
    "sns.factorplot(x='Sex', y='Survived', col='Pclass', data=df_train, satureation=.5,size=9,aspect=1)"
   ]
  },
  {
   "cell_type": "markdown",
   "metadata": {
    "papermill": {
     "duration": 0.056857,
     "end_time": "2021-06-05T16:28:35.776203",
     "exception": false,
     "start_time": "2021-06-05T16:28:35.719346",
     "status": "completed"
    },
    "tags": []
   },
   "source": [
    "## 2.4 Age"
   ]
  },
  {
   "cell_type": "code",
   "execution_count": 25,
   "metadata": {
    "execution": {
     "iopub.execute_input": "2021-06-05T16:28:35.961474Z",
     "iopub.status.busy": "2021-06-05T16:28:35.960788Z",
     "iopub.status.idle": "2021-06-05T16:28:35.965798Z",
     "shell.execute_reply": "2021-06-05T16:28:35.965314Z",
     "shell.execute_reply.started": "2021-06-05T15:01:36.540767Z"
    },
    "papermill": {
     "duration": 0.068612,
     "end_time": "2021-06-05T16:28:35.965926",
     "exception": false,
     "start_time": "2021-06-05T16:28:35.897314",
     "status": "completed"
    },
    "tags": []
   },
   "outputs": [
    {
     "name": "stdout",
     "output_type": "stream",
     "text": [
      "most aged passenger: 80.0 Years\n",
      "most young passenger: 0.4 Years\n",
      "average passenger age: 29.7 Years\n"
     ]
    }
   ],
   "source": [
    "print(\"most aged passenger: {:.1f} Years\".format(df_train['Age'].max()))\n",
    "print(\"most young passenger: {:.1f} Years\".format(df_train['Age'].min()))\n",
    "print(\"average passenger age: {:.1f} Years\".format(df_train['Age'].mean()))"
   ]
  },
  {
   "cell_type": "code",
   "execution_count": 26,
   "metadata": {
    "execution": {
     "iopub.execute_input": "2021-06-05T16:28:36.096750Z",
     "iopub.status.busy": "2021-06-05T16:28:36.095297Z",
     "iopub.status.idle": "2021-06-05T16:28:36.339877Z",
     "shell.execute_reply": "2021-06-05T16:28:36.339297Z",
     "shell.execute_reply.started": "2021-06-05T15:01:36.549711Z"
    },
    "papermill": {
     "duration": 0.313951,
     "end_time": "2021-06-05T16:28:36.339989",
     "exception": false,
     "start_time": "2021-06-05T16:28:36.026038",
     "status": "completed"
    },
    "tags": []
   },
   "outputs": [
    {
     "data": {
      "image/png": "[encoded data removed]",
      "text/plain": [
       "<Figure size 648x360 with 1 Axes>"
      ]
     },
     "metadata": {
      "needs_background": "light"
     },
     "output_type": "display_data"
    }
   ],
   "source": [
    "fig, ax = plt.subplots(1,1,figsize=(9,5))\n",
    "sns.kdeplot(df_train[df_train['Survived'] == 1]['Age'], ax=ax)\n",
    "sns.kdeplot(df_train[df_train['Survived'] == 0]['Age'], ax=ax)\n",
    "plt.legend(['Survived == 1', 'survived == 0'])\n",
    "plt.show()"
   ]
  },
  {
   "cell_type": "code",
   "execution_count": 27,
   "metadata": {
    "execution": {
     "iopub.execute_input": "2021-06-05T16:28:36.473194Z",
     "iopub.status.busy": "2021-06-05T16:28:36.471576Z",
     "iopub.status.idle": "2021-06-05T16:28:36.815658Z",
     "shell.execute_reply": "2021-06-05T16:28:36.816130Z",
     "shell.execute_reply.started": "2021-06-05T15:01:36.839824Z"
    },
    "papermill": {
     "duration": 0.417084,
     "end_time": "2021-06-05T16:28:36.816337",
     "exception": false,
     "start_time": "2021-06-05T16:28:36.399253",
     "status": "completed"
    },
    "tags": []
   },
   "outputs": [
    {
     "data": {
      "text/plain": [
       "<matplotlib.legend.Legend at 0x7f291309cbd0>"
      ]
     },
     "execution_count": 27,
     "metadata": {},
     "output_type": "execute_result"
    },
    {
     "data": {
      "image/png": "[encoded data removed]",
      "text/plain": [
       "<Figure size 576x432 with 1 Axes>"
      ]
     },
     "metadata": {
      "needs_background": "light"
     },
     "output_type": "display_data"
    }
   ],
   "source": [
    "#Age distribution with classes\n",
    "plt.figure(figsize=(8,6))\n",
    "df_train['Age'][df_train['Pclass'] == 1].plot(kind='kde')\n",
    "df_train['Age'][df_train['Pclass'] == 2].plot(kind='kde')\n",
    "df_train['Age'][df_train['Pclass'] == 3].plot(kind='kde')\n",
    "\n",
    "plt.xlabel('Age')\n",
    "plt.title('Age Distribution with Classes')\n",
    "plt.legend(['1st Class', '2nd Class', '3rd Class'])"
   ]
  },
  {
   "cell_type": "markdown",
   "metadata": {
    "papermill": {
     "duration": 0.06001,
     "end_time": "2021-06-05T16:28:36.936732",
     "exception": false,
     "start_time": "2021-06-05T16:28:36.876722",
     "status": "completed"
    },
    "tags": []
   },
   "source": [
    "- 클래스가 높을수록 나이 많은 사람의 비중이 커짐\n",
    "- 나이대가 변하면서 생종률이 어떻게 되는지 보려고 한다.\n",
    "- 나위 범위를 점점 넓혀가며, 생존률이 어떻게 되는지 한 번 보자."
   ]
  },
  {
   "cell_type": "code",
   "execution_count": 28,
   "metadata": {
    "execution": {
     "iopub.execute_input": "2021-06-05T16:28:37.078661Z",
     "iopub.status.busy": "2021-06-05T16:28:37.071055Z",
     "iopub.status.idle": "2021-06-05T16:28:37.307232Z",
     "shell.execute_reply": "2021-06-05T16:28:37.306576Z",
     "shell.execute_reply.started": "2021-06-05T15:01:37.238133Z"
    },
    "papermill": {
     "duration": 0.310594,
     "end_time": "2021-06-05T16:28:37.307366",
     "exception": false,
     "start_time": "2021-06-05T16:28:36.996772",
     "status": "completed"
    },
    "tags": []
   },
   "outputs": [
    {
     "data": {
      "image/png": "[encoded data removed]",
      "text/plain": [
       "<Figure size 504x504 with 1 Axes>"
      ]
     },
     "metadata": {
      "needs_background": "light"
     },
     "output_type": "display_data"
    }
   ],
   "source": [
    "cummulate_survival_ratio = []\n",
    "for i in range(1,80):\n",
    "    cummulate_survival_ratio.append(df_train[df_train['Age'] < i]['Survived'].sum() / len(df_train[df_train['Age']<i]['Survived']))\n",
    "    \n",
    "plt.figure(figsize=(7,7))\n",
    "plt.plot(cummulate_survival_ratio)\n",
    "plt.title('Survival rate change depending on range of Age', y=1.02)\n",
    "plt.ylabel('Survival Rate')\n",
    "plt.xlabel('Range of Age(0~x)')\n",
    "plt.show()"
   ]
  },
  {
   "cell_type": "markdown",
   "metadata": {
    "papermill": {
     "duration": 0.061299,
     "end_time": "2021-06-05T16:28:37.431407",
     "exception": false,
     "start_time": "2021-06-05T16:28:37.370108",
     "status": "completed"
    },
    "tags": []
   },
   "source": [
    "- 나이가 어릴수록 생존률이 높아짐\n",
    "- 나이가 중요한 feature로 쓰일 수 있음"
   ]
  },
  {
   "cell_type": "markdown",
   "metadata": {
    "papermill": {
     "duration": 0.060852,
     "end_time": "2021-06-05T16:28:37.553773",
     "exception": false,
     "start_time": "2021-06-05T16:28:37.492921",
     "status": "completed"
    },
    "tags": []
   },
   "source": [
    "## 2.5 Pclass, Sex, Age\n",
    "- x 축은 계급과 성별, y축은 나이로 보자"
   ]
  },
  {
   "cell_type": "code",
   "execution_count": 29,
   "metadata": {
    "execution": {
     "iopub.execute_input": "2021-06-05T16:28:37.696895Z",
     "iopub.status.busy": "2021-06-05T16:28:37.685855Z",
     "iopub.status.idle": "2021-06-05T16:28:38.050073Z",
     "shell.execute_reply": "2021-06-05T16:28:38.049515Z",
     "shell.execute_reply.started": "2021-06-05T15:01:37.508458Z"
    },
    "papermill": {
     "duration": 0.43536,
     "end_time": "2021-06-05T16:28:38.050214",
     "exception": false,
     "start_time": "2021-06-05T16:28:37.614854",
     "status": "completed"
    },
    "tags": []
   },
   "outputs": [
    {
     "data": {
      "image/png": "[encoded data removed]",
      "text/plain": [
       "<Figure size 1296x576 with 2 Axes>"
      ]
     },
     "metadata": {
      "needs_background": "light"
     },
     "output_type": "display_data"
    }
   ],
   "source": [
    "f, ax = plt.subplots(1,2,figsize=(18,8))\n",
    "sns.violinplot(\"Pclass\",\"Age\", hue=\"Survived\", data=df_train, scale='count', split=True, ax=ax[0])\n",
    "ax[0].set_title('Pclass and Age vs Survived')\n",
    "ax[0].set_yticks(range(0,110,10))\n",
    "sns.violinplot(\"Sex\",\"Age\", hue=\"Survived\", data=df_train, scale='count', split=True,ax=ax[1])\n",
    "ax[1].set_title('Sex and Age vs Survived')\n",
    "ax[1].set_yticks(range(0,110,10))\n",
    "plt.show()"
   ]
  },
  {
   "cell_type": "markdown",
   "metadata": {
    "papermill": {
     "duration": 0.066549,
     "end_time": "2021-06-05T16:28:38.182298",
     "exception": false,
     "start_time": "2021-06-05T16:28:38.115749",
     "status": "completed"
    },
    "tags": []
   },
   "source": [
    "- 왼쪽 그림은 계급별로 나이의 분배가 어떻게 다른지, 거기에 생존여부에 따라 구분한 그래프이다\n",
    "- 오른쪽 그림도 마찬가지 성별, 생존에 따른 나이 분포가 어떻게 다른지 보여주는 그래프이다\n",
    "- 생존만 봤을 때, 모든 클래스에서 나이가 어릴수록 생존을 많이 한 것을 볼 수 있다\n",
    "- 오른쪽 그림에서 보면 명확히 여자가 더 생존률이 높다\n",
    "- 여성과 아이를 먼저 챙긴 것을 볼 수 있다"
   ]
  },
  {
   "cell_type": "markdown",
   "metadata": {
    "papermill": {
     "duration": 0.063113,
     "end_time": "2021-06-05T16:28:38.311685",
     "exception": false,
     "start_time": "2021-06-05T16:28:38.248572",
     "status": "completed"
    },
    "tags": []
   },
   "source": [
    "## 2.6 Embarked"
   ]
  },
  {
   "cell_type": "code",
   "execution_count": 30,
   "metadata": {
    "execution": {
     "iopub.execute_input": "2021-06-05T16:28:38.442404Z",
     "iopub.status.busy": "2021-06-05T16:28:38.441804Z",
     "iopub.status.idle": "2021-06-05T16:28:38.444604Z",
     "shell.execute_reply": "2021-06-05T16:28:38.444976Z",
     "shell.execute_reply.started": "2021-06-05T15:01:37.915761Z"
    },
    "papermill": {
     "duration": 0.070794,
     "end_time": "2021-06-05T16:28:38.445127",
     "exception": false,
     "start_time": "2021-06-05T16:28:38.374333",
     "status": "completed"
    },
    "tags": []
   },
   "outputs": [
    {
     "data": {
      "text/plain": [
       "array(['S', 'C', 'Q', nan], dtype=object)"
      ]
     },
     "execution_count": 30,
     "metadata": {},
     "output_type": "execute_result"
    }
   ],
   "source": [
    "df_train['Embarked'].unique()"
   ]
  },
  {
   "cell_type": "code",
   "execution_count": 31,
   "metadata": {
    "execution": {
     "iopub.execute_input": "2021-06-05T16:28:38.575035Z",
     "iopub.status.busy": "2021-06-05T16:28:38.574474Z",
     "iopub.status.idle": "2021-06-05T16:28:38.916404Z",
     "shell.execute_reply": "2021-06-05T16:28:38.916931Z",
     "shell.execute_reply.started": "2021-06-05T15:01:37.924944Z"
    },
    "papermill": {
     "duration": 0.408669,
     "end_time": "2021-06-05T16:28:38.917090",
     "exception": false,
     "start_time": "2021-06-05T16:28:38.508421",
     "status": "completed"
    },
    "tags": []
   },
   "outputs": [
    {
     "data": {
      "text/plain": [
       "<matplotlib.axes._subplots.AxesSubplot at 0x7f2912abd050>"
      ]
     },
     "execution_count": 31,
     "metadata": {},
     "output_type": "execute_result"
    },
    {
     "data": {
      "image/png": "[encoded data removed]",
      "text/plain": [
       "<Figure size 504x504 with 1 Axes>"
      ]
     },
     "metadata": {
      "needs_background": "light"
     },
     "output_type": "display_data"
    }
   ],
   "source": [
    "f, ax = plt.subplots(1,1,figsize=(7,7))\n",
    "df_train[['Embarked', 'Survived']].groupby(['Embarked'], as_index=True).mean().sort_values(by='Survived', ascending=False).plot.bar(ax=ax)"
   ]
  },
  {
   "cell_type": "markdown",
   "metadata": {
    "papermill": {
     "duration": 0.065396,
     "end_time": "2021-06-05T16:28:39.048090",
     "exception": false,
     "start_time": "2021-06-05T16:28:38.982694",
     "status": "completed"
    },
    "tags": []
   },
   "source": [
    "- 생존률 큰 차이 없음 그래도 c가 제일 높음\n",
    "- 모델을 만든 후에야 각 feature가 얼마나 중요한 역할을 했는지 판단할 수 있다 이는 추후에 판단\n",
    "- 다른 feature로 split하여 살펴보자"
   ]
  },
  {
   "cell_type": "code",
   "execution_count": 32,
   "metadata": {
    "execution": {
     "iopub.execute_input": "2021-06-05T16:28:39.188388Z",
     "iopub.status.busy": "2021-06-05T16:28:39.187388Z",
     "iopub.status.idle": "2021-06-05T16:28:39.691640Z",
     "shell.execute_reply": "2021-06-05T16:28:39.690936Z",
     "shell.execute_reply.started": "2021-06-05T15:01:38.361472Z"
    },
    "papermill": {
     "duration": 0.578758,
     "end_time": "2021-06-05T16:28:39.691798",
     "exception": false,
     "start_time": "2021-06-05T16:28:39.113040",
     "status": "completed"
    },
    "tags": []
   },
   "outputs": [
    {
     "data": {
      "image/png": "[encoded data removed]",
      "text/plain": [
       "<Figure size 864x648 with 4 Axes>"
      ]
     },
     "metadata": {
      "needs_background": "light"
     },
     "output_type": "display_data"
    }
   ],
   "source": [
    "f, ax=plt.subplots(2,2,figsize=(12, 9))\n",
    "sns.countplot('Embarked', data=df_train, ax=ax[0,0])\n",
    "ax[0,0].set_title('(1) No. Of Passengers Boarded')\n",
    "sns.countplot('Embarked', hue='Sex', data=df_train, ax=ax[0,1])\n",
    "ax[0,1].set_title('(2) Male-Female Split for Embarked')\n",
    "sns.countplot('Embarked', hue='Survived', data=df_train, ax=ax[1,0])\n",
    "ax[1,0].set_title('(3) Embarked vs Survived')\n",
    "sns.countplot('Embarked', hue='Pclass', data=df_train, ax=ax[1,1])\n",
    "ax[1,1].set_title('(4) Embarked vs Pclass')\n",
    "plt.subplots_adjust(wspace=0.2, hspace=0.5)\n",
    "plt.show()"
   ]
  },
  {
   "cell_type": "markdown",
   "metadata": {
    "papermill": {
     "duration": 0.088469,
     "end_time": "2021-06-05T16:28:39.874551",
     "exception": false,
     "start_time": "2021-06-05T16:28:39.786082",
     "status": "completed"
    },
    "tags": []
   },
   "source": [
    "- 1. S에서 가장 많은 사람들이 탑승함\n",
    "- 2. C와 Q는 남녀 비율이 비슷하고, S는 남자 비율이 더 많다.\n",
    "- 3. 생존확률이 S는 많이 낮다.\n",
    "- 4. C가 생존확률이 높은 것은 클래스가 높은 사람이 많이 탑승해서 그렇다. S는 3rd class가 가장 많아서 생존확률이 낮다."
   ]
  },
  {
   "cell_type": "markdown",
   "metadata": {
    "papermill": {
     "duration": 0.066709,
     "end_time": "2021-06-05T16:28:40.007087",
     "exception": false,
     "start_time": "2021-06-05T16:28:39.940378",
     "status": "completed"
    },
    "tags": []
   },
   "source": [
    "## 2.6 Family - Sibsp + Parch"
   ]
  },
  {
   "cell_type": "code",
   "execution_count": 33,
   "metadata": {
    "execution": {
     "iopub.execute_input": "2021-06-05T16:28:40.147822Z",
     "iopub.status.busy": "2021-06-05T16:28:40.146963Z",
     "iopub.status.idle": "2021-06-05T16:28:40.150163Z",
     "shell.execute_reply": "2021-06-05T16:28:40.149600Z",
     "shell.execute_reply.started": "2021-06-05T15:01:38.937699Z"
    },
    "papermill": {
     "duration": 0.077783,
     "end_time": "2021-06-05T16:28:40.150272",
     "exception": false,
     "start_time": "2021-06-05T16:28:40.072489",
     "status": "completed"
    },
    "tags": []
   },
   "outputs": [],
   "source": [
    "#자기 자신을 포함해야 하니 1을 더합니다.\n",
    "df_train['FamilySize'] = df_train['SibSp'] + df_train['Parch'] + 1\n",
    "df_test['FamilySize'] = df_test['SibSp'] + df_test['Parch'] + 1"
   ]
  },
  {
   "cell_type": "code",
   "execution_count": 34,
   "metadata": {
    "execution": {
     "iopub.execute_input": "2021-06-05T16:28:40.289190Z",
     "iopub.status.busy": "2021-06-05T16:28:40.288357Z",
     "iopub.status.idle": "2021-06-05T16:28:40.292747Z",
     "shell.execute_reply": "2021-06-05T16:28:40.293384Z",
     "shell.execute_reply.started": "2021-06-05T15:01:38.945845Z"
    },
    "papermill": {
     "duration": 0.076753,
     "end_time": "2021-06-05T16:28:40.293549",
     "exception": false,
     "start_time": "2021-06-05T16:28:40.216796",
     "status": "completed"
    },
    "tags": []
   },
   "outputs": [
    {
     "name": "stdout",
     "output_type": "stream",
     "text": [
      "Max size of Family:  11\n",
      "Min size of Family:  1\n"
     ]
    }
   ],
   "source": [
    "print('Max size of Family: ', df_train['FamilySize'].max())\n",
    "print('Min size of Family: ', df_train['FamilySize'].min())"
   ]
  },
  {
   "cell_type": "code",
   "execution_count": 35,
   "metadata": {
    "execution": {
     "iopub.execute_input": "2021-06-05T16:28:40.437831Z",
     "iopub.status.busy": "2021-06-05T16:28:40.433178Z",
     "iopub.status.idle": "2021-06-05T16:28:40.859980Z",
     "shell.execute_reply": "2021-06-05T16:28:40.859404Z",
     "shell.execute_reply.started": "2021-06-05T15:01:38.966611Z"
    },
    "papermill": {
     "duration": 0.500433,
     "end_time": "2021-06-05T16:28:40.860117",
     "exception": false,
     "start_time": "2021-06-05T16:28:40.359684",
     "status": "completed"
    },
    "tags": []
   },
   "outputs": [
    {
     "data": {
      "image/png": "[encoded data removed]",
      "text/plain": [
       "<Figure size 1728x432 with 3 Axes>"
      ]
     },
     "metadata": {
      "needs_background": "light"
     },
     "output_type": "display_data"
    }
   ],
   "source": [
    "f, ax = plt.subplots(1,3,figsize=(24, 6))\n",
    "sns.countplot('FamilySize', data=df_train, ax=ax[0])\n",
    "ax[0].set_title('(1) No of passengers', y=1.02)\n",
    "\n",
    "sns.countplot('FamilySize', hue='Survived', data=df_train, ax=ax[1])\n",
    "ax[1].set_title('(2) Survived countplot on Familysize', y=1.02)\n",
    "\n",
    "df_train[['FamilySize', 'Survived']].groupby(['FamilySize'], as_index=True).mean().sort_values(by='Survived', ascending=False).plot.bar(ax=ax[2])\n",
    "ax[2].set_title('(3) Survived rate on FamilySize', y=1.02)\n",
    "\n",
    "plt.subplots_adjust(wspace=0.2, hspace=0.5)\n",
    "plt.show()"
   ]
  },
  {
   "cell_type": "markdown",
   "metadata": {
    "papermill": {
     "duration": 0.068207,
     "end_time": "2021-06-05T16:28:40.995069",
     "exception": false,
     "start_time": "2021-06-05T16:28:40.926862",
     "status": "completed"
    },
    "tags": []
   },
   "source": [
    "- 1. 가족크기가 1~11로 다양. 대부분 1명\n",
    "- 2,3. 가족 크기에 따른 생존비교. 가족이 4명인 경우가 가장 생존확률 높음."
   ]
  },
  {
   "cell_type": "markdown",
   "metadata": {
    "papermill": {
     "duration": 0.067034,
     "end_time": "2021-06-05T16:28:41.130202",
     "exception": false,
     "start_time": "2021-06-05T16:28:41.063168",
     "status": "completed"
    },
    "tags": []
   },
   "source": [
    "## 2.8 Fare\n",
    "- 탑승요금, 연속형 feature 히스토그램으로 표현"
   ]
  },
  {
   "cell_type": "code",
   "execution_count": 36,
   "metadata": {
    "execution": {
     "iopub.execute_input": "2021-06-05T16:28:41.281907Z",
     "iopub.status.busy": "2021-06-05T16:28:41.280703Z",
     "iopub.status.idle": "2021-06-05T16:28:41.612260Z",
     "shell.execute_reply": "2021-06-05T16:28:41.612686Z",
     "shell.execute_reply.started": "2021-06-05T15:04:23.686503Z"
    },
    "papermill": {
     "duration": 0.413979,
     "end_time": "2021-06-05T16:28:41.612858",
     "exception": false,
     "start_time": "2021-06-05T16:28:41.198879",
     "status": "completed"
    },
    "tags": []
   },
   "outputs": [
    {
     "data": {
      "image/png": "[encoded data removed]",
      "text/plain": [
       "<Figure size 576x576 with 1 Axes>"
      ]
     },
     "metadata": {
      "needs_background": "light"
     },
     "output_type": "display_data"
    }
   ],
   "source": [
    "fig, ax = plt.subplots(1,1,figsize=(8,8))\n",
    "g = sns.distplot(df_train['Fare'], color='b', label='Skewness : {:.2f}'.format(df_train['Fare'].skew()), ax=ax)\n",
    "g = g.legend(loc='best')"
   ]
  },
  {
   "cell_type": "markdown",
   "metadata": {
    "papermill": {
     "duration": 0.067492,
     "end_time": "2021-06-05T16:28:41.748790",
     "exception": false,
     "start_time": "2021-06-05T16:28:41.681298",
     "status": "completed"
    },
    "tags": []
   },
   "source": [
    "- 분포가 매우 비대칭(high skewness) 이대로 모델에 학습시키면 자칫 편향되게 학습할 수 있음\n",
    "- outlier의 영향을 줄이기 위해 log를 취함\n",
    "- lambda로 간단히 로그를 적용하는 함수를 map에 인수로 넣어줄 수 있음"
   ]
  },
  {
   "cell_type": "code",
   "execution_count": 37,
   "metadata": {
    "execution": {
     "iopub.execute_input": "2021-06-05T16:28:41.899486Z",
     "iopub.status.busy": "2021-06-05T16:28:41.898600Z",
     "iopub.status.idle": "2021-06-05T16:28:41.902108Z",
     "shell.execute_reply": "2021-06-05T16:28:41.901521Z",
     "shell.execute_reply.started": "2021-06-05T15:08:38.013404Z"
    },
    "papermill": {
     "duration": 0.085732,
     "end_time": "2021-06-05T16:28:41.902236",
     "exception": false,
     "start_time": "2021-06-05T16:28:41.816504",
     "status": "completed"
    },
    "tags": []
   },
   "outputs": [],
   "source": [
    "df_test.loc[df_test.Fare.isnull(), 'Fare'] = df_test['Fare'].mean()\n",
    "\n",
    "df_train['Fare']=df_train['Fare'].map(lambda i: np.log(i) if i>0 else 0)\n",
    "df_test['Fare']=df_test['Fare'].map(lambda i: np.log(i) if i>0 else 0)"
   ]
  },
  {
   "cell_type": "code",
   "execution_count": 38,
   "metadata": {
    "execution": {
     "iopub.execute_input": "2021-06-05T16:28:42.050761Z",
     "iopub.status.busy": "2021-06-05T16:28:42.045638Z",
     "iopub.status.idle": "2021-06-05T16:28:42.340138Z",
     "shell.execute_reply": "2021-06-05T16:28:42.339582Z",
     "shell.execute_reply.started": "2021-06-05T15:10:04.461664Z"
    },
    "papermill": {
     "duration": 0.369417,
     "end_time": "2021-06-05T16:28:42.340338",
     "exception": false,
     "start_time": "2021-06-05T16:28:41.970921",
     "status": "completed"
    },
    "tags": []
   },
   "outputs": [
    {
     "data": {
      "image/png": "[encoded data removed]",
      "text/plain": [
       "<Figure size 576x576 with 1 Axes>"
      ]
     },
     "metadata": {
      "needs_background": "light"
     },
     "output_type": "display_data"
    }
   ],
   "source": [
    "fig, ax=plt.subplots(1,1,figsize=(8,8))\n",
    "g = sns.distplot(df_train['Fare'], color='b', label='Skewness : {:.2f}'.format(df_train['Fare'].skew()), ax=ax)\n",
    "g = g.legend(loc='best')"
   ]
  },
  {
   "cell_type": "markdown",
   "metadata": {
    "papermill": {
     "duration": 0.068768,
     "end_time": "2021-06-05T16:28:42.478918",
     "exception": false,
     "start_time": "2021-06-05T16:28:42.410150",
     "status": "completed"
    },
    "tags": []
   },
   "source": [
    "- 로그르 취해 비대칭이 많이 사라짐\n",
    "- 이런 작업으로 모델의 성능을 더 높힐 수 있음\n",
    "- 방금 한 작업은 보통 feature engineering에서 함"
   ]
  },
  {
   "cell_type": "markdown",
   "metadata": {
    "papermill": {
     "duration": 0.068978,
     "end_time": "2021-06-05T16:28:42.618280",
     "exception": false,
     "start_time": "2021-06-05T16:28:42.549302",
     "status": "completed"
    },
    "tags": []
   },
   "source": [
    "## 2.9 Cabin\n",
    "- 이 feature의 NaN이 대략 80%이므로, 정보를 얻기가 힘듬,,(쓰루)"
   ]
  },
  {
   "cell_type": "markdown",
   "metadata": {
    "papermill": {
     "duration": 0.068225,
     "end_time": "2021-06-05T16:28:42.755446",
     "exception": false,
     "start_time": "2021-06-05T16:28:42.687221",
     "status": "completed"
    },
    "tags": []
   },
   "source": [
    "## 2.10 Ticket\n",
    "- string 데이터 이기 때문에 가공해야 함. 어떻게 가공할지는 우리의 아이디어가 필요"
   ]
  },
  {
   "cell_type": "code",
   "execution_count": 39,
   "metadata": {
    "execution": {
     "iopub.execute_input": "2021-06-05T16:28:42.902941Z",
     "iopub.status.busy": "2021-06-05T16:28:42.901862Z",
     "iopub.status.idle": "2021-06-05T16:28:42.905125Z",
     "shell.execute_reply": "2021-06-05T16:28:42.905611Z",
     "shell.execute_reply.started": "2021-06-05T15:13:17.720140Z"
    },
    "papermill": {
     "duration": 0.081436,
     "end_time": "2021-06-05T16:28:42.905784",
     "exception": false,
     "start_time": "2021-06-05T16:28:42.824348",
     "status": "completed"
    },
    "tags": []
   },
   "outputs": [
    {
     "data": {
      "text/plain": [
       "CA. 2343      7\n",
       "347082        7\n",
       "1601          7\n",
       "347088        6\n",
       "3101295       6\n",
       "             ..\n",
       "336439        1\n",
       "364846        1\n",
       "2690          1\n",
       "SC/AH 3085    1\n",
       "371060        1\n",
       "Name: Ticket, Length: 681, dtype: int64"
      ]
     },
     "execution_count": 39,
     "metadata": {},
     "output_type": "execute_result"
    }
   ],
   "source": [
    "df_train['Ticket'].value_counts()"
   ]
  },
  {
   "cell_type": "markdown",
   "metadata": {
    "papermill": {
     "duration": 0.071826,
     "end_time": "2021-06-05T16:28:43.048486",
     "exception": false,
     "start_time": "2021-06-05T16:28:42.976660",
     "status": "completed"
    },
    "tags": []
   },
   "source": [
    "# 3. Feature Engineering\n",
    "- 본격적 feature engineering\n",
    "- dataset에 존재하는 null data 채우기\n",
    "- 아이디어를 짜내서 채울 수 있음!\n",
    "- 신경 써야 할 부분임..!\n",
    "\n",
    "## 3.1 Fill Null\n",
    "### 3.1.1 Fill Null in Age using title\n",
    "- age에는 null 데이터가 177개나 있음 \n",
    "- 영어에서 사용하는 miss, mrr, mrs로 나이 유추해보자!"
   ]
  },
  {
   "cell_type": "code",
   "execution_count": 40,
   "metadata": {
    "execution": {
     "iopub.execute_input": "2021-06-05T16:28:43.199738Z",
     "iopub.status.busy": "2021-06-05T16:28:43.199152Z",
     "iopub.status.idle": "2021-06-05T16:28:43.207854Z",
     "shell.execute_reply": "2021-06-05T16:28:43.208323Z",
     "shell.execute_reply.started": "2021-06-05T15:18:41.958116Z"
    },
    "papermill": {
     "duration": 0.089267,
     "end_time": "2021-06-05T16:28:43.208464",
     "exception": false,
     "start_time": "2021-06-05T16:28:43.119197",
     "status": "completed"
    },
    "tags": []
   },
   "outputs": [],
   "source": [
    "df_train['Initial']=df_train.Name.str.extract('([A-Za-z]+)\\.')\n",
    "df_test['Initial']=df_test.Name.str.extract('([A-Za-z]+)\\.')"
   ]
  },
  {
   "cell_type": "code",
   "execution_count": 41,
   "metadata": {
    "execution": {
     "iopub.execute_input": "2021-06-05T16:28:43.357849Z",
     "iopub.status.busy": "2021-06-05T16:28:43.357274Z",
     "iopub.status.idle": "2021-06-05T16:28:43.402211Z",
     "shell.execute_reply": "2021-06-05T16:28:43.401572Z",
     "shell.execute_reply.started": "2021-06-05T15:19:46.536390Z"
    },
    "papermill": {
     "duration": 0.122376,
     "end_time": "2021-06-05T16:28:43.402327",
     "exception": false,
     "start_time": "2021-06-05T16:28:43.279951",
     "status": "completed"
    },
    "tags": []
   },
   "outputs": [
    {
     "data": {
      "text/html": [
       "<style  type=\"text/css\" >\n",
       "#T_17fedd24_c61b_11eb_ae94_0242ac130202row0_col0,#T_17fedd24_c61b_11eb_ae94_0242ac130202row0_col1,#T_17fedd24_c61b_11eb_ae94_0242ac130202row0_col3,#T_17fedd24_c61b_11eb_ae94_0242ac130202row0_col4,#T_17fedd24_c61b_11eb_ae94_0242ac130202row0_col5,#T_17fedd24_c61b_11eb_ae94_0242ac130202row0_col7,#T_17fedd24_c61b_11eb_ae94_0242ac130202row0_col8,#T_17fedd24_c61b_11eb_ae94_0242ac130202row0_col12,#T_17fedd24_c61b_11eb_ae94_0242ac130202row0_col15,#T_17fedd24_c61b_11eb_ae94_0242ac130202row0_col16,#T_17fedd24_c61b_11eb_ae94_0242ac130202row1_col2,#T_17fedd24_c61b_11eb_ae94_0242ac130202row1_col6,#T_17fedd24_c61b_11eb_ae94_0242ac130202row1_col9,#T_17fedd24_c61b_11eb_ae94_0242ac130202row1_col10,#T_17fedd24_c61b_11eb_ae94_0242ac130202row1_col11,#T_17fedd24_c61b_11eb_ae94_0242ac130202row1_col13,#T_17fedd24_c61b_11eb_ae94_0242ac130202row1_col14{\n",
       "            background-color:  #ffff66;\n",
       "            color:  #000000;\n",
       "        }#T_17fedd24_c61b_11eb_ae94_0242ac130202row0_col2,#T_17fedd24_c61b_11eb_ae94_0242ac130202row0_col6,#T_17fedd24_c61b_11eb_ae94_0242ac130202row0_col9,#T_17fedd24_c61b_11eb_ae94_0242ac130202row0_col10,#T_17fedd24_c61b_11eb_ae94_0242ac130202row0_col11,#T_17fedd24_c61b_11eb_ae94_0242ac130202row0_col13,#T_17fedd24_c61b_11eb_ae94_0242ac130202row0_col14,#T_17fedd24_c61b_11eb_ae94_0242ac130202row1_col0,#T_17fedd24_c61b_11eb_ae94_0242ac130202row1_col1,#T_17fedd24_c61b_11eb_ae94_0242ac130202row1_col3,#T_17fedd24_c61b_11eb_ae94_0242ac130202row1_col4,#T_17fedd24_c61b_11eb_ae94_0242ac130202row1_col5,#T_17fedd24_c61b_11eb_ae94_0242ac130202row1_col7,#T_17fedd24_c61b_11eb_ae94_0242ac130202row1_col8,#T_17fedd24_c61b_11eb_ae94_0242ac130202row1_col12,#T_17fedd24_c61b_11eb_ae94_0242ac130202row1_col15,#T_17fedd24_c61b_11eb_ae94_0242ac130202row1_col16{\n",
       "            background-color:  #008066;\n",
       "            color:  #f1f1f1;\n",
       "        }</style><table id=\"T_17fedd24_c61b_11eb_ae94_0242ac130202\" ><thead>    <tr>        <th class=\"index_name level0\" >Initial</th>        <th class=\"col_heading level0 col0\" >Capt</th>        <th class=\"col_heading level0 col1\" >Col</th>        <th class=\"col_heading level0 col2\" >Countess</th>        <th class=\"col_heading level0 col3\" >Don</th>        <th class=\"col_heading level0 col4\" >Dr</th>        <th class=\"col_heading level0 col5\" >Jonkheer</th>        <th class=\"col_heading level0 col6\" >Lady</th>        <th class=\"col_heading level0 col7\" >Major</th>        <th class=\"col_heading level0 col8\" >Master</th>        <th class=\"col_heading level0 col9\" >Miss</th>        <th class=\"col_heading level0 col10\" >Mlle</th>        <th class=\"col_heading level0 col11\" >Mme</th>        <th class=\"col_heading level0 col12\" >Mr</th>        <th class=\"col_heading level0 col13\" >Mrs</th>        <th class=\"col_heading level0 col14\" >Ms</th>        <th class=\"col_heading level0 col15\" >Rev</th>        <th class=\"col_heading level0 col16\" >Sir</th>    </tr>    <tr>        <th class=\"index_name level0\" >Sex</th>        <th class=\"blank\" ></th>        <th class=\"blank\" ></th>        <th class=\"blank\" ></th>        <th class=\"blank\" ></th>        <th class=\"blank\" ></th>        <th class=\"blank\" ></th>        <th class=\"blank\" ></th>        <th class=\"blank\" ></th>        <th class=\"blank\" ></th>        <th class=\"blank\" ></th>        <th class=\"blank\" ></th>        <th class=\"blank\" ></th>        <th class=\"blank\" ></th>        <th class=\"blank\" ></th>        <th class=\"blank\" ></th>        <th class=\"blank\" ></th>        <th class=\"blank\" ></th>    </tr></thead><tbody>\n",
       "                <tr>\n",
       "                        <th id=\"T_17fedd24_c61b_11eb_ae94_0242ac130202level0_row0\" class=\"row_heading level0 row0\" >female</th>\n",
       "                        <td id=\"T_17fedd24_c61b_11eb_ae94_0242ac130202row0_col0\" class=\"data row0 col0\" >0</td>\n",
       "                        <td id=\"T_17fedd24_c61b_11eb_ae94_0242ac130202row0_col1\" class=\"data row0 col1\" >0</td>\n",
       "                        <td id=\"T_17fedd24_c61b_11eb_ae94_0242ac130202row0_col2\" class=\"data row0 col2\" >1</td>\n",
       "                        <td id=\"T_17fedd24_c61b_11eb_ae94_0242ac130202row0_col3\" class=\"data row0 col3\" >0</td>\n",
       "                        <td id=\"T_17fedd24_c61b_11eb_ae94_0242ac130202row0_col4\" class=\"data row0 col4\" >1</td>\n",
       "                        <td id=\"T_17fedd24_c61b_11eb_ae94_0242ac130202row0_col5\" class=\"data row0 col5\" >0</td>\n",
       "                        <td id=\"T_17fedd24_c61b_11eb_ae94_0242ac130202row0_col6\" class=\"data row0 col6\" >1</td>\n",
       "                        <td id=\"T_17fedd24_c61b_11eb_ae94_0242ac130202row0_col7\" class=\"data row0 col7\" >0</td>\n",
       "                        <td id=\"T_17fedd24_c61b_11eb_ae94_0242ac130202row0_col8\" class=\"data row0 col8\" >0</td>\n",
       "                        <td id=\"T_17fedd24_c61b_11eb_ae94_0242ac130202row0_col9\" class=\"data row0 col9\" >182</td>\n",
       "                        <td id=\"T_17fedd24_c61b_11eb_ae94_0242ac130202row0_col10\" class=\"data row0 col10\" >2</td>\n",
       "                        <td id=\"T_17fedd24_c61b_11eb_ae94_0242ac130202row0_col11\" class=\"data row0 col11\" >1</td>\n",
       "                        <td id=\"T_17fedd24_c61b_11eb_ae94_0242ac130202row0_col12\" class=\"data row0 col12\" >0</td>\n",
       "                        <td id=\"T_17fedd24_c61b_11eb_ae94_0242ac130202row0_col13\" class=\"data row0 col13\" >125</td>\n",
       "                        <td id=\"T_17fedd24_c61b_11eb_ae94_0242ac130202row0_col14\" class=\"data row0 col14\" >1</td>\n",
       "                        <td id=\"T_17fedd24_c61b_11eb_ae94_0242ac130202row0_col15\" class=\"data row0 col15\" >0</td>\n",
       "                        <td id=\"T_17fedd24_c61b_11eb_ae94_0242ac130202row0_col16\" class=\"data row0 col16\" >0</td>\n",
       "            </tr>\n",
       "            <tr>\n",
       "                        <th id=\"T_17fedd24_c61b_11eb_ae94_0242ac130202level0_row1\" class=\"row_heading level0 row1\" >male</th>\n",
       "                        <td id=\"T_17fedd24_c61b_11eb_ae94_0242ac130202row1_col0\" class=\"data row1 col0\" >1</td>\n",
       "                        <td id=\"T_17fedd24_c61b_11eb_ae94_0242ac130202row1_col1\" class=\"data row1 col1\" >2</td>\n",
       "                        <td id=\"T_17fedd24_c61b_11eb_ae94_0242ac130202row1_col2\" class=\"data row1 col2\" >0</td>\n",
       "                        <td id=\"T_17fedd24_c61b_11eb_ae94_0242ac130202row1_col3\" class=\"data row1 col3\" >1</td>\n",
       "                        <td id=\"T_17fedd24_c61b_11eb_ae94_0242ac130202row1_col4\" class=\"data row1 col4\" >6</td>\n",
       "                        <td id=\"T_17fedd24_c61b_11eb_ae94_0242ac130202row1_col5\" class=\"data row1 col5\" >1</td>\n",
       "                        <td id=\"T_17fedd24_c61b_11eb_ae94_0242ac130202row1_col6\" class=\"data row1 col6\" >0</td>\n",
       "                        <td id=\"T_17fedd24_c61b_11eb_ae94_0242ac130202row1_col7\" class=\"data row1 col7\" >2</td>\n",
       "                        <td id=\"T_17fedd24_c61b_11eb_ae94_0242ac130202row1_col8\" class=\"data row1 col8\" >40</td>\n",
       "                        <td id=\"T_17fedd24_c61b_11eb_ae94_0242ac130202row1_col9\" class=\"data row1 col9\" >0</td>\n",
       "                        <td id=\"T_17fedd24_c61b_11eb_ae94_0242ac130202row1_col10\" class=\"data row1 col10\" >0</td>\n",
       "                        <td id=\"T_17fedd24_c61b_11eb_ae94_0242ac130202row1_col11\" class=\"data row1 col11\" >0</td>\n",
       "                        <td id=\"T_17fedd24_c61b_11eb_ae94_0242ac130202row1_col12\" class=\"data row1 col12\" >517</td>\n",
       "                        <td id=\"T_17fedd24_c61b_11eb_ae94_0242ac130202row1_col13\" class=\"data row1 col13\" >0</td>\n",
       "                        <td id=\"T_17fedd24_c61b_11eb_ae94_0242ac130202row1_col14\" class=\"data row1 col14\" >0</td>\n",
       "                        <td id=\"T_17fedd24_c61b_11eb_ae94_0242ac130202row1_col15\" class=\"data row1 col15\" >6</td>\n",
       "                        <td id=\"T_17fedd24_c61b_11eb_ae94_0242ac130202row1_col16\" class=\"data row1 col16\" >1</td>\n",
       "            </tr>\n",
       "    </tbody></table>"
      ],
      "text/plain": [
       "<pandas.io.formats.style.Styler at 0x7f2910f8ec50>"
      ]
     },
     "execution_count": 41,
     "metadata": {},
     "output_type": "execute_result"
    }
   ],
   "source": [
    "pd.crosstab(df_train['Initial'], df_train['Sex']).T.style.background_gradient(cmap='summer_r')"
   ]
  },
  {
   "cell_type": "code",
   "execution_count": 42,
   "metadata": {
    "execution": {
     "iopub.execute_input": "2021-06-05T16:28:43.551193Z",
     "iopub.status.busy": "2021-06-05T16:28:43.550576Z",
     "iopub.status.idle": "2021-06-05T16:28:43.557843Z",
     "shell.execute_reply": "2021-06-05T16:28:43.557406Z",
     "shell.execute_reply.started": "2021-06-05T15:23:29.227167Z"
    },
    "papermill": {
     "duration": 0.085822,
     "end_time": "2021-06-05T16:28:43.557954",
     "exception": false,
     "start_time": "2021-06-05T16:28:43.472132",
     "status": "completed"
    },
    "tags": []
   },
   "outputs": [],
   "source": [
    "df_train['Initial'].replace(['Mlle','Mme','Ms','Dr','Major','Lady','Countess','Jonkheer','Col','Rev','Capt','Sir','Don','Dona'],['Miss','Miss','Miss','Mr','Mr','Mrs','Mrs','Other','Other','Other','Mr','Mr','Mr','Mr'], inplace=True)\n",
    "df_test['Initial'].replace(['Mlle','Mme','Ms','Dr','Major','Lady','Countess','Jonkheer','Col','Rev','Capt','Sir','Don','Dona'],['Miss','Miss','Miss','Mr','Mr','Mrs','Mrs','Other','Other','Other','Mr','Mr','Mr','Mr'], inplace=True)"
   ]
  },
  {
   "cell_type": "code",
   "execution_count": 43,
   "metadata": {
    "execution": {
     "iopub.execute_input": "2021-06-05T16:28:43.714649Z",
     "iopub.status.busy": "2021-06-05T16:28:43.713832Z",
     "iopub.status.idle": "2021-06-05T16:28:43.718539Z",
     "shell.execute_reply": "2021-06-05T16:28:43.717971Z",
     "shell.execute_reply.started": "2021-06-05T15:23:46.873794Z"
    },
    "papermill": {
     "duration": 0.092008,
     "end_time": "2021-06-05T16:28:43.718655",
     "exception": false,
     "start_time": "2021-06-05T16:28:43.626647",
     "status": "completed"
    },
    "tags": []
   },
   "outputs": [
    {
     "data": {
      "text/html": [
       "<div>\n",
       "<style scoped>\n",
       "    .dataframe tbody tr th:only-of-type {\n",
       "        vertical-align: middle;\n",
       "    }\n",
       "\n",
       "    .dataframe tbody tr th {\n",
       "        vertical-align: top;\n",
       "    }\n",
       "\n",
       "    .dataframe thead th {\n",
       "        text-align: right;\n",
       "    }\n",
       "</style>\n",
       "<table border=\"1\" class=\"dataframe\">\n",
       "  <thead>\n",
       "    <tr style=\"text-align: right;\">\n",
       "      <th></th>\n",
       "      <th>PassengerId</th>\n",
       "      <th>Survived</th>\n",
       "      <th>Pclass</th>\n",
       "      <th>Age</th>\n",
       "      <th>SibSp</th>\n",
       "      <th>Parch</th>\n",
       "      <th>Fare</th>\n",
       "      <th>FamilySize</th>\n",
       "    </tr>\n",
       "    <tr>\n",
       "      <th>Initial</th>\n",
       "      <th></th>\n",
       "      <th></th>\n",
       "      <th></th>\n",
       "      <th></th>\n",
       "      <th></th>\n",
       "      <th></th>\n",
       "      <th></th>\n",
       "      <th></th>\n",
       "    </tr>\n",
       "  </thead>\n",
       "  <tbody>\n",
       "    <tr>\n",
       "      <th>Master</th>\n",
       "      <td>414.975000</td>\n",
       "      <td>0.575000</td>\n",
       "      <td>2.625000</td>\n",
       "      <td>4.574167</td>\n",
       "      <td>2.300000</td>\n",
       "      <td>1.375000</td>\n",
       "      <td>3.340710</td>\n",
       "      <td>4.675000</td>\n",
       "    </tr>\n",
       "    <tr>\n",
       "      <th>Miss</th>\n",
       "      <td>411.741935</td>\n",
       "      <td>0.704301</td>\n",
       "      <td>2.284946</td>\n",
       "      <td>21.860000</td>\n",
       "      <td>0.698925</td>\n",
       "      <td>0.537634</td>\n",
       "      <td>3.123713</td>\n",
       "      <td>2.236559</td>\n",
       "    </tr>\n",
       "    <tr>\n",
       "      <th>Mr</th>\n",
       "      <td>455.880907</td>\n",
       "      <td>0.162571</td>\n",
       "      <td>2.381853</td>\n",
       "      <td>32.739609</td>\n",
       "      <td>0.293006</td>\n",
       "      <td>0.151229</td>\n",
       "      <td>2.651507</td>\n",
       "      <td>1.444234</td>\n",
       "    </tr>\n",
       "    <tr>\n",
       "      <th>Mrs</th>\n",
       "      <td>456.393701</td>\n",
       "      <td>0.795276</td>\n",
       "      <td>1.984252</td>\n",
       "      <td>35.981818</td>\n",
       "      <td>0.692913</td>\n",
       "      <td>0.818898</td>\n",
       "      <td>3.443751</td>\n",
       "      <td>2.511811</td>\n",
       "    </tr>\n",
       "    <tr>\n",
       "      <th>Other</th>\n",
       "      <td>564.444444</td>\n",
       "      <td>0.111111</td>\n",
       "      <td>1.666667</td>\n",
       "      <td>45.888889</td>\n",
       "      <td>0.111111</td>\n",
       "      <td>0.111111</td>\n",
       "      <td>2.641605</td>\n",
       "      <td>1.222222</td>\n",
       "    </tr>\n",
       "  </tbody>\n",
       "</table>\n",
       "</div>"
      ],
      "text/plain": [
       "         PassengerId  Survived    Pclass        Age     SibSp     Parch  \\\n",
       "Initial                                                                   \n",
       "Master    414.975000  0.575000  2.625000   4.574167  2.300000  1.375000   \n",
       "Miss      411.741935  0.704301  2.284946  21.860000  0.698925  0.537634   \n",
       "Mr        455.880907  0.162571  2.381853  32.739609  0.293006  0.151229   \n",
       "Mrs       456.393701  0.795276  1.984252  35.981818  0.692913  0.818898   \n",
       "Other     564.444444  0.111111  1.666667  45.888889  0.111111  0.111111   \n",
       "\n",
       "             Fare  FamilySize  \n",
       "Initial                        \n",
       "Master   3.340710    4.675000  \n",
       "Miss     3.123713    2.236559  \n",
       "Mr       2.651507    1.444234  \n",
       "Mrs      3.443751    2.511811  \n",
       "Other    2.641605    1.222222  "
      ]
     },
     "execution_count": 43,
     "metadata": {},
     "output_type": "execute_result"
    }
   ],
   "source": [
    "df_train.groupby('Initial').mean()"
   ]
  },
  {
   "cell_type": "code",
   "execution_count": 44,
   "metadata": {
    "execution": {
     "iopub.execute_input": "2021-06-05T16:28:43.875207Z",
     "iopub.status.busy": "2021-06-05T16:28:43.871202Z",
     "iopub.status.idle": "2021-06-05T16:28:44.005547Z",
     "shell.execute_reply": "2021-06-05T16:28:44.005984Z",
     "shell.execute_reply.started": "2021-06-05T15:26:52.192259Z"
    },
    "papermill": {
     "duration": 0.216645,
     "end_time": "2021-06-05T16:28:44.006181",
     "exception": false,
     "start_time": "2021-06-05T16:28:43.789536",
     "status": "completed"
    },
    "tags": []
   },
   "outputs": [
    {
     "data": {
      "text/plain": [
       "<matplotlib.axes._subplots.AxesSubplot at 0x7f2910e45a90>"
      ]
     },
     "execution_count": 44,
     "metadata": {},
     "output_type": "execute_result"
    },
    {
     "data": {
      "image/png": "[encoded data removed]",
      "text/plain": [
       "<Figure size 432x288 with 1 Axes>"
      ]
     },
     "metadata": {
      "needs_background": "light"
     },
     "output_type": "display_data"
    }
   ],
   "source": [
    "df_train.groupby('Initial')['Survived'].mean().plot.bar()"
   ]
  },
  {
   "cell_type": "code",
   "execution_count": 45,
   "metadata": {
    "execution": {
     "iopub.execute_input": "2021-06-05T16:28:44.186810Z",
     "iopub.status.busy": "2021-06-05T16:28:44.180989Z",
     "iopub.status.idle": "2021-06-05T16:28:44.218189Z",
     "shell.execute_reply": "2021-06-05T16:28:44.217684Z",
     "shell.execute_reply.started": "2021-06-05T15:30:11.507521Z"
    },
    "papermill": {
     "duration": 0.13905,
     "end_time": "2021-06-05T16:28:44.218321",
     "exception": false,
     "start_time": "2021-06-05T16:28:44.079271",
     "status": "completed"
    },
    "tags": []
   },
   "outputs": [],
   "source": [
    "df_train.loc[(df_train.Age.isnull())&(df_train.Initial=='Mr'), 'Age'] = 33\n",
    "df_train.loc[(df_train.Age.isnull())&(df_train.Initial=='Mrs'), 'Age'] = 36\n",
    "df_train.loc[(df_train.Age.isnull())&(df_train.Initial=='Master'), 'Age'] = 5\n",
    "df_train.loc[(df_train.Age.isnull())&(df_train.Initial=='Miss'), 'Age'] = 22\n",
    "df_train.loc[(df_train.Age.isnull())&(df_train.Initial=='Other'), 'Age'] = 46\n",
    "\n",
    "df_test.loc[(df_test.Age.isnull())&(df_train.Initial=='Mr'), 'Age'] = 33\n",
    "df_test.loc[(df_test.Age.isnull())&(df_train.Initial=='Mrs'), 'Age'] = 36\n",
    "df_test.loc[(df_test.Age.isnull())&(df_train.Initial=='Master'), 'Age'] = 5\n",
    "df_test.loc[(df_test.Age.isnull())&(df_train.Initial=='Miss'), 'Age'] = 22\n",
    "df_test.loc[(df_test.Age.isnull())&(df_train.Initial=='Other'), 'Age'] = 46"
   ]
  },
  {
   "cell_type": "markdown",
   "metadata": {
    "papermill": {
     "duration": 0.070883,
     "end_time": "2021-06-05T16:28:44.362276",
     "exception": false,
     "start_time": "2021-06-05T16:28:44.291393",
     "status": "completed"
    },
    "tags": []
   },
   "source": [
    "### 3.1.2 Fill Null in Embarked"
   ]
  },
  {
   "cell_type": "code",
   "execution_count": 46,
   "metadata": {
    "execution": {
     "iopub.execute_input": "2021-06-05T16:28:44.512086Z",
     "iopub.status.busy": "2021-06-05T16:28:44.511506Z",
     "iopub.status.idle": "2021-06-05T16:28:44.514021Z",
     "shell.execute_reply": "2021-06-05T16:28:44.514473Z",
     "shell.execute_reply.started": "2021-06-05T15:33:29.742109Z"
    },
    "papermill": {
     "duration": 0.08066,
     "end_time": "2021-06-05T16:28:44.514631",
     "exception": false,
     "start_time": "2021-06-05T16:28:44.433971",
     "status": "completed"
    },
    "tags": []
   },
   "outputs": [
    {
     "name": "stdout",
     "output_type": "stream",
     "text": [
      "Embarked has 2 Null Values\n"
     ]
    }
   ],
   "source": [
    "print('Embarked has', sum(df_train['Embarked'].isnull()), 'Null Values')"
   ]
  },
  {
   "cell_type": "markdown",
   "metadata": {
    "papermill": {
     "duration": 0.071259,
     "end_time": "2021-06-05T16:28:44.657943",
     "exception": false,
     "start_time": "2021-06-05T16:28:44.586684",
     "status": "completed"
    },
    "tags": []
   },
   "source": [
    "- 널 발류 2개고 S가 가장 탑승객 많았으니까 그냥 S로 추정하여 채움"
   ]
  },
  {
   "cell_type": "code",
   "execution_count": 47,
   "metadata": {
    "execution": {
     "iopub.execute_input": "2021-06-05T16:28:44.806380Z",
     "iopub.status.busy": "2021-06-05T16:28:44.805797Z",
     "iopub.status.idle": "2021-06-05T16:28:44.809212Z",
     "shell.execute_reply": "2021-06-05T16:28:44.808625Z",
     "shell.execute_reply.started": "2021-06-05T15:34:33.949158Z"
    },
    "papermill": {
     "duration": 0.080002,
     "end_time": "2021-06-05T16:28:44.809361",
     "exception": false,
     "start_time": "2021-06-05T16:28:44.729359",
     "status": "completed"
    },
    "tags": []
   },
   "outputs": [],
   "source": [
    "df_train['Embarked'].fillna('S', inplace=True)"
   ]
  },
  {
   "cell_type": "markdown",
   "metadata": {
    "papermill": {
     "duration": 0.072321,
     "end_time": "2021-06-05T16:28:44.952691",
     "exception": false,
     "start_time": "2021-06-05T16:28:44.880370",
     "status": "completed"
    },
    "tags": []
   },
   "source": [
    "## 3.2 Change Age(continuous to categorical\n",
    "- age 는 현재 continuous feature 입니다. age를 몇개의 group으로 나누어 category화 시킬 수도 있습니다. information loss가 생길수도 있지만 그것은 모델에 따라 다르게 적용!\n",
    "- 10살 기준으로 나누어봅시다,,,"
   ]
  },
  {
   "cell_type": "code",
   "execution_count": 48,
   "metadata": {
    "execution": {
     "iopub.execute_input": "2021-06-05T16:28:45.097333Z",
     "iopub.status.busy": "2021-06-05T16:28:45.096482Z",
     "iopub.status.idle": "2021-06-05T16:28:45.104119Z",
     "shell.execute_reply": "2021-06-05T16:28:45.104530Z",
     "shell.execute_reply.started": "2021-06-05T15:38:42.974217Z"
    },
    "papermill": {
     "duration": 0.08164,
     "end_time": "2021-06-05T16:28:45.104672",
     "exception": false,
     "start_time": "2021-06-05T16:28:45.023032",
     "status": "completed"
    },
    "tags": []
   },
   "outputs": [],
   "source": [
    "def category_age(x):\n",
    "    if x < 10:\n",
    "        return 0\n",
    "    elif x < 20:\n",
    "        return 1\n",
    "    elif x < 30:\n",
    "        return 2\n",
    "    elif x < 40:\n",
    "        return 3\n",
    "    elif x < 50:\n",
    "        return 4\n",
    "    elif x < 60:\n",
    "        return 5\n",
    "    elif x < 70:\n",
    "        return 6\n",
    "    else:\n",
    "        return 7\n",
    "    \n",
    "df_train['Age_cat'] = df_train['Age'].apply(category_age)"
   ]
  },
  {
   "cell_type": "code",
   "execution_count": 49,
   "metadata": {
    "execution": {
     "iopub.execute_input": "2021-06-05T16:28:45.252354Z",
     "iopub.status.busy": "2021-06-05T16:28:45.251430Z",
     "iopub.status.idle": "2021-06-05T16:28:45.258457Z",
     "shell.execute_reply": "2021-06-05T16:28:45.257842Z",
     "shell.execute_reply.started": "2021-06-05T15:39:40.575150Z"
    },
    "papermill": {
     "duration": 0.08386,
     "end_time": "2021-06-05T16:28:45.258570",
     "exception": false,
     "start_time": "2021-06-05T16:28:45.174710",
     "status": "completed"
    },
    "tags": []
   },
   "outputs": [],
   "source": [
    "df_test['Age_cat'] = df_test['Age'].apply(category_age)"
   ]
  },
  {
   "cell_type": "code",
   "execution_count": 50,
   "metadata": {
    "execution": {
     "iopub.execute_input": "2021-06-05T16:28:45.406495Z",
     "iopub.status.busy": "2021-06-05T16:28:45.404589Z",
     "iopub.status.idle": "2021-06-05T16:28:45.411219Z",
     "shell.execute_reply": "2021-06-05T16:28:45.410748Z",
     "shell.execute_reply.started": "2021-06-05T15:39:42.616143Z"
    },
    "papermill": {
     "duration": 0.082494,
     "end_time": "2021-06-05T16:28:45.411335",
     "exception": false,
     "start_time": "2021-06-05T16:28:45.328841",
     "status": "completed"
    },
    "tags": []
   },
   "outputs": [],
   "source": [
    "df_train.drop(['Age'], axis=1, inplace=True)\n",
    "df_test.drop(['Age'], axis=1, inplace=True)"
   ]
  },
  {
   "cell_type": "markdown",
   "metadata": {
    "papermill": {
     "duration": 0.070229,
     "end_time": "2021-06-05T16:28:45.552253",
     "exception": false,
     "start_time": "2021-06-05T16:28:45.482024",
     "status": "completed"
    },
    "tags": []
   },
   "source": [
    "## 3.3 Change Initial, Embarked and Sex (string to numerical)\n",
    "- 현재 initial은 mr, mrs, miss, master, other로 이루어짐\n",
    "- 컴퓨터가 인식할 수 있도록 수치화 시켜야 함"
   ]
  },
  {
   "cell_type": "code",
   "execution_count": 51,
   "metadata": {
    "execution": {
     "iopub.execute_input": "2021-06-05T16:28:45.697476Z",
     "iopub.status.busy": "2021-06-05T16:28:45.696867Z",
     "iopub.status.idle": "2021-06-05T16:28:45.710588Z",
     "shell.execute_reply": "2021-06-05T16:28:45.710058Z",
     "shell.execute_reply.started": "2021-06-05T15:44:22.899059Z"
    },
    "papermill": {
     "duration": 0.087223,
     "end_time": "2021-06-05T16:28:45.710717",
     "exception": false,
     "start_time": "2021-06-05T16:28:45.623494",
     "status": "completed"
    },
    "tags": []
   },
   "outputs": [],
   "source": [
    "df_train['Initial'] = df_train['Initial'].map({'Master':0, 'Miss':1, 'Mr':2, 'Mrs':3, 'Other':4})\n",
    "df_test['Initial'] = df_test['Initial'].map({'Master':0, 'Miss':1, 'Mr':2, 'Mrs':3, 'Other':4})\n",
    "\n",
    "df_train['Embarked'] = df_train['Embarked'].map({'C':0, 'Q':1, 'S':2})\n",
    "df_test['Embarked'] = df_test['Embarked'].map({'C':0, 'Q':1, 'S':2})"
   ]
  },
  {
   "cell_type": "code",
   "execution_count": 52,
   "metadata": {
    "execution": {
     "iopub.execute_input": "2021-06-05T16:28:45.860294Z",
     "iopub.status.busy": "2021-06-05T16:28:45.859660Z",
     "iopub.status.idle": "2021-06-05T16:28:45.864578Z",
     "shell.execute_reply": "2021-06-05T16:28:45.865132Z",
     "shell.execute_reply.started": "2021-06-05T15:44:37.232684Z"
    },
    "papermill": {
     "duration": 0.081505,
     "end_time": "2021-06-05T16:28:45.865292",
     "exception": false,
     "start_time": "2021-06-05T16:28:45.783787",
     "status": "completed"
    },
    "tags": []
   },
   "outputs": [
    {
     "data": {
      "text/plain": [
       "False"
      ]
     },
     "execution_count": 52,
     "metadata": {},
     "output_type": "execute_result"
    }
   ],
   "source": [
    "df_train['Embarked'].isnull().any()"
   ]
  },
  {
   "cell_type": "code",
   "execution_count": 53,
   "metadata": {
    "execution": {
     "iopub.execute_input": "2021-06-05T16:28:46.014385Z",
     "iopub.status.busy": "2021-06-05T16:28:46.013760Z",
     "iopub.status.idle": "2021-06-05T16:28:46.021947Z",
     "shell.execute_reply": "2021-06-05T16:28:46.021294Z",
     "shell.execute_reply.started": "2021-06-05T15:45:27.115361Z"
    },
    "papermill": {
     "duration": 0.083539,
     "end_time": "2021-06-05T16:28:46.022081",
     "exception": false,
     "start_time": "2021-06-05T16:28:45.938542",
     "status": "completed"
    },
    "tags": []
   },
   "outputs": [],
   "source": [
    "df_train['Sex'] = df_train['Sex'].map({'female':0, 'male':1})\n",
    "df_test['Sex'] = df_test['Sex'].map({'female':0, 'male':1})"
   ]
  },
  {
   "cell_type": "markdown",
   "metadata": {
    "papermill": {
     "duration": 0.072203,
     "end_time": "2021-06-05T16:28:46.166692",
     "exception": false,
     "start_time": "2021-06-05T16:28:46.094489",
     "status": "completed"
    },
    "tags": []
   },
   "source": [
    "- 이제 feature 간 상관관계를 확인해보겠음 pearson correlation을 구하면 (-1,1) 사이의 값을 얻을 수 있음"
   ]
  },
  {
   "cell_type": "code",
   "execution_count": 54,
   "metadata": {
    "execution": {
     "iopub.execute_input": "2021-06-05T16:28:46.318557Z",
     "iopub.status.busy": "2021-06-05T16:28:46.317948Z",
     "iopub.status.idle": "2021-06-05T16:28:46.740471Z",
     "shell.execute_reply": "2021-06-05T16:28:46.740912Z",
     "shell.execute_reply.started": "2021-06-05T15:49:34.385272Z"
    },
    "papermill": {
     "duration": 0.502328,
     "end_time": "2021-06-05T16:28:46.741064",
     "exception": false,
     "start_time": "2021-06-05T16:28:46.238736",
     "status": "completed"
    },
    "tags": []
   },
   "outputs": [
    {
     "data": {
      "image/png": "[encoded data removed]",
      "text/plain": [
       "<Figure size 1008x864 with 2 Axes>"
      ]
     },
     "metadata": {
      "needs_background": "light"
     },
     "output_type": "display_data"
    }
   ],
   "source": [
    "heatmap_data = df_train[['Survived','Pclass','Sex','Fare','Embarked','FamilySize','Initial','Age_cat']]\n",
    "\n",
    "colormap = plt.cm.RdBu\n",
    "plt.figure(figsize=(14,12))\n",
    "plt.title('Pearson Correlation of Features', y=1.05, size=15)\n",
    "sns.heatmap(heatmap_data.astype(float).corr(), linewidths=0.1, vmax=1.0, square=True, cmap=colormap, linecolor='white', annot=True, annot_kws={\"size\":16})\n",
    "\n",
    "del heatmap_data"
   ]
  },
  {
   "cell_type": "markdown",
   "metadata": {
    "papermill": {
     "duration": 0.076098,
     "end_time": "2021-06-05T16:28:46.893526",
     "exception": false,
     "start_time": "2021-06-05T16:28:46.817428",
     "status": "completed"
    },
    "tags": []
   },
   "source": [
    "- Sex, Pclass 가 생존확률에 상관관계가 어느정도 있음을 알 수 있음\n",
    "- 생각보다 fare와 embarked도 상관관계가 있음\n",
    "- 서로 강한 상관관곌르 가지는 feature가 없음\n",
    "- 이는 우리가 redundant, superfluous 한 feature가 없다는 것을 의미함. 1 / -1 의 상관관계를 가진다면 우리가 얻을 수 있는 정보는 하나이기 때문"
   ]
  },
  {
   "cell_type": "markdown",
   "metadata": {
    "papermill": {
     "duration": 0.074506,
     "end_time": "2021-06-05T16:28:47.046690",
     "exception": false,
     "start_time": "2021-06-05T16:28:46.972184",
     "status": "completed"
    },
    "tags": []
   },
   "source": [
    "## 3.4 One-hot encoding on Initial and Embarked\n",
    "- 수치화시킨 카테고리 데이터를 그대로 넣어도 되지만, 모델의 성능을 높이기 위해 원핫 인코딩을 할 수 있다"
   ]
  },
  {
   "cell_type": "code",
   "execution_count": 55,
   "metadata": {
    "execution": {
     "iopub.execute_input": "2021-06-05T16:28:47.204227Z",
     "iopub.status.busy": "2021-06-05T16:28:47.203514Z",
     "iopub.status.idle": "2021-06-05T16:28:47.213140Z",
     "shell.execute_reply": "2021-06-05T16:28:47.213549Z",
     "shell.execute_reply.started": "2021-06-05T15:56:32.015902Z"
    },
    "papermill": {
     "duration": 0.092051,
     "end_time": "2021-06-05T16:28:47.213705",
     "exception": false,
     "start_time": "2021-06-05T16:28:47.121654",
     "status": "completed"
    },
    "tags": []
   },
   "outputs": [],
   "source": [
    "df_train = pd.get_dummies(df_train, columns=['Initial'], prefix='Initial')\n",
    "df_test = pd.get_dummies(df_test, columns=['Initial'], prefix='Initial')"
   ]
  },
  {
   "cell_type": "code",
   "execution_count": 56,
   "metadata": {
    "execution": {
     "iopub.execute_input": "2021-06-05T16:28:47.378995Z",
     "iopub.status.busy": "2021-06-05T16:28:47.373082Z",
     "iopub.status.idle": "2021-06-05T16:28:47.384019Z",
     "shell.execute_reply": "2021-06-05T16:28:47.383487Z",
     "shell.execute_reply.started": "2021-06-05T15:56:39.991930Z"
    },
    "papermill": {
     "duration": 0.09483,
     "end_time": "2021-06-05T16:28:47.384167",
     "exception": false,
     "start_time": "2021-06-05T16:28:47.289337",
     "status": "completed"
    },
    "tags": []
   },
   "outputs": [
    {
     "data": {
      "text/html": [
       "<div>\n",
       "<style scoped>\n",
       "    .dataframe tbody tr th:only-of-type {\n",
       "        vertical-align: middle;\n",
       "    }\n",
       "\n",
       "    .dataframe tbody tr th {\n",
       "        vertical-align: top;\n",
       "    }\n",
       "\n",
       "    .dataframe thead th {\n",
       "        text-align: right;\n",
       "    }\n",
       "</style>\n",
       "<table border=\"1\" class=\"dataframe\">\n",
       "  <thead>\n",
       "    <tr style=\"text-align: right;\">\n",
       "      <th></th>\n",
       "      <th>PassengerId</th>\n",
       "      <th>Survived</th>\n",
       "      <th>Pclass</th>\n",
       "      <th>Name</th>\n",
       "      <th>Sex</th>\n",
       "      <th>SibSp</th>\n",
       "      <th>Parch</th>\n",
       "      <th>Ticket</th>\n",
       "      <th>Fare</th>\n",
       "      <th>Cabin</th>\n",
       "      <th>Embarked</th>\n",
       "      <th>FamilySize</th>\n",
       "      <th>Age_cat</th>\n",
       "      <th>Initial_0</th>\n",
       "      <th>Initial_1</th>\n",
       "      <th>Initial_2</th>\n",
       "      <th>Initial_3</th>\n",
       "      <th>Initial_4</th>\n",
       "    </tr>\n",
       "  </thead>\n",
       "  <tbody>\n",
       "    <tr>\n",
       "      <th>0</th>\n",
       "      <td>1</td>\n",
       "      <td>0</td>\n",
       "      <td>3</td>\n",
       "      <td>Braund, Mr. Owen Harris</td>\n",
       "      <td>1</td>\n",
       "      <td>1</td>\n",
       "      <td>0</td>\n",
       "      <td>A/5 21171</td>\n",
       "      <td>1.981001</td>\n",
       "      <td>NaN</td>\n",
       "      <td>2</td>\n",
       "      <td>2</td>\n",
       "      <td>2</td>\n",
       "      <td>0</td>\n",
       "      <td>0</td>\n",
       "      <td>1</td>\n",
       "      <td>0</td>\n",
       "      <td>0</td>\n",
       "    </tr>\n",
       "    <tr>\n",
       "      <th>1</th>\n",
       "      <td>2</td>\n",
       "      <td>1</td>\n",
       "      <td>1</td>\n",
       "      <td>Cumings, Mrs. John Bradley (Florence Briggs Th...</td>\n",
       "      <td>0</td>\n",
       "      <td>1</td>\n",
       "      <td>0</td>\n",
       "      <td>PC 17599</td>\n",
       "      <td>4.266662</td>\n",
       "      <td>C85</td>\n",
       "      <td>0</td>\n",
       "      <td>2</td>\n",
       "      <td>3</td>\n",
       "      <td>0</td>\n",
       "      <td>0</td>\n",
       "      <td>0</td>\n",
       "      <td>1</td>\n",
       "      <td>0</td>\n",
       "    </tr>\n",
       "    <tr>\n",
       "      <th>2</th>\n",
       "      <td>3</td>\n",
       "      <td>1</td>\n",
       "      <td>3</td>\n",
       "      <td>Heikkinen, Miss. Laina</td>\n",
       "      <td>0</td>\n",
       "      <td>0</td>\n",
       "      <td>0</td>\n",
       "      <td>STON/O2. 3101282</td>\n",
       "      <td>2.070022</td>\n",
       "      <td>NaN</td>\n",
       "      <td>2</td>\n",
       "      <td>1</td>\n",
       "      <td>2</td>\n",
       "      <td>0</td>\n",
       "      <td>1</td>\n",
       "      <td>0</td>\n",
       "      <td>0</td>\n",
       "      <td>0</td>\n",
       "    </tr>\n",
       "    <tr>\n",
       "      <th>3</th>\n",
       "      <td>4</td>\n",
       "      <td>1</td>\n",
       "      <td>1</td>\n",
       "      <td>Futrelle, Mrs. Jacques Heath (Lily May Peel)</td>\n",
       "      <td>0</td>\n",
       "      <td>1</td>\n",
       "      <td>0</td>\n",
       "      <td>113803</td>\n",
       "      <td>3.972177</td>\n",
       "      <td>C123</td>\n",
       "      <td>2</td>\n",
       "      <td>2</td>\n",
       "      <td>3</td>\n",
       "      <td>0</td>\n",
       "      <td>0</td>\n",
       "      <td>0</td>\n",
       "      <td>1</td>\n",
       "      <td>0</td>\n",
       "    </tr>\n",
       "    <tr>\n",
       "      <th>4</th>\n",
       "      <td>5</td>\n",
       "      <td>0</td>\n",
       "      <td>3</td>\n",
       "      <td>Allen, Mr. William Henry</td>\n",
       "      <td>1</td>\n",
       "      <td>0</td>\n",
       "      <td>0</td>\n",
       "      <td>373450</td>\n",
       "      <td>2.085672</td>\n",
       "      <td>NaN</td>\n",
       "      <td>2</td>\n",
       "      <td>1</td>\n",
       "      <td>3</td>\n",
       "      <td>0</td>\n",
       "      <td>0</td>\n",
       "      <td>1</td>\n",
       "      <td>0</td>\n",
       "      <td>0</td>\n",
       "    </tr>\n",
       "  </tbody>\n",
       "</table>\n",
       "</div>"
      ],
      "text/plain": [
       "   PassengerId  Survived  Pclass  \\\n",
       "0            1         0       3   \n",
       "1            2         1       1   \n",
       "2            3         1       3   \n",
       "3            4         1       1   \n",
       "4            5         0       3   \n",
       "\n",
       "                                                Name  Sex  SibSp  Parch  \\\n",
       "0                            Braund, Mr. Owen Harris    1      1      0   \n",
       "1  Cumings, Mrs. John Bradley (Florence Briggs Th...    0      1      0   \n",
       "2                             Heikkinen, Miss. Laina    0      0      0   \n",
       "3       Futrelle, Mrs. Jacques Heath (Lily May Peel)    0      1      0   \n",
       "4                           Allen, Mr. William Henry    1      0      0   \n",
       "\n",
       "             Ticket      Fare Cabin  Embarked  FamilySize  Age_cat  Initial_0  \\\n",
       "0         A/5 21171  1.981001   NaN         2           2        2          0   \n",
       "1          PC 17599  4.266662   C85         0           2        3          0   \n",
       "2  STON/O2. 3101282  2.070022   NaN         2           1        2          0   \n",
       "3            113803  3.972177  C123         2           2        3          0   \n",
       "4            373450  2.085672   NaN         2           1        3          0   \n",
       "\n",
       "   Initial_1  Initial_2  Initial_3  Initial_4  \n",
       "0          0          1          0          0  \n",
       "1          0          0          1          0  \n",
       "2          1          0          0          0  \n",
       "3          0          0          1          0  \n",
       "4          0          1          0          0  "
      ]
     },
     "execution_count": 56,
     "metadata": {},
     "output_type": "execute_result"
    }
   ],
   "source": [
    "df_train.head()"
   ]
  },
  {
   "cell_type": "code",
   "execution_count": 57,
   "metadata": {
    "execution": {
     "iopub.execute_input": "2021-06-05T16:28:47.537358Z",
     "iopub.status.busy": "2021-06-05T16:28:47.536801Z",
     "iopub.status.idle": "2021-06-05T16:28:47.548679Z",
     "shell.execute_reply": "2021-06-05T16:28:47.549167Z",
     "shell.execute_reply.started": "2021-06-05T16:00:42.863989Z"
    },
    "papermill": {
     "duration": 0.09003,
     "end_time": "2021-06-05T16:28:47.549326",
     "exception": false,
     "start_time": "2021-06-05T16:28:47.459296",
     "status": "completed"
    },
    "tags": []
   },
   "outputs": [],
   "source": [
    "df_train = pd.get_dummies(df_train, columns=['Embarked'], prefix='Embarked')\n",
    "df_test = pd.get_dummies(df_test, columns=['Embarked'], prefix='Embarked')"
   ]
  },
  {
   "cell_type": "markdown",
   "metadata": {
    "papermill": {
     "duration": 0.074956,
     "end_time": "2021-06-05T16:28:47.699261",
     "exception": false,
     "start_time": "2021-06-05T16:28:47.624305",
     "status": "completed"
    },
    "tags": []
   },
   "source": [
    "## 3.5 Drop columns"
   ]
  },
  {
   "cell_type": "code",
   "execution_count": 58,
   "metadata": {
    "execution": {
     "iopub.execute_input": "2021-06-05T16:28:47.852121Z",
     "iopub.status.busy": "2021-06-05T16:28:47.851542Z",
     "iopub.status.idle": "2021-06-05T16:28:47.858569Z",
     "shell.execute_reply": "2021-06-05T16:28:47.859050Z",
     "shell.execute_reply.started": "2021-06-05T16:02:11.994805Z"
    },
    "papermill": {
     "duration": 0.084959,
     "end_time": "2021-06-05T16:28:47.859237",
     "exception": false,
     "start_time": "2021-06-05T16:28:47.774278",
     "status": "completed"
    },
    "tags": []
   },
   "outputs": [],
   "source": [
    "df_train.drop(['PassengerId','Name', 'SibSp','Parch','Ticket','Cabin'], axis=1, inplace=True)\n",
    "df_test.drop(['PassengerId','Name', 'SibSp','Parch','Ticket','Cabin'], axis=1, inplace=True)"
   ]
  },
  {
   "cell_type": "code",
   "execution_count": 59,
   "metadata": {
    "execution": {
     "iopub.execute_input": "2021-06-05T16:28:48.012035Z",
     "iopub.status.busy": "2021-06-05T16:28:48.011484Z",
     "iopub.status.idle": "2021-06-05T16:28:48.024989Z",
     "shell.execute_reply": "2021-06-05T16:28:48.024379Z",
     "shell.execute_reply.started": "2021-06-05T16:02:20.857099Z"
    },
    "papermill": {
     "duration": 0.090916,
     "end_time": "2021-06-05T16:28:48.025128",
     "exception": false,
     "start_time": "2021-06-05T16:28:47.934212",
     "status": "completed"
    },
    "tags": []
   },
   "outputs": [
    {
     "data": {
      "text/html": [
       "<div>\n",
       "<style scoped>\n",
       "    .dataframe tbody tr th:only-of-type {\n",
       "        vertical-align: middle;\n",
       "    }\n",
       "\n",
       "    .dataframe tbody tr th {\n",
       "        vertical-align: top;\n",
       "    }\n",
       "\n",
       "    .dataframe thead th {\n",
       "        text-align: right;\n",
       "    }\n",
       "</style>\n",
       "<table border=\"1\" class=\"dataframe\">\n",
       "  <thead>\n",
       "    <tr style=\"text-align: right;\">\n",
       "      <th></th>\n",
       "      <th>Survived</th>\n",
       "      <th>Pclass</th>\n",
       "      <th>Sex</th>\n",
       "      <th>Fare</th>\n",
       "      <th>FamilySize</th>\n",
       "      <th>Age_cat</th>\n",
       "      <th>Initial_0</th>\n",
       "      <th>Initial_1</th>\n",
       "      <th>Initial_2</th>\n",
       "      <th>Initial_3</th>\n",
       "      <th>Initial_4</th>\n",
       "      <th>Embarked_0</th>\n",
       "      <th>Embarked_1</th>\n",
       "      <th>Embarked_2</th>\n",
       "    </tr>\n",
       "  </thead>\n",
       "  <tbody>\n",
       "    <tr>\n",
       "      <th>0</th>\n",
       "      <td>0</td>\n",
       "      <td>3</td>\n",
       "      <td>1</td>\n",
       "      <td>1.981001</td>\n",
       "      <td>2</td>\n",
       "      <td>2</td>\n",
       "      <td>0</td>\n",
       "      <td>0</td>\n",
       "      <td>1</td>\n",
       "      <td>0</td>\n",
       "      <td>0</td>\n",
       "      <td>0</td>\n",
       "      <td>0</td>\n",
       "      <td>1</td>\n",
       "    </tr>\n",
       "    <tr>\n",
       "      <th>1</th>\n",
       "      <td>1</td>\n",
       "      <td>1</td>\n",
       "      <td>0</td>\n",
       "      <td>4.266662</td>\n",
       "      <td>2</td>\n",
       "      <td>3</td>\n",
       "      <td>0</td>\n",
       "      <td>0</td>\n",
       "      <td>0</td>\n",
       "      <td>1</td>\n",
       "      <td>0</td>\n",
       "      <td>1</td>\n",
       "      <td>0</td>\n",
       "      <td>0</td>\n",
       "    </tr>\n",
       "    <tr>\n",
       "      <th>2</th>\n",
       "      <td>1</td>\n",
       "      <td>3</td>\n",
       "      <td>0</td>\n",
       "      <td>2.070022</td>\n",
       "      <td>1</td>\n",
       "      <td>2</td>\n",
       "      <td>0</td>\n",
       "      <td>1</td>\n",
       "      <td>0</td>\n",
       "      <td>0</td>\n",
       "      <td>0</td>\n",
       "      <td>0</td>\n",
       "      <td>0</td>\n",
       "      <td>1</td>\n",
       "    </tr>\n",
       "    <tr>\n",
       "      <th>3</th>\n",
       "      <td>1</td>\n",
       "      <td>1</td>\n",
       "      <td>0</td>\n",
       "      <td>3.972177</td>\n",
       "      <td>2</td>\n",
       "      <td>3</td>\n",
       "      <td>0</td>\n",
       "      <td>0</td>\n",
       "      <td>0</td>\n",
       "      <td>1</td>\n",
       "      <td>0</td>\n",
       "      <td>0</td>\n",
       "      <td>0</td>\n",
       "      <td>1</td>\n",
       "    </tr>\n",
       "    <tr>\n",
       "      <th>4</th>\n",
       "      <td>0</td>\n",
       "      <td>3</td>\n",
       "      <td>1</td>\n",
       "      <td>2.085672</td>\n",
       "      <td>1</td>\n",
       "      <td>3</td>\n",
       "      <td>0</td>\n",
       "      <td>0</td>\n",
       "      <td>1</td>\n",
       "      <td>0</td>\n",
       "      <td>0</td>\n",
       "      <td>0</td>\n",
       "      <td>0</td>\n",
       "      <td>1</td>\n",
       "    </tr>\n",
       "  </tbody>\n",
       "</table>\n",
       "</div>"
      ],
      "text/plain": [
       "   Survived  Pclass  Sex      Fare  FamilySize  Age_cat  Initial_0  Initial_1  \\\n",
       "0         0       3    1  1.981001           2        2          0          0   \n",
       "1         1       1    0  4.266662           2        3          0          0   \n",
       "2         1       3    0  2.070022           1        2          0          1   \n",
       "3         1       1    0  3.972177           2        3          0          0   \n",
       "4         0       3    1  2.085672           1        3          0          0   \n",
       "\n",
       "   Initial_2  Initial_3  Initial_4  Embarked_0  Embarked_1  Embarked_2  \n",
       "0          1          0          0           0           0           1  \n",
       "1          0          1          0           1           0           0  \n",
       "2          0          0          0           0           0           1  \n",
       "3          0          1          0           0           0           1  \n",
       "4          1          0          0           0           0           1  "
      ]
     },
     "execution_count": 59,
     "metadata": {},
     "output_type": "execute_result"
    }
   ],
   "source": [
    "df_train.head()"
   ]
  },
  {
   "cell_type": "code",
   "execution_count": 60,
   "metadata": {
    "execution": {
     "iopub.execute_input": "2021-06-05T16:28:48.178246Z",
     "iopub.status.busy": "2021-06-05T16:28:48.177654Z",
     "iopub.status.idle": "2021-06-05T16:28:48.189810Z",
     "shell.execute_reply": "2021-06-05T16:28:48.190307Z",
     "shell.execute_reply.started": "2021-06-05T16:02:26.278347Z"
    },
    "papermill": {
     "duration": 0.090916,
     "end_time": "2021-06-05T16:28:48.190440",
     "exception": false,
     "start_time": "2021-06-05T16:28:48.099524",
     "status": "completed"
    },
    "tags": []
   },
   "outputs": [
    {
     "data": {
      "text/html": [
       "<div>\n",
       "<style scoped>\n",
       "    .dataframe tbody tr th:only-of-type {\n",
       "        vertical-align: middle;\n",
       "    }\n",
       "\n",
       "    .dataframe tbody tr th {\n",
       "        vertical-align: top;\n",
       "    }\n",
       "\n",
       "    .dataframe thead th {\n",
       "        text-align: right;\n",
       "    }\n",
       "</style>\n",
       "<table border=\"1\" class=\"dataframe\">\n",
       "  <thead>\n",
       "    <tr style=\"text-align: right;\">\n",
       "      <th></th>\n",
       "      <th>Pclass</th>\n",
       "      <th>Sex</th>\n",
       "      <th>Fare</th>\n",
       "      <th>FamilySize</th>\n",
       "      <th>Age_cat</th>\n",
       "      <th>Initial_0</th>\n",
       "      <th>Initial_1</th>\n",
       "      <th>Initial_2</th>\n",
       "      <th>Initial_3</th>\n",
       "      <th>Initial_4</th>\n",
       "      <th>Embarked_0</th>\n",
       "      <th>Embarked_1</th>\n",
       "      <th>Embarked_2</th>\n",
       "    </tr>\n",
       "  </thead>\n",
       "  <tbody>\n",
       "    <tr>\n",
       "      <th>0</th>\n",
       "      <td>3</td>\n",
       "      <td>1</td>\n",
       "      <td>2.057860</td>\n",
       "      <td>1</td>\n",
       "      <td>3</td>\n",
       "      <td>0</td>\n",
       "      <td>0</td>\n",
       "      <td>1</td>\n",
       "      <td>0</td>\n",
       "      <td>0</td>\n",
       "      <td>0</td>\n",
       "      <td>1</td>\n",
       "      <td>0</td>\n",
       "    </tr>\n",
       "    <tr>\n",
       "      <th>1</th>\n",
       "      <td>3</td>\n",
       "      <td>0</td>\n",
       "      <td>1.945910</td>\n",
       "      <td>2</td>\n",
       "      <td>4</td>\n",
       "      <td>0</td>\n",
       "      <td>0</td>\n",
       "      <td>0</td>\n",
       "      <td>1</td>\n",
       "      <td>0</td>\n",
       "      <td>0</td>\n",
       "      <td>0</td>\n",
       "      <td>1</td>\n",
       "    </tr>\n",
       "    <tr>\n",
       "      <th>2</th>\n",
       "      <td>2</td>\n",
       "      <td>1</td>\n",
       "      <td>2.270836</td>\n",
       "      <td>1</td>\n",
       "      <td>6</td>\n",
       "      <td>0</td>\n",
       "      <td>0</td>\n",
       "      <td>1</td>\n",
       "      <td>0</td>\n",
       "      <td>0</td>\n",
       "      <td>0</td>\n",
       "      <td>1</td>\n",
       "      <td>0</td>\n",
       "    </tr>\n",
       "    <tr>\n",
       "      <th>3</th>\n",
       "      <td>3</td>\n",
       "      <td>1</td>\n",
       "      <td>2.159003</td>\n",
       "      <td>1</td>\n",
       "      <td>2</td>\n",
       "      <td>0</td>\n",
       "      <td>0</td>\n",
       "      <td>1</td>\n",
       "      <td>0</td>\n",
       "      <td>0</td>\n",
       "      <td>0</td>\n",
       "      <td>0</td>\n",
       "      <td>1</td>\n",
       "    </tr>\n",
       "    <tr>\n",
       "      <th>4</th>\n",
       "      <td>3</td>\n",
       "      <td>0</td>\n",
       "      <td>2.508582</td>\n",
       "      <td>3</td>\n",
       "      <td>2</td>\n",
       "      <td>0</td>\n",
       "      <td>0</td>\n",
       "      <td>0</td>\n",
       "      <td>1</td>\n",
       "      <td>0</td>\n",
       "      <td>0</td>\n",
       "      <td>0</td>\n",
       "      <td>1</td>\n",
       "    </tr>\n",
       "  </tbody>\n",
       "</table>\n",
       "</div>"
      ],
      "text/plain": [
       "   Pclass  Sex      Fare  FamilySize  Age_cat  Initial_0  Initial_1  \\\n",
       "0       3    1  2.057860           1        3          0          0   \n",
       "1       3    0  1.945910           2        4          0          0   \n",
       "2       2    1  2.270836           1        6          0          0   \n",
       "3       3    1  2.159003           1        2          0          0   \n",
       "4       3    0  2.508582           3        2          0          0   \n",
       "\n",
       "   Initial_2  Initial_3  Initial_4  Embarked_0  Embarked_1  Embarked_2  \n",
       "0          1          0          0           0           1           0  \n",
       "1          0          1          0           0           0           1  \n",
       "2          1          0          0           0           1           0  \n",
       "3          1          0          0           0           0           1  \n",
       "4          0          1          0           0           0           1  "
      ]
     },
     "execution_count": 60,
     "metadata": {},
     "output_type": "execute_result"
    }
   ],
   "source": [
    "df_test.head()"
   ]
  },
  {
   "cell_type": "markdown",
   "metadata": {
    "papermill": {
     "duration": 0.075769,
     "end_time": "2021-06-05T16:28:48.341611",
     "exception": false,
     "start_time": "2021-06-05T16:28:48.265842",
     "status": "completed"
    },
    "tags": []
   },
   "source": [
    "# 04 Building machine learning model and prediction using the tranied model"
   ]
  },
  {
   "cell_type": "code",
   "execution_count": 61,
   "metadata": {
    "execution": {
     "iopub.execute_input": "2021-06-05T16:28:48.494367Z",
     "iopub.status.busy": "2021-06-05T16:28:48.493717Z",
     "iopub.status.idle": "2021-06-05T16:28:48.766614Z",
     "shell.execute_reply": "2021-06-05T16:28:48.766037Z",
     "shell.execute_reply.started": "2021-06-05T16:06:54.053535Z"
    },
    "papermill": {
     "duration": 0.349949,
     "end_time": "2021-06-05T16:28:48.766745",
     "exception": false,
     "start_time": "2021-06-05T16:28:48.416796",
     "status": "completed"
    },
    "tags": []
   },
   "outputs": [],
   "source": [
    "from sklearn.ensemble import RandomForestClassifier\n",
    "from sklearn import metrics\n",
    "from sklearn.model_selection import train_test_split"
   ]
  },
  {
   "cell_type": "markdown",
   "metadata": {
    "papermill": {
     "duration": 0.077211,
     "end_time": "2021-06-05T16:28:48.921522",
     "exception": false,
     "start_time": "2021-06-05T16:28:48.844311",
     "status": "completed"
    },
    "tags": []
   },
   "source": [
    "# 4.1 Preparation - Split dataset into train, valid, test set"
   ]
  },
  {
   "cell_type": "code",
   "execution_count": 62,
   "metadata": {
    "execution": {
     "iopub.execute_input": "2021-06-05T16:28:49.082619Z",
     "iopub.status.busy": "2021-06-05T16:28:49.081927Z",
     "iopub.status.idle": "2021-06-05T16:28:49.085932Z",
     "shell.execute_reply": "2021-06-05T16:28:49.085380Z",
     "shell.execute_reply.started": "2021-06-05T16:11:29.879245Z"
    },
    "papermill": {
     "duration": 0.087589,
     "end_time": "2021-06-05T16:28:49.086047",
     "exception": false,
     "start_time": "2021-06-05T16:28:48.998458",
     "status": "completed"
    },
    "tags": []
   },
   "outputs": [],
   "source": [
    "X_train = df_train.drop('Survived', axis=1).values\n",
    "target_label = df_train['Survived'].values\n",
    "X_test = df_test.values"
   ]
  },
  {
   "cell_type": "markdown",
   "metadata": {
    "papermill": {
     "duration": 0.133609,
     "end_time": "2021-06-05T16:28:49.295942",
     "exception": false,
     "start_time": "2021-06-05T16:28:49.162333",
     "status": "completed"
    },
    "tags": []
   },
   "source": [
    "- 실제 좋은 모델을 만들기 위해서는 test, train뿐만 아니라 valid set을 따로 만들어야 합니다\n",
    "- 축구대표팀이 팀훈련(train)을 하고 바로 월드컵(test)으로 나가는 것이 아니라, 팀훈련(train)을 한 다음 평가전(valid)을 거쳐 팀의 훈련 정도(학습정도)를 확인하고 월드컵(test)에 나가는 것과 비슷합니다.\n",
    "- train_test_split을 사용하여 쉽게 train셋을 분리할 수 있습니다."
   ]
  },
  {
   "cell_type": "code",
   "execution_count": 63,
   "metadata": {
    "execution": {
     "iopub.execute_input": "2021-06-05T16:28:49.454380Z",
     "iopub.status.busy": "2021-06-05T16:28:49.453612Z",
     "iopub.status.idle": "2021-06-05T16:28:49.457869Z",
     "shell.execute_reply": "2021-06-05T16:28:49.457222Z",
     "shell.execute_reply.started": "2021-06-05T16:11:34.605310Z"
    },
    "papermill": {
     "duration": 0.085353,
     "end_time": "2021-06-05T16:28:49.457989",
     "exception": false,
     "start_time": "2021-06-05T16:28:49.372636",
     "status": "completed"
    },
    "tags": []
   },
   "outputs": [],
   "source": [
    "X_tr, X_vld, y_tr, y_vld = train_test_split(X_train, target_label, test_size=0.3, random_state=2021)"
   ]
  },
  {
   "cell_type": "markdown",
   "metadata": {
    "papermill": {
     "duration": 0.076566,
     "end_time": "2021-06-05T16:28:49.611068",
     "exception": false,
     "start_time": "2021-06-05T16:28:49.534502",
     "status": "completed"
    },
    "tags": []
   },
   "source": [
    "- skelearn 에서는 여러 머신러닝 알고리즘을 지원해줍니다.\n",
    "- 공부 공부 공부!\n",
    "\n",
    "## 4.2 Model generation and prediction"
   ]
  },
  {
   "cell_type": "code",
   "execution_count": 64,
   "metadata": {
    "execution": {
     "iopub.execute_input": "2021-06-05T16:28:49.774939Z",
     "iopub.status.busy": "2021-06-05T16:28:49.769606Z",
     "iopub.status.idle": "2021-06-05T16:28:49.945033Z",
     "shell.execute_reply": "2021-06-05T16:28:49.944585Z",
     "shell.execute_reply.started": "2021-06-05T16:22:57.403760Z"
    },
    "papermill": {
     "duration": 0.257707,
     "end_time": "2021-06-05T16:28:49.945206",
     "exception": false,
     "start_time": "2021-06-05T16:28:49.687499",
     "status": "completed"
    },
    "tags": []
   },
   "outputs": [
    {
     "name": "stdout",
     "output_type": "stream",
     "text": [
      "총 268명 중 80.97% 정확도로 생존확률을 맞췄습니다.\n"
     ]
    }
   ],
   "source": [
    "model_1 = RandomForestClassifier()\n",
    "model_1.fit(X_tr, y_tr)\n",
    "prediction_1 = model_1.predict(X_vld)\n",
    "\n",
    "print('총 {}명 중 {:.2f}% 정확도로 생존확률을 맞췄습니다.'.format(y_vld.shape[0], 100*metrics.accuracy_score(prediction_1, y_vld)))"
   ]
  },
  {
   "cell_type": "code",
   "execution_count": 65,
   "metadata": {
    "execution": {
     "iopub.execute_input": "2021-06-05T16:28:50.116873Z",
     "iopub.status.busy": "2021-06-05T16:28:50.106452Z",
     "iopub.status.idle": "2021-06-05T16:28:50.275003Z",
     "shell.execute_reply": "2021-06-05T16:28:50.274010Z",
     "shell.execute_reply.started": "2021-06-05T16:23:02.177376Z"
    },
    "papermill": {
     "duration": 0.251827,
     "end_time": "2021-06-05T16:28:50.275150",
     "exception": false,
     "start_time": "2021-06-05T16:28:50.023323",
     "status": "completed"
    },
    "tags": []
   },
   "outputs": [
    {
     "name": "stdout",
     "output_type": "stream",
     "text": [
      "총 268명 중 81.34% 정확도로 생존확률을 맞췄습니다.\n"
     ]
    }
   ],
   "source": [
    "model = RandomForestClassifier(n_estimators=100, max_depth=10, random_state=1)\n",
    "model.fit(X_tr, y_tr)\n",
    "prediction = model.predict(X_vld)\n",
    "\n",
    "print('총 {}명 중 {:.2f}% 정확도로 생존확률을 맞췄습니다.'.format(y_vld.shape[0], 100*metrics.accuracy_score(prediction, y_vld)))"
   ]
  },
  {
   "cell_type": "markdown",
   "metadata": {
    "papermill": {
     "duration": 0.076682,
     "end_time": "2021-06-05T16:28:50.428259",
     "exception": false,
     "start_time": "2021-06-05T16:28:50.351577",
     "status": "completed"
    },
    "tags": []
   },
   "source": [
    "## 4.3 Feature importance\n",
    "- 학습된 모델은 feature importance 를 가지게 되는데, 우리는 이것을 확인하여 지금 만든 모델이 어떤 feature에 영향을 많이 받았는지 확인할 수 있습니다."
   ]
  },
  {
   "cell_type": "code",
   "execution_count": 66,
   "metadata": {
    "execution": {
     "iopub.execute_input": "2021-06-05T16:28:50.591687Z",
     "iopub.status.busy": "2021-06-05T16:28:50.590952Z",
     "iopub.status.idle": "2021-06-05T16:28:50.597331Z",
     "shell.execute_reply": "2021-06-05T16:28:50.597749Z",
     "shell.execute_reply.started": "2021-06-05T16:22:25.558939Z"
    },
    "papermill": {
     "duration": 0.092576,
     "end_time": "2021-06-05T16:28:50.597916",
     "exception": false,
     "start_time": "2021-06-05T16:28:50.505340",
     "status": "completed"
    },
    "tags": []
   },
   "outputs": [],
   "source": [
    "from pandas import Series\n",
    "\n",
    "feature_importance = model.feature_importances_\n",
    "Series_feat_imp = Series(feature_importance, index=df_test.columns)"
   ]
  },
  {
   "cell_type": "code",
   "execution_count": 67,
   "metadata": {
    "execution": {
     "iopub.execute_input": "2021-06-05T16:28:50.784982Z",
     "iopub.status.busy": "2021-06-05T16:28:50.784038Z",
     "iopub.status.idle": "2021-06-05T16:28:51.065271Z",
     "shell.execute_reply": "2021-06-05T16:28:51.063826Z",
     "shell.execute_reply.started": "2021-06-05T16:22:27.360684Z"
    },
    "papermill": {
     "duration": 0.392547,
     "end_time": "2021-06-05T16:28:51.065415",
     "exception": false,
     "start_time": "2021-06-05T16:28:50.672868",
     "status": "completed"
    },
    "tags": []
   },
   "outputs": [
    {
     "data": {
      "image/png": "[encoded data removed]",
      "text/plain": [
       "<Figure size 576x576 with 1 Axes>"
      ]
     },
     "metadata": {
      "needs_background": "light"
     },
     "output_type": "display_data"
    }
   ],
   "source": [
    "plt.figure(figsize=(8,8))\n",
    "Series_feat_imp.sort_values(ascending=True).plot.barh()\n",
    "plt.xlabel('Feature importance')\n",
    "plt.ylabel('Feature')\n",
    "plt.show()"
   ]
  },
  {
   "cell_type": "markdown",
   "metadata": {
    "papermill": {
     "duration": 0.080088,
     "end_time": "2021-06-05T16:28:51.227420",
     "exception": false,
     "start_time": "2021-06-05T16:28:51.147332",
     "status": "completed"
    },
    "tags": []
   },
   "source": [
    "- fare 영향력 젤 큼,\n",
    "- 이것만으로는 정확도 높은 모델을 위한 feature인지는 판단 못함,, 통계적 지식 더 필요\n",
    "- feature selection이나 더 빠른 속도를 위해 feature를 제거할 수 있습니다.\n",
    "\n",
    "## 4.4 Prediction on Test set\n",
    "- 모델이 학습하지 않았던 테스트 셋으로 결과를 예측해보겠습니다.\n",
    "- 이제는 제출용임!"
   ]
  },
  {
   "cell_type": "code",
   "execution_count": 68,
   "metadata": {
    "execution": {
     "iopub.execute_input": "2021-06-05T16:28:51.396861Z",
     "iopub.status.busy": "2021-06-05T16:28:51.396277Z",
     "iopub.status.idle": "2021-06-05T16:28:51.644695Z",
     "shell.execute_reply": "2021-06-05T16:28:51.645444Z",
     "shell.execute_reply.started": "2021-06-05T16:27:27.815110Z"
    },
    "papermill": {
     "duration": 0.336766,
     "end_time": "2021-06-05T16:28:51.645655",
     "exception": false,
     "start_time": "2021-06-05T16:28:51.308889",
     "status": "completed"
    },
    "tags": []
   },
   "outputs": [
    {
     "name": "stdout",
     "output_type": "stream",
     "text": [
      "Your submission was successfully saved!\n"
     ]
    }
   ],
   "source": [
    "prediction = model.predict(X_test)\n",
    "output = pd.read_csv('/kaggle/input/titanic/gender_submission.csv')\n",
    "output['Survived'] = prediction\n",
    "output.to_csv('my_submission.csv', index=False)\n",
    "print(\"Your submission was successfully saved!\")"
   ]
  }
 ],
 "metadata": {
  "kernelspec": {
   "display_name": "Python 3",
   "language": "python",
   "name": "python3"
  },
  "language_info": {
   "codemirror_mode": {
    "name": "ipython",
    "version": 3
   },
   "file_extension": ".py",
   "mimetype": "text/x-python",
   "name": "python",
   "nbconvert_exporter": "python",
   "pygments_lexer": "ipython3",
   "version": "3.7.6"
  },
  "papermill": {
   "duration": 32.557322,
   "end_time": "2021-06-05T16:28:51.836049",
   "environment_variables": {},
   "exception": null,
   "input_path": "__notebook__.ipynb",
   "output_path": "__notebook__.ipynb",
   "parameters": {},
   "start_time": "2021-06-05T16:28:19.278727",
   "version": "2.1.0"
  }
 },
 "nbformat": 4,
 "nbformat_minor": 4
}

{
 "cells": [
  {
   "cell_type": "code",
   "execution_count": 1,
   "metadata": {
    "_cell_guid": "b1076dfc-b9ad-4769-8c92-a6c4dae69d19",
    "_uuid": "8f2839f25d086af736a60e9eeb907d3b93b6e0e5",
    "execution": {
     "iopub.execute_input": "2020-10-08T18:46:19.630909Z",
     "iopub.status.busy": "2020-10-08T18:46:19.630284Z",
     "iopub.status.idle": "2020-10-08T18:46:19.636516Z",
     "shell.execute_reply": "2020-10-08T18:46:19.635991Z"
    },
    "papermill": {
     "duration": 0.033753,
     "end_time": "2020-10-08T18:46:19.636615",
     "exception": false,
     "start_time": "2020-10-08T18:46:19.602862",
     "status": "completed"
    },
    "tags": []
   },
   "outputs": [
    {
     "name": "stdout",
     "output_type": "stream",
     "text": [
      "/kaggle/input/glove-global-vectors-for-word-representation/glove.6B.50d.txt\n",
      "/kaggle/input/glove-global-vectors-for-word-representation/glove.6B.100d.txt\n",
      "/kaggle/input/glove-global-vectors-for-word-representation/glove.6B.200d.txt\n",
      "/kaggle/input/nlp-getting-started/test.csv\n",
      "/kaggle/input/nlp-getting-started/sample_submission.csv\n",
      "/kaggle/input/nlp-getting-started/train.csv\n"
     ]
    }
   ],
   "source": [
    "# This Python 3 environment comes with many helpful analytics libraries installed\n",
    "# It is defined by the kaggle/python Docker image: https://github.com/kaggle/docker-python\n",
    "# For example, here's several helpful packages to load\n",
    "\n",
    "import numpy as np # linear algebra\n",
    "import pandas as pd # data processing, CSV file I/O (e.g. pd.read_csv)\n",
    "\n",
    "# Input data files are available in the read-only \"../input/\" directory\n",
    "# For example, running this (by clicking run or pressing Shift+Enter) will list all files under the input directory\n",
    "\n",
    "import os\n",
    "for dirname, _, filenames in os.walk('/kaggle/input'):\n",
    "    for filename in filenames:\n",
    "        print(os.path.join(dirname, filename))\n",
    "        \n",
    "\n",
    "# You can write up to 5GB to the current directory (/kaggle/working/) that gets preserved as output when you create a version using \"Save & Run All\" \n",
    "# You can also write temporary files to /kaggle/temp/, but they won't be saved outside of the current session"
   ]
  },
  {
   "cell_type": "code",
   "execution_count": 2,
   "metadata": {
    "_cell_guid": "79c7e3d0-c299-4dcb-8224-4455121ee9b0",
    "_uuid": "d629ff2d2480ee46fbb7e2d37f6b5fab8052498a",
    "execution": {
     "iopub.execute_input": "2020-10-08T18:46:19.689339Z",
     "iopub.status.busy": "2020-10-08T18:46:19.688714Z",
     "iopub.status.idle": "2020-10-08T18:46:24.740242Z",
     "shell.execute_reply": "2020-10-08T18:46:24.739657Z"
    },
    "papermill": {
     "duration": 5.079059,
     "end_time": "2020-10-08T18:46:24.740351",
     "exception": false,
     "start_time": "2020-10-08T18:46:19.661292",
     "status": "completed"
    },
    "tags": []
   },
   "outputs": [],
   "source": [
    "import matplotlib.pyplot as plt\n",
    "import urllib.request\n",
    "\n",
    "from nltk.corpus import stopwords\n",
    "from nltk.tokenize import TreebankWordTokenizer\n",
    "\n",
    "import tensorflow as tf\n",
    "from tensorflow.keras.preprocessing.text import Tokenizer\n",
    "from tensorflow.keras.preprocessing.sequence import pad_sequences\n",
    "from sklearn.feature_extraction.text import CountVectorizer\n",
    "from keras.optimizers import Adam\n",
    "from keras.layers import (LSTM, \n",
    "                          Embedding, \n",
    "                          BatchNormalization,\n",
    "                          SpatialDropout1D,\n",
    "                          Dense, \n",
    "                          Dropout)\n",
    "\n",
    "\n",
    "\n",
    "import re\n",
    "import string"
   ]
  },
  {
   "cell_type": "code",
   "execution_count": 3,
   "metadata": {
    "execution": {
     "iopub.execute_input": "2020-10-08T18:46:24.818697Z",
     "iopub.status.busy": "2020-10-08T18:46:24.818242Z",
     "iopub.status.idle": "2020-10-08T18:46:24.896463Z",
     "shell.execute_reply": "2020-10-08T18:46:24.895992Z"
    },
    "papermill": {
     "duration": 0.121171,
     "end_time": "2020-10-08T18:46:24.896545",
     "exception": false,
     "start_time": "2020-10-08T18:46:24.775374",
     "status": "completed"
    },
    "tags": []
   },
   "outputs": [
    {
     "data": {
      "text/html": [
       "<div>\n",
       "<style scoped>\n",
       "    .dataframe tbody tr th:only-of-type {\n",
       "        vertical-align: middle;\n",
       "    }\n",
       "\n",
       "    .dataframe tbody tr th {\n",
       "        vertical-align: top;\n",
       "    }\n",
       "\n",
       "    .dataframe thead th {\n",
       "        text-align: right;\n",
       "    }\n",
       "</style>\n",
       "<table border=\"1\" class=\"dataframe\">\n",
       "  <thead>\n",
       "    <tr style=\"text-align: right;\">\n",
       "      <th></th>\n",
       "      <th>id</th>\n",
       "      <th>keyword</th>\n",
       "      <th>location</th>\n",
       "      <th>text</th>\n",
       "      <th>target</th>\n",
       "    </tr>\n",
       "  </thead>\n",
       "  <tbody>\n",
       "    <tr>\n",
       "      <th>0</th>\n",
       "      <td>1</td>\n",
       "      <td>NaN</td>\n",
       "      <td>NaN</td>\n",
       "      <td>Our Deeds are the Reason of this #earthquake M...</td>\n",
       "      <td>1</td>\n",
       "    </tr>\n",
       "    <tr>\n",
       "      <th>1</th>\n",
       "      <td>4</td>\n",
       "      <td>NaN</td>\n",
       "      <td>NaN</td>\n",
       "      <td>Forest fire near La Ronge Sask. Canada</td>\n",
       "      <td>1</td>\n",
       "    </tr>\n",
       "    <tr>\n",
       "      <th>2</th>\n",
       "      <td>5</td>\n",
       "      <td>NaN</td>\n",
       "      <td>NaN</td>\n",
       "      <td>All residents asked to 'shelter in place' are ...</td>\n",
       "      <td>1</td>\n",
       "    </tr>\n",
       "    <tr>\n",
       "      <th>3</th>\n",
       "      <td>6</td>\n",
       "      <td>NaN</td>\n",
       "      <td>NaN</td>\n",
       "      <td>13,000 people receive #wildfires evacuation or...</td>\n",
       "      <td>1</td>\n",
       "    </tr>\n",
       "    <tr>\n",
       "      <th>4</th>\n",
       "      <td>7</td>\n",
       "      <td>NaN</td>\n",
       "      <td>NaN</td>\n",
       "      <td>Just got sent this photo from Ruby #Alaska as ...</td>\n",
       "      <td>1</td>\n",
       "    </tr>\n",
       "    <tr>\n",
       "      <th>...</th>\n",
       "      <td>...</td>\n",
       "      <td>...</td>\n",
       "      <td>...</td>\n",
       "      <td>...</td>\n",
       "      <td>...</td>\n",
       "    </tr>\n",
       "    <tr>\n",
       "      <th>7608</th>\n",
       "      <td>10869</td>\n",
       "      <td>NaN</td>\n",
       "      <td>NaN</td>\n",
       "      <td>Two giant cranes holding a bridge collapse int...</td>\n",
       "      <td>1</td>\n",
       "    </tr>\n",
       "    <tr>\n",
       "      <th>7609</th>\n",
       "      <td>10870</td>\n",
       "      <td>NaN</td>\n",
       "      <td>NaN</td>\n",
       "      <td>@aria_ahrary @TheTawniest The out of control w...</td>\n",
       "      <td>1</td>\n",
       "    </tr>\n",
       "    <tr>\n",
       "      <th>7610</th>\n",
       "      <td>10871</td>\n",
       "      <td>NaN</td>\n",
       "      <td>NaN</td>\n",
       "      <td>M1.94 [01:04 UTC]?5km S of Volcano Hawaii. htt...</td>\n",
       "      <td>1</td>\n",
       "    </tr>\n",
       "    <tr>\n",
       "      <th>7611</th>\n",
       "      <td>10872</td>\n",
       "      <td>NaN</td>\n",
       "      <td>NaN</td>\n",
       "      <td>Police investigating after an e-bike collided ...</td>\n",
       "      <td>1</td>\n",
       "    </tr>\n",
       "    <tr>\n",
       "      <th>7612</th>\n",
       "      <td>10873</td>\n",
       "      <td>NaN</td>\n",
       "      <td>NaN</td>\n",
       "      <td>The Latest: More Homes Razed by Northern Calif...</td>\n",
       "      <td>1</td>\n",
       "    </tr>\n",
       "  </tbody>\n",
       "</table>\n",
       "<p>7613 rows × 5 columns</p>\n",
       "</div>"
      ],
      "text/plain": [
       "         id keyword location  \\\n",
       "0         1     NaN      NaN   \n",
       "1         4     NaN      NaN   \n",
       "2         5     NaN      NaN   \n",
       "3         6     NaN      NaN   \n",
       "4         7     NaN      NaN   \n",
       "...     ...     ...      ...   \n",
       "7608  10869     NaN      NaN   \n",
       "7609  10870     NaN      NaN   \n",
       "7610  10871     NaN      NaN   \n",
       "7611  10872     NaN      NaN   \n",
       "7612  10873     NaN      NaN   \n",
       "\n",
       "                                                   text  target  \n",
       "0     Our Deeds are the Reason of this #earthquake M...       1  \n",
       "1                Forest fire near La Ronge Sask. Canada       1  \n",
       "2     All residents asked to 'shelter in place' are ...       1  \n",
       "3     13,000 people receive #wildfires evacuation or...       1  \n",
       "4     Just got sent this photo from Ruby #Alaska as ...       1  \n",
       "...                                                 ...     ...  \n",
       "7608  Two giant cranes holding a bridge collapse int...       1  \n",
       "7609  @aria_ahrary @TheTawniest The out of control w...       1  \n",
       "7610  M1.94 [01:04 UTC]?5km S of Volcano Hawaii. htt...       1  \n",
       "7611  Police investigating after an e-bike collided ...       1  \n",
       "7612  The Latest: More Homes Razed by Northern Calif...       1  \n",
       "\n",
       "[7613 rows x 5 columns]"
      ]
     },
     "execution_count": 3,
     "metadata": {},
     "output_type": "execute_result"
    }
   ],
   "source": [
    "train= pd.read_csv('../input/nlp-getting-started/train.csv')\n",
    "test=pd.read_csv('../input/nlp-getting-started/test.csv')\n",
    "train"
   ]
  },
  {
   "cell_type": "code",
   "execution_count": 4,
   "metadata": {
    "execution": {
     "iopub.execute_input": "2020-10-08T18:46:24.954916Z",
     "iopub.status.busy": "2020-10-08T18:46:24.954389Z",
     "iopub.status.idle": "2020-10-08T18:46:24.958721Z",
     "shell.execute_reply": "2020-10-08T18:46:24.958352Z"
    },
    "papermill": {
     "duration": 0.039148,
     "end_time": "2020-10-08T18:46:24.958807",
     "exception": false,
     "start_time": "2020-10-08T18:46:24.919659",
     "status": "completed"
    },
    "tags": []
   },
   "outputs": [
    {
     "data": {
      "text/html": [
       "<div>\n",
       "<style scoped>\n",
       "    .dataframe tbody tr th:only-of-type {\n",
       "        vertical-align: middle;\n",
       "    }\n",
       "\n",
       "    .dataframe tbody tr th {\n",
       "        vertical-align: top;\n",
       "    }\n",
       "\n",
       "    .dataframe thead th {\n",
       "        text-align: right;\n",
       "    }\n",
       "</style>\n",
       "<table border=\"1\" class=\"dataframe\">\n",
       "  <thead>\n",
       "    <tr style=\"text-align: right;\">\n",
       "      <th></th>\n",
       "      <th>id</th>\n",
       "      <th>keyword</th>\n",
       "      <th>location</th>\n",
       "      <th>text</th>\n",
       "    </tr>\n",
       "  </thead>\n",
       "  <tbody>\n",
       "    <tr>\n",
       "      <th>0</th>\n",
       "      <td>0</td>\n",
       "      <td>NaN</td>\n",
       "      <td>NaN</td>\n",
       "      <td>Just happened a terrible car crash</td>\n",
       "    </tr>\n",
       "    <tr>\n",
       "      <th>1</th>\n",
       "      <td>2</td>\n",
       "      <td>NaN</td>\n",
       "      <td>NaN</td>\n",
       "      <td>Heard about #earthquake is different cities, s...</td>\n",
       "    </tr>\n",
       "    <tr>\n",
       "      <th>2</th>\n",
       "      <td>3</td>\n",
       "      <td>NaN</td>\n",
       "      <td>NaN</td>\n",
       "      <td>there is a forest fire at spot pond, geese are...</td>\n",
       "    </tr>\n",
       "    <tr>\n",
       "      <th>3</th>\n",
       "      <td>9</td>\n",
       "      <td>NaN</td>\n",
       "      <td>NaN</td>\n",
       "      <td>Apocalypse lighting. #Spokane #wildfires</td>\n",
       "    </tr>\n",
       "    <tr>\n",
       "      <th>4</th>\n",
       "      <td>11</td>\n",
       "      <td>NaN</td>\n",
       "      <td>NaN</td>\n",
       "      <td>Typhoon Soudelor kills 28 in China and Taiwan</td>\n",
       "    </tr>\n",
       "    <tr>\n",
       "      <th>...</th>\n",
       "      <td>...</td>\n",
       "      <td>...</td>\n",
       "      <td>...</td>\n",
       "      <td>...</td>\n",
       "    </tr>\n",
       "    <tr>\n",
       "      <th>3258</th>\n",
       "      <td>10861</td>\n",
       "      <td>NaN</td>\n",
       "      <td>NaN</td>\n",
       "      <td>EARTHQUAKE SAFETY LOS ANGELES ÛÒ SAFETY FASTE...</td>\n",
       "    </tr>\n",
       "    <tr>\n",
       "      <th>3259</th>\n",
       "      <td>10865</td>\n",
       "      <td>NaN</td>\n",
       "      <td>NaN</td>\n",
       "      <td>Storm in RI worse than last hurricane. My city...</td>\n",
       "    </tr>\n",
       "    <tr>\n",
       "      <th>3260</th>\n",
       "      <td>10868</td>\n",
       "      <td>NaN</td>\n",
       "      <td>NaN</td>\n",
       "      <td>Green Line derailment in Chicago http://t.co/U...</td>\n",
       "    </tr>\n",
       "    <tr>\n",
       "      <th>3261</th>\n",
       "      <td>10874</td>\n",
       "      <td>NaN</td>\n",
       "      <td>NaN</td>\n",
       "      <td>MEG issues Hazardous Weather Outlook (HWO) htt...</td>\n",
       "    </tr>\n",
       "    <tr>\n",
       "      <th>3262</th>\n",
       "      <td>10875</td>\n",
       "      <td>NaN</td>\n",
       "      <td>NaN</td>\n",
       "      <td>#CityofCalgary has activated its Municipal Eme...</td>\n",
       "    </tr>\n",
       "  </tbody>\n",
       "</table>\n",
       "<p>3263 rows × 4 columns</p>\n",
       "</div>"
      ],
      "text/plain": [
       "         id keyword location  \\\n",
       "0         0     NaN      NaN   \n",
       "1         2     NaN      NaN   \n",
       "2         3     NaN      NaN   \n",
       "3         9     NaN      NaN   \n",
       "4        11     NaN      NaN   \n",
       "...     ...     ...      ...   \n",
       "3258  10861     NaN      NaN   \n",
       "3259  10865     NaN      NaN   \n",
       "3260  10868     NaN      NaN   \n",
       "3261  10874     NaN      NaN   \n",
       "3262  10875     NaN      NaN   \n",
       "\n",
       "                                                   text  \n",
       "0                    Just happened a terrible car crash  \n",
       "1     Heard about #earthquake is different cities, s...  \n",
       "2     there is a forest fire at spot pond, geese are...  \n",
       "3              Apocalypse lighting. #Spokane #wildfires  \n",
       "4         Typhoon Soudelor kills 28 in China and Taiwan  \n",
       "...                                                 ...  \n",
       "3258  EARTHQUAKE SAFETY LOS ANGELES ÛÒ SAFETY FASTE...  \n",
       "3259  Storm in RI worse than last hurricane. My city...  \n",
       "3260  Green Line derailment in Chicago http://t.co/U...  \n",
       "3261  MEG issues Hazardous Weather Outlook (HWO) htt...  \n",
       "3262  #CityofCalgary has activated its Municipal Eme...  \n",
       "\n",
       "[3263 rows x 4 columns]"
      ]
     },
     "execution_count": 4,
     "metadata": {},
     "output_type": "execute_result"
    }
   ],
   "source": [
    "test"
   ]
  },
  {
   "cell_type": "code",
   "execution_count": 5,
   "metadata": {
    "execution": {
     "iopub.execute_input": "2020-10-08T18:46:25.022166Z",
     "iopub.status.busy": "2020-10-08T18:46:25.021552Z",
     "iopub.status.idle": "2020-10-08T18:46:25.025743Z",
     "shell.execute_reply": "2020-10-08T18:46:25.025323Z"
    },
    "papermill": {
     "duration": 0.043126,
     "end_time": "2020-10-08T18:46:25.025813",
     "exception": false,
     "start_time": "2020-10-08T18:46:24.982687",
     "status": "completed"
    },
    "tags": []
   },
   "outputs": [
    {
     "name": "stdout",
     "output_type": "stream",
     "text": [
      "<class 'pandas.core.frame.DataFrame'>\n",
      "RangeIndex: 7613 entries, 0 to 7612\n",
      "Data columns (total 5 columns):\n",
      " #   Column    Non-Null Count  Dtype \n",
      "---  ------    --------------  ----- \n",
      " 0   id        7613 non-null   int64 \n",
      " 1   keyword   7552 non-null   object\n",
      " 2   location  5080 non-null   object\n",
      " 3   text      7613 non-null   object\n",
      " 4   target    7613 non-null   int64 \n",
      "dtypes: int64(2), object(3)\n",
      "memory usage: 297.5+ KB\n"
     ]
    }
   ],
   "source": [
    "train.info()"
   ]
  },
  {
   "cell_type": "markdown",
   "metadata": {
    "papermill": {
     "duration": 0.023763,
     "end_time": "2020-10-08T18:46:25.074757",
     "exception": false,
     "start_time": "2020-10-08T18:46:25.050994",
     "status": "completed"
    },
    "tags": []
   },
   "source": [
    "# 데이터 프로세싱"
   ]
  },
  {
   "cell_type": "code",
   "execution_count": 6,
   "metadata": {
    "execution": {
     "iopub.execute_input": "2020-10-08T18:46:25.128687Z",
     "iopub.status.busy": "2020-10-08T18:46:25.127976Z",
     "iopub.status.idle": "2020-10-08T18:46:25.131365Z",
     "shell.execute_reply": "2020-10-08T18:46:25.130881Z"
    },
    "papermill": {
     "duration": 0.032961,
     "end_time": "2020-10-08T18:46:25.131442",
     "exception": false,
     "start_time": "2020-10-08T18:46:25.098481",
     "status": "completed"
    },
    "tags": []
   },
   "outputs": [
    {
     "data": {
      "text/plain": [
       "(10876, 5)"
      ]
     },
     "execution_count": 6,
     "metadata": {},
     "output_type": "execute_result"
    }
   ],
   "source": [
    "df=pd.concat([train,test])\n",
    "df.shape"
   ]
  },
  {
   "cell_type": "code",
   "execution_count": 7,
   "metadata": {
    "execution": {
     "iopub.execute_input": "2020-10-08T18:46:25.183143Z",
     "iopub.status.busy": "2020-10-08T18:46:25.182683Z",
     "iopub.status.idle": "2020-10-08T18:46:25.185648Z",
     "shell.execute_reply": "2020-10-08T18:46:25.185181Z"
    },
    "papermill": {
     "duration": 0.029495,
     "end_time": "2020-10-08T18:46:25.185729",
     "exception": false,
     "start_time": "2020-10-08T18:46:25.156234",
     "status": "completed"
    },
    "tags": []
   },
   "outputs": [],
   "source": [
    "tokenizer = TreebankWordTokenizer()"
   ]
  },
  {
   "cell_type": "code",
   "execution_count": 8,
   "metadata": {
    "execution": {
     "iopub.execute_input": "2020-10-08T18:46:25.241494Z",
     "iopub.status.busy": "2020-10-08T18:46:25.240892Z",
     "iopub.status.idle": "2020-10-08T18:46:25.243633Z",
     "shell.execute_reply": "2020-10-08T18:46:25.243265Z"
    },
    "papermill": {
     "duration": 0.033418,
     "end_time": "2020-10-08T18:46:25.243706",
     "exception": false,
     "start_time": "2020-10-08T18:46:25.210288",
     "status": "completed"
    },
    "tags": []
   },
   "outputs": [],
   "source": [
    "def process_text(text):\n",
    "    stopwords_eng = stopwords.words('english')\n",
    "    \n",
    "    url = re.compile(r'https?://\\S+|www\\.\\S+')\n",
    "    text = url.sub(r'',text)\n",
    "    html = re.compile(r'<.*?>')\n",
    "    text = html.sub(r'',text)\n",
    "    emoji_pattern = re.compile(\"[\"\n",
    "                               u\"\\U0001F600-\\U0001F64F\"  # emoticons\n",
    "                               u\"\\U0001F300-\\U0001F5FF\"  # symbols & pictographs\n",
    "                               u\"\\U0001F680-\\U0001F6FF\"  # transport & map symbols\n",
    "                               u\"\\U0001F1E0-\\U0001F1FF\"  # flags (iOS)\n",
    "                               u\"\\U00002702-\\U000027B0\"\n",
    "                               u\"\\U000024C2-\\U0001F251\"\n",
    "                               \"]+\", flags=re.UNICODE)\n",
    "    text = emoji_pattern.sub(r'', text)\n",
    "    table = str.maketrans('','',string.punctuation)\n",
    "    text = text.translate(table)\n",
    "    text = text.lower()\n",
    "    \n",
    "    tokens = tokenizer.tokenize(text)\n",
    "    clean_tokens = []\n",
    "    for word in tokens:\n",
    "        if (word not in stopwords_eng):\n",
    "            clean_tokens.append(word)\n",
    "            \n",
    "    return clean_tokens"
   ]
  },
  {
   "cell_type": "code",
   "execution_count": 9,
   "metadata": {
    "execution": {
     "iopub.execute_input": "2020-10-08T18:46:25.298067Z",
     "iopub.status.busy": "2020-10-08T18:46:25.297589Z",
     "iopub.status.idle": "2020-10-08T18:46:28.077386Z",
     "shell.execute_reply": "2020-10-08T18:46:28.077719Z"
    },
    "papermill": {
     "duration": 2.80954,
     "end_time": "2020-10-08T18:46:28.077844",
     "exception": false,
     "start_time": "2020-10-08T18:46:25.268304",
     "status": "completed"
    },
    "tags": []
   },
   "outputs": [
    {
     "data": {
      "text/plain": [
       "0       [deeds, reason, earthquake, may, allah, forgiv...\n",
       "1           [forest, fire, near, la, ronge, sask, canada]\n",
       "2       [residents, asked, shelter, place, notified, o...\n",
       "3       [13000, people, receive, wildfires, evacuation...\n",
       "4       [got, sent, photo, ruby, alaska, smoke, wildfi...\n",
       "                              ...                        \n",
       "3258    [earthquake, safety, los, angeles, ûò, safety...\n",
       "3259    [storm, ri, worse, last, hurricane, cityamp3ot...\n",
       "3260                   [green, line, derailment, chicago]\n",
       "3261      [meg, issues, hazardous, weather, outlook, hwo]\n",
       "3262    [cityofcalgary, activated, municipal, emergenc...\n",
       "Name: text, Length: 10876, dtype: object"
      ]
     },
     "execution_count": 9,
     "metadata": {},
     "output_type": "execute_result"
    }
   ],
   "source": [
    "df['text'] = df['text'].apply(lambda x : process_text(x))\n",
    "df['text']"
   ]
  },
  {
   "cell_type": "markdown",
   "metadata": {
    "papermill": {
     "duration": 0.024388,
     "end_time": "2020-10-08T18:46:28.127326",
     "exception": false,
     "start_time": "2020-10-08T18:46:28.102938",
     "status": "completed"
    },
    "tags": []
   },
   "source": [
    "# GLOVE"
   ]
  },
  {
   "cell_type": "code",
   "execution_count": 10,
   "metadata": {
    "execution": {
     "iopub.execute_input": "2020-10-08T18:46:28.182051Z",
     "iopub.status.busy": "2020-10-08T18:46:28.181478Z",
     "iopub.status.idle": "2020-10-08T18:46:28.184471Z",
     "shell.execute_reply": "2020-10-08T18:46:28.184125Z"
    },
    "papermill": {
     "duration": 0.032509,
     "end_time": "2020-10-08T18:46:28.184543",
     "exception": false,
     "start_time": "2020-10-08T18:46:28.152034",
     "status": "completed"
    },
    "tags": []
   },
   "outputs": [],
   "source": [
    "from tqdm import tqdm\n",
    "def create_corpus(df):\n",
    "    corpus=[]\n",
    "    for tweet in tqdm(df['text']):\n",
    "        corpus.append(tweet)\n",
    "    return corpus"
   ]
  },
  {
   "cell_type": "code",
   "execution_count": 11,
   "metadata": {
    "execution": {
     "iopub.execute_input": "2020-10-08T18:46:28.236921Z",
     "iopub.status.busy": "2020-10-08T18:46:28.236381Z",
     "iopub.status.idle": "2020-10-08T18:46:28.247485Z",
     "shell.execute_reply": "2020-10-08T18:46:28.247114Z"
    },
    "papermill": {
     "duration": 0.038193,
     "end_time": "2020-10-08T18:46:28.247566",
     "exception": false,
     "start_time": "2020-10-08T18:46:28.209373",
     "status": "completed"
    },
    "tags": []
   },
   "outputs": [
    {
     "name": "stderr",
     "output_type": "stream",
     "text": [
      "100%|██████████| 10876/10876 [00:00<00:00, 2157354.00it/s]\n"
     ]
    }
   ],
   "source": [
    "corpus=create_corpus(df)"
   ]
  },
  {
   "cell_type": "code",
   "execution_count": 12,
   "metadata": {
    "execution": {
     "iopub.execute_input": "2020-10-08T18:46:28.308872Z",
     "iopub.status.busy": "2020-10-08T18:46:28.308230Z",
     "iopub.status.idle": "2020-10-08T18:46:44.888828Z",
     "shell.execute_reply": "2020-10-08T18:46:44.888370Z"
    },
    "papermill": {
     "duration": 16.615429,
     "end_time": "2020-10-08T18:46:44.888910",
     "exception": false,
     "start_time": "2020-10-08T18:46:28.273481",
     "status": "completed"
    },
    "tags": []
   },
   "outputs": [],
   "source": [
    "embedding_dict={}\n",
    "with open('../input/glove-global-vectors-for-word-representation/glove.6B.100d.txt','r') as f:\n",
    "    for line in f:\n",
    "        values=line.split()\n",
    "        word=values[0]\n",
    "        vectors=np.asarray(values[1:],'float32')\n",
    "        embedding_dict[word]=vectors\n",
    "f.close()"
   ]
  },
  {
   "cell_type": "markdown",
   "metadata": {
    "papermill": {
     "duration": 0.025505,
     "end_time": "2020-10-08T18:46:44.940611",
     "exception": false,
     "start_time": "2020-10-08T18:46:44.915106",
     "status": "completed"
    },
    "tags": []
   },
   "source": [
    "# 데이터 정리"
   ]
  },
  {
   "cell_type": "code",
   "execution_count": 13,
   "metadata": {
    "execution": {
     "iopub.execute_input": "2020-10-08T18:46:44.997834Z",
     "iopub.status.busy": "2020-10-08T18:46:44.997406Z",
     "iopub.status.idle": "2020-10-08T18:46:45.000913Z",
     "shell.execute_reply": "2020-10-08T18:46:45.001271Z"
    },
    "papermill": {
     "duration": 0.035061,
     "end_time": "2020-10-08T18:46:45.001366",
     "exception": false,
     "start_time": "2020-10-08T18:46:44.966305",
     "status": "completed"
    },
    "tags": []
   },
   "outputs": [
    {
     "data": {
      "text/plain": [
       "0       [deeds, reason, earthquake, may, allah, forgiv...\n",
       "1           [forest, fire, near, la, ronge, sask, canada]\n",
       "2       [residents, asked, shelter, place, notified, o...\n",
       "3       [13000, people, receive, wildfires, evacuation...\n",
       "4       [got, sent, photo, ruby, alaska, smoke, wildfi...\n",
       "                              ...                        \n",
       "3258    [earthquake, safety, los, angeles, ûò, safety...\n",
       "3259    [storm, ri, worse, last, hurricane, cityamp3ot...\n",
       "3260                   [green, line, derailment, chicago]\n",
       "3261      [meg, issues, hazardous, weather, outlook, hwo]\n",
       "3262    [cityofcalgary, activated, municipal, emergenc...\n",
       "Name: text, Length: 10876, dtype: object"
      ]
     },
     "execution_count": 13,
     "metadata": {},
     "output_type": "execute_result"
    }
   ],
   "source": [
    "df['text']"
   ]
  },
  {
   "cell_type": "code",
   "execution_count": 14,
   "metadata": {
    "execution": {
     "iopub.execute_input": "2020-10-08T18:46:45.058088Z",
     "iopub.status.busy": "2020-10-08T18:46:45.057183Z",
     "iopub.status.idle": "2020-10-08T18:46:45.187846Z",
     "shell.execute_reply": "2020-10-08T18:46:45.187485Z"
    },
    "papermill": {
     "duration": 0.160467,
     "end_time": "2020-10-08T18:46:45.187928",
     "exception": false,
     "start_time": "2020-10-08T18:46:45.027461",
     "status": "completed"
    },
    "tags": []
   },
   "outputs": [
    {
     "data": {
      "text/plain": [
       "<matplotlib.axes._subplots.AxesSubplot at 0x7f6e5a7f0f50>"
      ]
     },
     "execution_count": 14,
     "metadata": {},
     "output_type": "execute_result"
    },
    {
     "data": {
      "image/png": "[encoded data removed]",
      "text/plain": [
       "<Figure size 432x288 with 1 Axes>"
      ]
     },
     "metadata": {
      "needs_background": "light"
     },
     "output_type": "display_data"
    }
   ],
   "source": [
    "train['target'].value_counts().plot(kind='bar')"
   ]
  },
  {
   "cell_type": "code",
   "execution_count": 15,
   "metadata": {
    "execution": {
     "iopub.execute_input": "2020-10-08T18:46:45.245942Z",
     "iopub.status.busy": "2020-10-08T18:46:45.245393Z",
     "iopub.status.idle": "2020-10-08T18:46:45.248703Z",
     "shell.execute_reply": "2020-10-08T18:46:45.248120Z"
    },
    "papermill": {
     "duration": 0.033841,
     "end_time": "2020-10-08T18:46:45.248803",
     "exception": false,
     "start_time": "2020-10-08T18:46:45.214962",
     "status": "completed"
    },
    "tags": []
   },
   "outputs": [
    {
     "name": "stdout",
     "output_type": "stream",
     "text": [
      "트윗 개수: 7613\n",
      "타겟 개수: 7613\n"
     ]
    }
   ],
   "source": [
    "x_tweet = train['text']\n",
    "y_tweet = train['target']\n",
    "print('트윗 개수: {}'.format(len(x_tweet)))\n",
    "print('타겟 개수: {}'.format(len(y_tweet)))"
   ]
  },
  {
   "cell_type": "code",
   "execution_count": 16,
   "metadata": {
    "execution": {
     "iopub.execute_input": "2020-10-08T18:46:45.343976Z",
     "iopub.status.busy": "2020-10-08T18:46:45.339115Z",
     "iopub.status.idle": "2020-10-08T18:46:45.533798Z",
     "shell.execute_reply": "2020-10-08T18:46:45.533287Z"
    },
    "papermill": {
     "duration": 0.243264,
     "end_time": "2020-10-08T18:46:45.533904",
     "exception": false,
     "start_time": "2020-10-08T18:46:45.290640",
     "status": "completed"
    },
    "tags": []
   },
   "outputs": [],
   "source": [
    "MAX_LEN=50\n",
    "tokenizer=Tokenizer()\n",
    "tokenizer.fit_on_texts(corpus)#숫자 부여\n",
    "sequences=tokenizer.texts_to_sequences(corpus)#숫자에 맞춰서 생성\n",
    "\n",
    "tweet_pad=pad_sequences(sequences,maxlen=MAX_LEN,truncating='post',padding='post')"
   ]
  },
  {
   "cell_type": "code",
   "execution_count": 17,
   "metadata": {
    "execution": {
     "iopub.execute_input": "2020-10-08T18:46:45.622540Z",
     "iopub.status.busy": "2020-10-08T18:46:45.621942Z",
     "iopub.status.idle": "2020-10-08T18:46:45.626378Z",
     "shell.execute_reply": "2020-10-08T18:46:45.625725Z"
    },
    "papermill": {
     "duration": 0.050873,
     "end_time": "2020-10-08T18:46:45.626488",
     "exception": false,
     "start_time": "2020-10-08T18:46:45.575615",
     "status": "completed"
    },
    "tags": []
   },
   "outputs": [
    {
     "name": "stdout",
     "output_type": "stream",
     "text": [
      "[[5649  704  150   65 1784 3577   12    0    0    0    0    0    0    0\n",
      "     0    0    0    0    0    0    0    0    0    0    0    0    0    0\n",
      "     0    0    0    0    0    0    0    0    0    0    0    0    0    0\n",
      "     0    0    0    0    0    0    0    0]\n",
      " [  79    4  118  705 8372 8373 1280    0    0    0    0    0    0    0\n",
      "     0    0    0    0    0    0    0    0    0    0    0    0    0    0\n",
      "     0    0    0    0    0    0    0    0    0    0    0    0    0    0\n",
      "     0    0    0    0    0    0    0    0]\n",
      " [1442 1356 2090  612 8374 1640  172 2090  612 1531 1109    0    0    0\n",
      "     0    0    0    0    0    0    0    0    0    0    0    0    0    0\n",
      "     0    0    0    0    0    0    0    0    0    0    0    0    0    0\n",
      "     0    0    0    0    0    0    0    0]\n",
      " [3014    9 4341 1151  172 1531   32    0    0    0    0    0    0    0\n",
      "     0    0    0    0    0    0    0    0    0    0    0    0    0    0\n",
      "     0    0    0    0    0    0    0    0    0    0    0    0    0    0\n",
      "     0    0    0    0    0    0    0    0]\n",
      " [  20 1357  191 5650 2331  178 1151 8375  116    0    0    0    0    0\n",
      "     0    0    0    0    0    0    0    0    0    0    0    0    0    0\n",
      "     0    0    0    0    0    0    0    0    0    0    0    0    0    0\n",
      "     0    0    0    0    0    0    0    0]]\n"
     ]
    }
   ],
   "source": [
    "print(tweet_pad[:5])"
   ]
  },
  {
   "cell_type": "code",
   "execution_count": 18,
   "metadata": {
    "execution": {
     "iopub.execute_input": "2020-10-08T18:46:45.700323Z",
     "iopub.status.busy": "2020-10-08T18:46:45.695406Z",
     "iopub.status.idle": "2020-10-08T18:46:45.708708Z",
     "shell.execute_reply": "2020-10-08T18:46:45.708138Z"
    },
    "papermill": {
     "duration": 0.053338,
     "end_time": "2020-10-08T18:46:45.708805",
     "exception": false,
     "start_time": "2020-10-08T18:46:45.655467",
     "status": "completed"
    },
    "tags": []
   },
   "outputs": [
    {
     "name": "stdout",
     "output_type": "stream",
     "text": [
      "등장 빈도 1 번 이하인 희귀 단어의 수 : 14300\n",
      "단어 집합에서 희귀 단어의 비율: 63.07617661329452\n",
      "전체 등장 빈도에서 희귀 단어 등장 빈도 비율: 13.905500938378209\n"
     ]
    }
   ],
   "source": [
    "word_to_index = tokenizer.word_index\n",
    "vocab_size = len(word_to_index) + 1\n",
    "threshold = 2\n",
    "totalcount = len(word_to_index)\n",
    "rarecount=0\n",
    "totalfreq=0\n",
    "rarefreq=0\n",
    "\n",
    "for key, value in tokenizer.word_counts.items():\n",
    "    totalfreq = totalfreq + value\n",
    "    \n",
    "    if(value<threshold):\n",
    "        rarecount = rarecount + 1\n",
    "        rarefreq = rarefreq + value\n",
    "\n",
    "print('등장 빈도 %s 번 이하인 희귀 단어의 수 : %s'%(threshold-1, rarecount))\n",
    "print('단어 집합에서 희귀 단어의 비율:', rarecount/totalcount*100)\n",
    "print('전체 등장 빈도에서 희귀 단어 등장 빈도 비율:', rarefreq/totalfreq*100)"
   ]
  },
  {
   "cell_type": "code",
   "execution_count": 19,
   "metadata": {
    "execution": {
     "iopub.execute_input": "2020-10-08T18:46:45.799346Z",
     "iopub.status.busy": "2020-10-08T18:46:45.798563Z",
     "iopub.status.idle": "2020-10-08T18:46:45.846029Z",
     "shell.execute_reply": "2020-10-08T18:46:45.845448Z"
    },
    "papermill": {
     "duration": 0.094438,
     "end_time": "2020-10-08T18:46:45.846128",
     "exception": false,
     "start_time": "2020-10-08T18:46:45.751690",
     "status": "completed"
    },
    "tags": []
   },
   "outputs": [
    {
     "name": "stderr",
     "output_type": "stream",
     "text": [
      "100%|██████████| 22671/22671 [00:00<00:00, 533004.48it/s]\n"
     ]
    }
   ],
   "source": [
    "embedding_matrix=np.zeros((vocab_size,100))\n",
    "\n",
    "for word,i in tqdm(word_to_index.items()):\n",
    "    if i > vocab_size:\n",
    "        continue\n",
    "    \n",
    "    emb_vec=embedding_dict.get(word)\n",
    "    if emb_vec is not None:\n",
    "        embedding_matrix[i]=emb_vec"
   ]
  },
  {
   "cell_type": "code",
   "execution_count": 20,
   "metadata": {
    "execution": {
     "iopub.execute_input": "2020-10-08T18:46:45.909454Z",
     "iopub.status.busy": "2020-10-08T18:46:45.908702Z",
     "iopub.status.idle": "2020-10-08T18:46:45.912104Z",
     "shell.execute_reply": "2020-10-08T18:46:45.912471Z"
    },
    "papermill": {
     "duration": 0.03668,
     "end_time": "2020-10-08T18:46:45.912559",
     "exception": false,
     "start_time": "2020-10-08T18:46:45.875879",
     "status": "completed"
    },
    "tags": []
   },
   "outputs": [
    {
     "data": {
      "text/plain": [
       "\"x_tweet = sequences\\nprint('트윗의 최대 길이 : %d' % max(len(l) for l in x_tweet))\\nprint('트윗의 평균 길이 : %f' % (sum(map(len, x_tweet))/len(x_tweet)))\\nplt.hist([len(s) for s in x_tweet], bins=50)\\nplt.xlabel('length of samples')\\nplt.ylabel('number of samples')\\nplt.show()\""
      ]
     },
     "execution_count": 20,
     "metadata": {},
     "output_type": "execute_result"
    }
   ],
   "source": [
    "'''x_tweet = sequences\n",
    "print('트윗의 최대 길이 : %d' % max(len(l) for l in x_tweet))\n",
    "print('트윗의 평균 길이 : %f' % (sum(map(len, x_tweet))/len(x_tweet)))\n",
    "plt.hist([len(s) for s in x_tweet], bins=50)\n",
    "plt.xlabel('length of samples')\n",
    "plt.ylabel('number of samples')\n",
    "plt.show()'''"
   ]
  },
  {
   "cell_type": "code",
   "execution_count": 21,
   "metadata": {
    "execution": {
     "iopub.execute_input": "2020-10-08T18:46:45.973863Z",
     "iopub.status.busy": "2020-10-08T18:46:45.973287Z",
     "iopub.status.idle": "2020-10-08T18:46:45.976480Z",
     "shell.execute_reply": "2020-10-08T18:46:45.976876Z"
    },
    "papermill": {
     "duration": 0.035268,
     "end_time": "2020-10-08T18:46:45.976960",
     "exception": false,
     "start_time": "2020-10-08T18:46:45.941692",
     "status": "completed"
    },
    "tags": []
   },
   "outputs": [
    {
     "data": {
      "text/plain": [
       "'maxlen = 25\\ntweet = pad_sequences(x_tweet, maxlen = maxlen)\\ntweet.shape'"
      ]
     },
     "execution_count": 21,
     "metadata": {},
     "output_type": "execute_result"
    }
   ],
   "source": [
    "'''maxlen = 25\n",
    "tweet = pad_sequences(x_tweet, maxlen = maxlen)\n",
    "tweet.shape'''"
   ]
  },
  {
   "cell_type": "code",
   "execution_count": 22,
   "metadata": {
    "execution": {
     "iopub.execute_input": "2020-10-08T18:46:46.041129Z",
     "iopub.status.busy": "2020-10-08T18:46:46.040521Z",
     "iopub.status.idle": "2020-10-08T18:46:46.044311Z",
     "shell.execute_reply": "2020-10-08T18:46:46.043829Z"
    },
    "papermill": {
     "duration": 0.037576,
     "end_time": "2020-10-08T18:46:46.044383",
     "exception": false,
     "start_time": "2020-10-08T18:46:46.006807",
     "status": "completed"
    },
    "tags": []
   },
   "outputs": [
    {
     "name": "stdout",
     "output_type": "stream",
     "text": [
      "Shape of train (7613, 50)\n",
      "Shape of Validation  (3263, 50)\n"
     ]
    }
   ],
   "source": [
    "x_train=tweet_pad[:train.shape[0]]\n",
    "x_test=tweet_pad[train.shape[0]:]\n",
    "print('Shape of train',x_train.shape)\n",
    "print(\"Shape of Validation \",x_test.shape)"
   ]
  },
  {
   "cell_type": "code",
   "execution_count": 23,
   "metadata": {
    "execution": {
     "iopub.execute_input": "2020-10-08T18:46:46.107433Z",
     "iopub.status.busy": "2020-10-08T18:46:46.106836Z",
     "iopub.status.idle": "2020-10-08T18:46:46.110476Z",
     "shell.execute_reply": "2020-10-08T18:46:46.110043Z"
    },
    "papermill": {
     "duration": 0.036321,
     "end_time": "2020-10-08T18:46:46.110545",
     "exception": false,
     "start_time": "2020-10-08T18:46:46.074224",
     "status": "completed"
    },
    "tags": []
   },
   "outputs": [
    {
     "data": {
      "text/plain": [
       "array([[5649,  704,  150, ...,    0,    0,    0],\n",
       "       [  79,    4,  118, ...,    0,    0,    0],\n",
       "       [1442, 1356, 2090, ...,    0,    0,    0],\n",
       "       ...,\n",
       "       [4060, 5579, 8035, ...,    0,    0,    0],\n",
       "       [  18, 1094, 3890, ...,    0,    0,    0],\n",
       "       [ 124,  127,  427, ...,    0,    0,    0]], dtype=int32)"
      ]
     },
     "execution_count": 23,
     "metadata": {},
     "output_type": "execute_result"
    }
   ],
   "source": [
    "x_train"
   ]
  },
  {
   "cell_type": "code",
   "execution_count": 24,
   "metadata": {
    "execution": {
     "iopub.execute_input": "2020-10-08T18:46:46.175285Z",
     "iopub.status.busy": "2020-10-08T18:46:46.174775Z",
     "iopub.status.idle": "2020-10-08T18:46:46.179277Z",
     "shell.execute_reply": "2020-10-08T18:46:46.178781Z"
    },
    "papermill": {
     "duration": 0.038548,
     "end_time": "2020-10-08T18:46:46.179367",
     "exception": false,
     "start_time": "2020-10-08T18:46:46.140819",
     "status": "completed"
    },
    "tags": []
   },
   "outputs": [
    {
     "data": {
      "text/plain": [
       "0       1\n",
       "1       1\n",
       "2       1\n",
       "3       1\n",
       "4       1\n",
       "       ..\n",
       "7608    1\n",
       "7609    1\n",
       "7610    1\n",
       "7611    1\n",
       "7612    1\n",
       "Name: target, Length: 7613, dtype: int64"
      ]
     },
     "execution_count": 24,
     "metadata": {},
     "output_type": "execute_result"
    }
   ],
   "source": [
    "y_train = train.target\n",
    "y_train"
   ]
  },
  {
   "cell_type": "code",
   "execution_count": 25,
   "metadata": {
    "execution": {
     "iopub.execute_input": "2020-10-08T18:46:46.275518Z",
     "iopub.status.busy": "2020-10-08T18:46:46.275084Z",
     "iopub.status.idle": "2020-10-08T18:46:46.277771Z",
     "shell.execute_reply": "2020-10-08T18:46:46.277415Z"
    },
    "papermill": {
     "duration": 0.051745,
     "end_time": "2020-10-08T18:46:46.277842",
     "exception": false,
     "start_time": "2020-10-08T18:46:46.226097",
     "status": "completed"
    },
    "tags": []
   },
   "outputs": [],
   "source": [
    "from tensorflow.keras.layers import SimpleRNN, Embedding, Dense, Dropout\n",
    "from tensorflow.keras.models import Sequential\n",
    "from keras.initializers import Constant"
   ]
  },
  {
   "cell_type": "code",
   "execution_count": 26,
   "metadata": {
    "execution": {
     "iopub.execute_input": "2020-10-08T18:46:46.346307Z",
     "iopub.status.busy": "2020-10-08T18:46:46.345849Z",
     "iopub.status.idle": "2020-10-08T18:46:46.752551Z",
     "shell.execute_reply": "2020-10-08T18:46:46.752039Z"
    },
    "papermill": {
     "duration": 0.44426,
     "end_time": "2020-10-08T18:46:46.752653",
     "exception": false,
     "start_time": "2020-10-08T18:46:46.308393",
     "status": "completed"
    },
    "tags": []
   },
   "outputs": [],
   "source": [
    "model = Sequential()\n",
    "\n",
    "embedding=Embedding(vocab_size,100,embeddings_initializer=Constant(embedding_matrix),\n",
    "                   input_length=MAX_LEN,trainable=False)\n",
    "\n",
    "\n",
    "model.add(embedding) # 임베딩 벡터의 차원은 100\n",
    "model.add(SpatialDropout1D(0.2))\n",
    "model.add(LSTM(100, dropout=0.2, recurrent_dropout=0.2))\n",
    "model.add(Dense(1, activation='sigmoid'))\n",
    "\n",
    "\n",
    "optimzer=Adam(learning_rate=1e-4)\n",
    "\n",
    "model.compile(loss='binary_crossentropy',optimizer=optimzer,metrics=['accuracy'])\n"
   ]
  },
  {
   "cell_type": "code",
   "execution_count": 27,
   "metadata": {
    "execution": {
     "iopub.execute_input": "2020-10-08T18:46:46.850034Z",
     "iopub.status.busy": "2020-10-08T18:46:46.849579Z",
     "iopub.status.idle": "2020-10-08T18:46:46.851734Z",
     "shell.execute_reply": "2020-10-08T18:46:46.852101Z"
    },
    "papermill": {
     "duration": 0.052545,
     "end_time": "2020-10-08T18:46:46.852189",
     "exception": false,
     "start_time": "2020-10-08T18:46:46.799644",
     "status": "completed"
    },
    "tags": []
   },
   "outputs": [],
   "source": [
    "from keras.callbacks import EarlyStopping\n",
    "early_stopping = EarlyStopping(monitor='binary_crossentropy', patience = 3, mode='auto')"
   ]
  },
  {
   "cell_type": "code",
   "execution_count": 28,
   "metadata": {
    "execution": {
     "iopub.execute_input": "2020-10-08T18:46:46.917541Z",
     "iopub.status.busy": "2020-10-08T18:46:46.916578Z",
     "iopub.status.idle": "2020-10-08T18:46:46.922504Z",
     "shell.execute_reply": "2020-10-08T18:46:46.921949Z"
    },
    "papermill": {
     "duration": 0.039536,
     "end_time": "2020-10-08T18:46:46.922618",
     "exception": false,
     "start_time": "2020-10-08T18:46:46.883082",
     "status": "completed"
    },
    "tags": []
   },
   "outputs": [
    {
     "name": "stdout",
     "output_type": "stream",
     "text": [
      "Model: \"sequential\"\n",
      "_________________________________________________________________\n",
      "Layer (type)                 Output Shape              Param #   \n",
      "=================================================================\n",
      "embedding (Embedding)        (None, 50, 100)           2267200   \n",
      "_________________________________________________________________\n",
      "spatial_dropout1d (SpatialDr (None, 50, 100)           0         \n",
      "_________________________________________________________________\n",
      "lstm (LSTM)                  (None, 100)               80400     \n",
      "_________________________________________________________________\n",
      "dense (Dense)                (None, 1)                 101       \n",
      "=================================================================\n",
      "Total params: 2,347,701\n",
      "Trainable params: 80,501\n",
      "Non-trainable params: 2,267,200\n",
      "_________________________________________________________________\n"
     ]
    }
   ],
   "source": [
    "model.summary()"
   ]
  },
  {
   "cell_type": "code",
   "execution_count": 29,
   "metadata": {
    "execution": {
     "iopub.execute_input": "2020-10-08T18:46:46.989336Z",
     "iopub.status.busy": "2020-10-08T18:46:46.988874Z",
     "iopub.status.idle": "2020-10-08T18:48:37.286079Z",
     "shell.execute_reply": "2020-10-08T18:48:37.286535Z"
    },
    "papermill": {
     "duration": 110.332762,
     "end_time": "2020-10-08T18:48:37.286696",
     "exception": false,
     "start_time": "2020-10-08T18:46:46.953934",
     "status": "completed"
    },
    "tags": []
   },
   "outputs": [
    {
     "name": "stdout",
     "output_type": "stream",
     "text": [
      "Epoch 1/20\n",
      "96/96 [==============================] - 5s 56ms/step - loss: 0.6578 - accuracy: 0.6072 - val_loss: 0.5401 - val_accuracy: 0.7525\n",
      "Epoch 2/20\n",
      "96/96 [==============================] - 5s 55ms/step - loss: 0.5119 - accuracy: 0.7585 - val_loss: 0.4601 - val_accuracy: 0.7984\n",
      "Epoch 3/20\n",
      "96/96 [==============================] - 5s 51ms/step - loss: 0.4908 - accuracy: 0.7749 - val_loss: 0.4535 - val_accuracy: 0.7945\n",
      "Epoch 4/20\n",
      "96/96 [==============================] - 5s 51ms/step - loss: 0.4834 - accuracy: 0.7788 - val_loss: 0.4452 - val_accuracy: 0.8030\n",
      "Epoch 5/20\n",
      "96/96 [==============================] - 5s 51ms/step - loss: 0.4744 - accuracy: 0.7836 - val_loss: 0.4384 - val_accuracy: 0.8056\n",
      "Epoch 6/20\n",
      "96/96 [==============================] - 5s 51ms/step - loss: 0.4709 - accuracy: 0.7892 - val_loss: 0.4351 - val_accuracy: 0.8043\n",
      "Epoch 7/20\n",
      "96/96 [==============================] - 5s 56ms/step - loss: 0.4691 - accuracy: 0.7869 - val_loss: 0.4340 - val_accuracy: 0.8070\n",
      "Epoch 8/20\n",
      "96/96 [==============================] - 5s 56ms/step - loss: 0.4642 - accuracy: 0.7905 - val_loss: 0.4316 - val_accuracy: 0.8083\n",
      "Epoch 9/20\n",
      "96/96 [==============================] - 5s 55ms/step - loss: 0.4674 - accuracy: 0.7880 - val_loss: 0.4323 - val_accuracy: 0.8076\n",
      "Epoch 10/20\n",
      "96/96 [==============================] - 5s 55ms/step - loss: 0.4557 - accuracy: 0.7964 - val_loss: 0.4286 - val_accuracy: 0.8089\n",
      "Epoch 11/20\n",
      "96/96 [==============================] - 5s 53ms/step - loss: 0.4632 - accuracy: 0.7934 - val_loss: 0.4268 - val_accuracy: 0.8089\n",
      "Epoch 12/20\n",
      "96/96 [==============================] - 5s 52ms/step - loss: 0.4615 - accuracy: 0.7918 - val_loss: 0.4270 - val_accuracy: 0.8063\n",
      "Epoch 13/20\n",
      "96/96 [==============================] - 5s 52ms/step - loss: 0.4557 - accuracy: 0.7980 - val_loss: 0.4292 - val_accuracy: 0.8056\n",
      "Epoch 14/20\n",
      "96/96 [==============================] - 5s 55ms/step - loss: 0.4533 - accuracy: 0.7980 - val_loss: 0.4283 - val_accuracy: 0.8070\n",
      "Epoch 15/20\n",
      "96/96 [==============================] - 7s 69ms/step - loss: 0.4539 - accuracy: 0.7987 - val_loss: 0.4265 - val_accuracy: 0.8050\n",
      "Epoch 16/20\n",
      "96/96 [==============================] - 6s 62ms/step - loss: 0.4451 - accuracy: 0.8003 - val_loss: 0.4266 - val_accuracy: 0.8142\n",
      "Epoch 17/20\n",
      "96/96 [==============================] - 6s 59ms/step - loss: 0.4468 - accuracy: 0.8053 - val_loss: 0.4235 - val_accuracy: 0.8063\n",
      "Epoch 18/20\n",
      "96/96 [==============================] - 5s 56ms/step - loss: 0.4430 - accuracy: 0.8049 - val_loss: 0.4241 - val_accuracy: 0.8076\n",
      "Epoch 19/20\n",
      "96/96 [==============================] - 5s 57ms/step - loss: 0.4465 - accuracy: 0.8018 - val_loss: 0.4218 - val_accuracy: 0.8109\n",
      "Epoch 20/20\n",
      "96/96 [==============================] - 5s 57ms/step - loss: 0.4432 - accuracy: 0.8053 - val_loss: 0.4234 - val_accuracy: 0.8116\n"
     ]
    }
   ],
   "source": [
    "history = model.fit(x_train, y_train, epochs=20, batch_size=64, validation_split=0.2, callbacks = [early_stopping])"
   ]
  },
  {
   "cell_type": "code",
   "execution_count": 30,
   "metadata": {
    "execution": {
     "iopub.execute_input": "2020-10-08T18:48:38.014752Z",
     "iopub.status.busy": "2020-10-08T18:48:38.014175Z",
     "iopub.status.idle": "2020-10-08T18:48:38.128155Z",
     "shell.execute_reply": "2020-10-08T18:48:38.127765Z"
    },
    "papermill": {
     "duration": 0.475451,
     "end_time": "2020-10-08T18:48:38.128250",
     "exception": false,
     "start_time": "2020-10-08T18:48:37.652799",
     "status": "completed"
    },
    "tags": []
   },
   "outputs": [
    {
     "data": {
      "image/png": "[encoded data removed]",
      "text/plain": [
       "<Figure size 432x288 with 1 Axes>"
      ]
     },
     "metadata": {
      "needs_background": "light"
     },
     "output_type": "display_data"
    }
   ],
   "source": [
    "epochs = range(1, len(history.history['accuracy']) + 1)\n",
    "plt.plot(epochs, history.history['loss'])\n",
    "plt.plot(epochs, history.history['val_loss'])\n",
    "plt.title('model loss')\n",
    "plt.ylabel('loss')\n",
    "plt.xlabel('epoch')\n",
    "plt.legend(['train', 'val'], loc='upper left')\n",
    "plt.show()"
   ]
  },
  {
   "cell_type": "code",
   "execution_count": 31,
   "metadata": {
    "execution": {
     "iopub.execute_input": "2020-10-08T18:48:38.883781Z",
     "iopub.status.busy": "2020-10-08T18:48:38.883193Z",
     "iopub.status.idle": "2020-10-08T18:48:38.885712Z",
     "shell.execute_reply": "2020-10-08T18:48:38.886407Z"
    },
    "papermill": {
     "duration": 0.392802,
     "end_time": "2020-10-08T18:48:38.886564",
     "exception": false,
     "start_time": "2020-10-08T18:48:38.493762",
     "status": "completed"
    },
    "tags": []
   },
   "outputs": [
    {
     "name": "stdout",
     "output_type": "stream",
     "text": [
      "<class 'pandas.core.frame.DataFrame'>\n",
      "RangeIndex: 3263 entries, 0 to 3262\n",
      "Data columns (total 4 columns):\n",
      " #   Column    Non-Null Count  Dtype \n",
      "---  ------    --------------  ----- \n",
      " 0   id        3263 non-null   int64 \n",
      " 1   keyword   3237 non-null   object\n",
      " 2   location  2158 non-null   object\n",
      " 3   text      3263 non-null   object\n",
      "dtypes: int64(1), object(3)\n",
      "memory usage: 102.1+ KB\n"
     ]
    }
   ],
   "source": [
    "test.info()"
   ]
  },
  {
   "cell_type": "code",
   "execution_count": 32,
   "metadata": {
    "execution": {
     "iopub.execute_input": "2020-10-08T18:48:40.044143Z",
     "iopub.status.busy": "2020-10-08T18:48:40.043424Z",
     "iopub.status.idle": "2020-10-08T18:48:40.046640Z",
     "shell.execute_reply": "2020-10-08T18:48:40.046220Z"
    },
    "papermill": {
     "duration": 0.556876,
     "end_time": "2020-10-08T18:48:40.046720",
     "exception": false,
     "start_time": "2020-10-08T18:48:39.489844",
     "status": "completed"
    },
    "tags": []
   },
   "outputs": [
    {
     "data": {
      "text/plain": [
       "array([[ 667, 1362,   55, ...,    0,    0,    0],\n",
       "       [ 260,  150, 1192, ...,    0,    0,    0],\n",
       "       [  79,    4,  694, ...,    0,    0,    0],\n",
       "       ...,\n",
       "       [ 715,  442,  312, ...,    0,    0,    0],\n",
       "       [4175,  500,  336, ...,    0,    0,    0],\n",
       "       [4081, 2551, 1435, ...,    0,    0,    0]], dtype=int32)"
      ]
     },
     "execution_count": 32,
     "metadata": {},
     "output_type": "execute_result"
    }
   ],
   "source": [
    "x_test"
   ]
  },
  {
   "cell_type": "code",
   "execution_count": 33,
   "metadata": {
    "execution": {
     "iopub.execute_input": "2020-10-08T18:48:40.770215Z",
     "iopub.status.busy": "2020-10-08T18:48:40.769582Z",
     "iopub.status.idle": "2020-10-08T18:48:41.766550Z",
     "shell.execute_reply": "2020-10-08T18:48:41.766151Z"
    },
    "papermill": {
     "duration": 1.361548,
     "end_time": "2020-10-08T18:48:41.766639",
     "exception": false,
     "start_time": "2020-10-08T18:48:40.405091",
     "status": "completed"
    },
    "tags": []
   },
   "outputs": [],
   "source": [
    "tweet_result = model.predict(x_test)\n",
    "pd_tweet_result = pd.DataFrame(tweet_result, columns=['result'])"
   ]
  },
  {
   "cell_type": "code",
   "execution_count": 34,
   "metadata": {
    "execution": {
     "iopub.execute_input": "2020-10-08T18:48:42.497401Z",
     "iopub.status.busy": "2020-10-08T18:48:42.496786Z",
     "iopub.status.idle": "2020-10-08T18:48:42.501140Z",
     "shell.execute_reply": "2020-10-08T18:48:42.500773Z"
    },
    "papermill": {
     "duration": 0.374945,
     "end_time": "2020-10-08T18:48:42.501214",
     "exception": false,
     "start_time": "2020-10-08T18:48:42.126269",
     "status": "completed"
    },
    "tags": []
   },
   "outputs": [
    {
     "data": {
      "text/html": [
       "<div>\n",
       "<style scoped>\n",
       "    .dataframe tbody tr th:only-of-type {\n",
       "        vertical-align: middle;\n",
       "    }\n",
       "\n",
       "    .dataframe tbody tr th {\n",
       "        vertical-align: top;\n",
       "    }\n",
       "\n",
       "    .dataframe thead th {\n",
       "        text-align: right;\n",
       "    }\n",
       "</style>\n",
       "<table border=\"1\" class=\"dataframe\">\n",
       "  <thead>\n",
       "    <tr style=\"text-align: right;\">\n",
       "      <th></th>\n",
       "      <th>result</th>\n",
       "    </tr>\n",
       "  </thead>\n",
       "  <tbody>\n",
       "    <tr>\n",
       "      <th>0</th>\n",
       "      <td>0.929127</td>\n",
       "    </tr>\n",
       "    <tr>\n",
       "      <th>1</th>\n",
       "      <td>0.760512</td>\n",
       "    </tr>\n",
       "    <tr>\n",
       "      <th>2</th>\n",
       "      <td>0.974794</td>\n",
       "    </tr>\n",
       "    <tr>\n",
       "      <th>3</th>\n",
       "      <td>0.883550</td>\n",
       "    </tr>\n",
       "    <tr>\n",
       "      <th>4</th>\n",
       "      <td>0.976865</td>\n",
       "    </tr>\n",
       "    <tr>\n",
       "      <th>...</th>\n",
       "      <td>...</td>\n",
       "    </tr>\n",
       "    <tr>\n",
       "      <th>3258</th>\n",
       "      <td>0.961415</td>\n",
       "    </tr>\n",
       "    <tr>\n",
       "      <th>3259</th>\n",
       "      <td>0.973280</td>\n",
       "    </tr>\n",
       "    <tr>\n",
       "      <th>3260</th>\n",
       "      <td>0.749921</td>\n",
       "    </tr>\n",
       "    <tr>\n",
       "      <th>3261</th>\n",
       "      <td>0.720758</td>\n",
       "    </tr>\n",
       "    <tr>\n",
       "      <th>3262</th>\n",
       "      <td>0.465299</td>\n",
       "    </tr>\n",
       "  </tbody>\n",
       "</table>\n",
       "<p>3263 rows × 1 columns</p>\n",
       "</div>"
      ],
      "text/plain": [
       "        result\n",
       "0     0.929127\n",
       "1     0.760512\n",
       "2     0.974794\n",
       "3     0.883550\n",
       "4     0.976865\n",
       "...        ...\n",
       "3258  0.961415\n",
       "3259  0.973280\n",
       "3260  0.749921\n",
       "3261  0.720758\n",
       "3262  0.465299\n",
       "\n",
       "[3263 rows x 1 columns]"
      ]
     },
     "execution_count": 34,
     "metadata": {},
     "output_type": "execute_result"
    }
   ],
   "source": [
    "pd_tweet_result"
   ]
  },
  {
   "cell_type": "markdown",
   "metadata": {
    "papermill": {
     "duration": 0.360843,
     "end_time": "2020-10-08T18:48:43.222941",
     "exception": false,
     "start_time": "2020-10-08T18:48:42.862098",
     "status": "completed"
    },
    "tags": []
   },
   "source": [
    "# KEYWORD"
   ]
  },
  {
   "cell_type": "code",
   "execution_count": 35,
   "metadata": {
    "execution": {
     "iopub.execute_input": "2020-10-08T18:48:43.952805Z",
     "iopub.status.busy": "2020-10-08T18:48:43.952318Z",
     "iopub.status.idle": "2020-10-08T18:48:44.039783Z",
     "shell.execute_reply": "2020-10-08T18:48:44.039374Z"
    },
    "papermill": {
     "duration": 0.448917,
     "end_time": "2020-10-08T18:48:44.039875",
     "exception": false,
     "start_time": "2020-10-08T18:48:43.590958",
     "status": "completed"
    },
    "tags": []
   },
   "outputs": [],
   "source": [
    "from sklearn.ensemble import RandomForestClassifier, GradientBoostingClassifier"
   ]
  },
  {
   "cell_type": "code",
   "execution_count": 36,
   "metadata": {
    "execution": {
     "iopub.execute_input": "2020-10-08T18:48:44.769692Z",
     "iopub.status.busy": "2020-10-08T18:48:44.768484Z",
     "iopub.status.idle": "2020-10-08T18:48:44.786943Z",
     "shell.execute_reply": "2020-10-08T18:48:44.786467Z"
    },
    "papermill": {
     "duration": 0.38216,
     "end_time": "2020-10-08T18:48:44.787061",
     "exception": false,
     "start_time": "2020-10-08T18:48:44.404901",
     "status": "completed"
    },
    "tags": []
   },
   "outputs": [
    {
     "data": {
      "text/html": [
       "<div>\n",
       "<style scoped>\n",
       "    .dataframe tbody tr th:only-of-type {\n",
       "        vertical-align: middle;\n",
       "    }\n",
       "\n",
       "    .dataframe tbody tr th {\n",
       "        vertical-align: top;\n",
       "    }\n",
       "\n",
       "    .dataframe thead th {\n",
       "        text-align: right;\n",
       "    }\n",
       "</style>\n",
       "<table border=\"1\" class=\"dataframe\">\n",
       "  <thead>\n",
       "    <tr style=\"text-align: right;\">\n",
       "      <th></th>\n",
       "      <th>id</th>\n",
       "      <th>keyword</th>\n",
       "      <th>location</th>\n",
       "      <th>text</th>\n",
       "      <th>target</th>\n",
       "      <th>target_mean</th>\n",
       "    </tr>\n",
       "  </thead>\n",
       "  <tbody>\n",
       "    <tr>\n",
       "      <th>0</th>\n",
       "      <td>1</td>\n",
       "      <td>0</td>\n",
       "      <td>NaN</td>\n",
       "      <td>Our Deeds are the Reason of this #earthquake M...</td>\n",
       "      <td>1</td>\n",
       "      <td>0.688525</td>\n",
       "    </tr>\n",
       "    <tr>\n",
       "      <th>1</th>\n",
       "      <td>4</td>\n",
       "      <td>0</td>\n",
       "      <td>NaN</td>\n",
       "      <td>Forest fire near La Ronge Sask. Canada</td>\n",
       "      <td>1</td>\n",
       "      <td>0.688525</td>\n",
       "    </tr>\n",
       "    <tr>\n",
       "      <th>2</th>\n",
       "      <td>5</td>\n",
       "      <td>0</td>\n",
       "      <td>NaN</td>\n",
       "      <td>All residents asked to 'shelter in place' are ...</td>\n",
       "      <td>1</td>\n",
       "      <td>0.688525</td>\n",
       "    </tr>\n",
       "    <tr>\n",
       "      <th>3</th>\n",
       "      <td>6</td>\n",
       "      <td>0</td>\n",
       "      <td>NaN</td>\n",
       "      <td>13,000 people receive #wildfires evacuation or...</td>\n",
       "      <td>1</td>\n",
       "      <td>0.688525</td>\n",
       "    </tr>\n",
       "    <tr>\n",
       "      <th>4</th>\n",
       "      <td>7</td>\n",
       "      <td>0</td>\n",
       "      <td>NaN</td>\n",
       "      <td>Just got sent this photo from Ruby #Alaska as ...</td>\n",
       "      <td>1</td>\n",
       "      <td>0.688525</td>\n",
       "    </tr>\n",
       "    <tr>\n",
       "      <th>...</th>\n",
       "      <td>...</td>\n",
       "      <td>...</td>\n",
       "      <td>...</td>\n",
       "      <td>...</td>\n",
       "      <td>...</td>\n",
       "      <td>...</td>\n",
       "    </tr>\n",
       "    <tr>\n",
       "      <th>7608</th>\n",
       "      <td>10869</td>\n",
       "      <td>0</td>\n",
       "      <td>NaN</td>\n",
       "      <td>Two giant cranes holding a bridge collapse int...</td>\n",
       "      <td>1</td>\n",
       "      <td>0.688525</td>\n",
       "    </tr>\n",
       "    <tr>\n",
       "      <th>7609</th>\n",
       "      <td>10870</td>\n",
       "      <td>0</td>\n",
       "      <td>NaN</td>\n",
       "      <td>@aria_ahrary @TheTawniest The out of control w...</td>\n",
       "      <td>1</td>\n",
       "      <td>0.688525</td>\n",
       "    </tr>\n",
       "    <tr>\n",
       "      <th>7610</th>\n",
       "      <td>10871</td>\n",
       "      <td>0</td>\n",
       "      <td>NaN</td>\n",
       "      <td>M1.94 [01:04 UTC]?5km S of Volcano Hawaii. htt...</td>\n",
       "      <td>1</td>\n",
       "      <td>0.688525</td>\n",
       "    </tr>\n",
       "    <tr>\n",
       "      <th>7611</th>\n",
       "      <td>10872</td>\n",
       "      <td>0</td>\n",
       "      <td>NaN</td>\n",
       "      <td>Police investigating after an e-bike collided ...</td>\n",
       "      <td>1</td>\n",
       "      <td>0.688525</td>\n",
       "    </tr>\n",
       "    <tr>\n",
       "      <th>7612</th>\n",
       "      <td>10873</td>\n",
       "      <td>0</td>\n",
       "      <td>NaN</td>\n",
       "      <td>The Latest: More Homes Razed by Northern Calif...</td>\n",
       "      <td>1</td>\n",
       "      <td>0.688525</td>\n",
       "    </tr>\n",
       "  </tbody>\n",
       "</table>\n",
       "<p>7613 rows × 6 columns</p>\n",
       "</div>"
      ],
      "text/plain": [
       "         id keyword location  \\\n",
       "0         1       0      NaN   \n",
       "1         4       0      NaN   \n",
       "2         5       0      NaN   \n",
       "3         6       0      NaN   \n",
       "4         7       0      NaN   \n",
       "...     ...     ...      ...   \n",
       "7608  10869       0      NaN   \n",
       "7609  10870       0      NaN   \n",
       "7610  10871       0      NaN   \n",
       "7611  10872       0      NaN   \n",
       "7612  10873       0      NaN   \n",
       "\n",
       "                                                   text  target  target_mean  \n",
       "0     Our Deeds are the Reason of this #earthquake M...       1     0.688525  \n",
       "1                Forest fire near La Ronge Sask. Canada       1     0.688525  \n",
       "2     All residents asked to 'shelter in place' are ...       1     0.688525  \n",
       "3     13,000 people receive #wildfires evacuation or...       1     0.688525  \n",
       "4     Just got sent this photo from Ruby #Alaska as ...       1     0.688525  \n",
       "...                                                 ...     ...          ...  \n",
       "7608  Two giant cranes holding a bridge collapse int...       1     0.688525  \n",
       "7609  @aria_ahrary @TheTawniest The out of control w...       1     0.688525  \n",
       "7610  M1.94 [01:04 UTC]?5km S of Volcano Hawaii. htt...       1     0.688525  \n",
       "7611  Police investigating after an e-bike collided ...       1     0.688525  \n",
       "7612  The Latest: More Homes Razed by Northern Calif...       1     0.688525  \n",
       "\n",
       "[7613 rows x 6 columns]"
      ]
     },
     "execution_count": 36,
     "metadata": {},
     "output_type": "execute_result"
    }
   ],
   "source": [
    "train['keyword'] = train['keyword'].fillna('0')\n",
    "train['target_mean'] = train.groupby('keyword')['target'].transform('mean')\n",
    "train['target_mean'] = train['target_mean'].fillna(0.0)\n",
    "train"
   ]
  },
  {
   "cell_type": "code",
   "execution_count": 37,
   "metadata": {
    "execution": {
     "iopub.execute_input": "2020-10-08T18:48:45.768961Z",
     "iopub.status.busy": "2020-10-08T18:48:45.768493Z",
     "iopub.status.idle": "2020-10-08T18:48:45.772789Z",
     "shell.execute_reply": "2020-10-08T18:48:45.772440Z"
    },
    "papermill": {
     "duration": 0.433049,
     "end_time": "2020-10-08T18:48:45.772870",
     "exception": false,
     "start_time": "2020-10-08T18:48:45.339821",
     "status": "completed"
    },
    "tags": []
   },
   "outputs": [
    {
     "data": {
      "text/html": [
       "<div>\n",
       "<style scoped>\n",
       "    .dataframe tbody tr th:only-of-type {\n",
       "        vertical-align: middle;\n",
       "    }\n",
       "\n",
       "    .dataframe tbody tr th {\n",
       "        vertical-align: top;\n",
       "    }\n",
       "\n",
       "    .dataframe thead th {\n",
       "        text-align: right;\n",
       "    }\n",
       "</style>\n",
       "<table border=\"1\" class=\"dataframe\">\n",
       "  <thead>\n",
       "    <tr style=\"text-align: right;\">\n",
       "      <th></th>\n",
       "      <th>keyword</th>\n",
       "      <th>target_mean</th>\n",
       "    </tr>\n",
       "  </thead>\n",
       "  <tbody>\n",
       "    <tr>\n",
       "      <th>0</th>\n",
       "      <td>0</td>\n",
       "      <td>0.688525</td>\n",
       "    </tr>\n",
       "    <tr>\n",
       "      <th>1</th>\n",
       "      <td>0</td>\n",
       "      <td>0.688525</td>\n",
       "    </tr>\n",
       "    <tr>\n",
       "      <th>2</th>\n",
       "      <td>0</td>\n",
       "      <td>0.688525</td>\n",
       "    </tr>\n",
       "    <tr>\n",
       "      <th>3</th>\n",
       "      <td>0</td>\n",
       "      <td>0.688525</td>\n",
       "    </tr>\n",
       "    <tr>\n",
       "      <th>4</th>\n",
       "      <td>0</td>\n",
       "      <td>0.688525</td>\n",
       "    </tr>\n",
       "    <tr>\n",
       "      <th>...</th>\n",
       "      <td>...</td>\n",
       "      <td>...</td>\n",
       "    </tr>\n",
       "    <tr>\n",
       "      <th>7608</th>\n",
       "      <td>0</td>\n",
       "      <td>0.688525</td>\n",
       "    </tr>\n",
       "    <tr>\n",
       "      <th>7609</th>\n",
       "      <td>0</td>\n",
       "      <td>0.688525</td>\n",
       "    </tr>\n",
       "    <tr>\n",
       "      <th>7610</th>\n",
       "      <td>0</td>\n",
       "      <td>0.688525</td>\n",
       "    </tr>\n",
       "    <tr>\n",
       "      <th>7611</th>\n",
       "      <td>0</td>\n",
       "      <td>0.688525</td>\n",
       "    </tr>\n",
       "    <tr>\n",
       "      <th>7612</th>\n",
       "      <td>0</td>\n",
       "      <td>0.688525</td>\n",
       "    </tr>\n",
       "  </tbody>\n",
       "</table>\n",
       "<p>7613 rows × 2 columns</p>\n",
       "</div>"
      ],
      "text/plain": [
       "     keyword  target_mean\n",
       "0          0     0.688525\n",
       "1          0     0.688525\n",
       "2          0     0.688525\n",
       "3          0     0.688525\n",
       "4          0     0.688525\n",
       "...      ...          ...\n",
       "7608       0     0.688525\n",
       "7609       0     0.688525\n",
       "7610       0     0.688525\n",
       "7611       0     0.688525\n",
       "7612       0     0.688525\n",
       "\n",
       "[7613 rows x 2 columns]"
      ]
     },
     "execution_count": 37,
     "metadata": {},
     "output_type": "execute_result"
    }
   ],
   "source": [
    "df_key = pd.DataFrame()\n",
    "df_key['keyword'] = train['keyword']\n",
    "df_key['target_mean'] = train['target_mean']\n",
    "df_key"
   ]
  },
  {
   "cell_type": "code",
   "execution_count": 38,
   "metadata": {
    "execution": {
     "iopub.execute_input": "2020-10-08T18:48:46.500035Z",
     "iopub.status.busy": "2020-10-08T18:48:46.499608Z",
     "iopub.status.idle": "2020-10-08T18:48:46.512585Z",
     "shell.execute_reply": "2020-10-08T18:48:46.512142Z"
    },
    "papermill": {
     "duration": 0.37894,
     "end_time": "2020-10-08T18:48:46.512660",
     "exception": false,
     "start_time": "2020-10-08T18:48:46.133720",
     "status": "completed"
    },
    "tags": []
   },
   "outputs": [
    {
     "data": {
      "text/html": [
       "<div>\n",
       "<style scoped>\n",
       "    .dataframe tbody tr th:only-of-type {\n",
       "        vertical-align: middle;\n",
       "    }\n",
       "\n",
       "    .dataframe tbody tr th {\n",
       "        vertical-align: top;\n",
       "    }\n",
       "\n",
       "    .dataframe thead th {\n",
       "        text-align: right;\n",
       "    }\n",
       "</style>\n",
       "<table border=\"1\" class=\"dataframe\">\n",
       "  <thead>\n",
       "    <tr style=\"text-align: right;\">\n",
       "      <th></th>\n",
       "      <th>keyword</th>\n",
       "      <th>target_mean</th>\n",
       "    </tr>\n",
       "  </thead>\n",
       "  <tbody>\n",
       "    <tr>\n",
       "      <th>115</th>\n",
       "      <td>aftershock</td>\n",
       "      <td>0.0</td>\n",
       "    </tr>\n",
       "    <tr>\n",
       "      <th>122</th>\n",
       "      <td>aftershock</td>\n",
       "      <td>0.0</td>\n",
       "    </tr>\n",
       "    <tr>\n",
       "      <th>123</th>\n",
       "      <td>aftershock</td>\n",
       "      <td>0.0</td>\n",
       "    </tr>\n",
       "    <tr>\n",
       "      <th>124</th>\n",
       "      <td>aftershock</td>\n",
       "      <td>0.0</td>\n",
       "    </tr>\n",
       "    <tr>\n",
       "      <th>125</th>\n",
       "      <td>aftershock</td>\n",
       "      <td>0.0</td>\n",
       "    </tr>\n",
       "    <tr>\n",
       "      <th>...</th>\n",
       "      <td>...</td>\n",
       "      <td>...</td>\n",
       "    </tr>\n",
       "    <tr>\n",
       "      <th>2174</th>\n",
       "      <td>debris</td>\n",
       "      <td>1.0</td>\n",
       "    </tr>\n",
       "    <tr>\n",
       "      <th>2173</th>\n",
       "      <td>debris</td>\n",
       "      <td>1.0</td>\n",
       "    </tr>\n",
       "    <tr>\n",
       "      <th>2172</th>\n",
       "      <td>debris</td>\n",
       "      <td>1.0</td>\n",
       "    </tr>\n",
       "    <tr>\n",
       "      <th>2170</th>\n",
       "      <td>debris</td>\n",
       "      <td>1.0</td>\n",
       "    </tr>\n",
       "    <tr>\n",
       "      <th>2181</th>\n",
       "      <td>debris</td>\n",
       "      <td>1.0</td>\n",
       "    </tr>\n",
       "  </tbody>\n",
       "</table>\n",
       "<p>7613 rows × 2 columns</p>\n",
       "</div>"
      ],
      "text/plain": [
       "         keyword  target_mean\n",
       "115   aftershock          0.0\n",
       "122   aftershock          0.0\n",
       "123   aftershock          0.0\n",
       "124   aftershock          0.0\n",
       "125   aftershock          0.0\n",
       "...          ...          ...\n",
       "2174      debris          1.0\n",
       "2173      debris          1.0\n",
       "2172      debris          1.0\n",
       "2170      debris          1.0\n",
       "2181      debris          1.0\n",
       "\n",
       "[7613 rows x 2 columns]"
      ]
     },
     "execution_count": 38,
     "metadata": {},
     "output_type": "execute_result"
    }
   ],
   "source": [
    "df_key = df_key.sort_values(by=['target_mean'])\n",
    "df_key"
   ]
  },
  {
   "cell_type": "code",
   "execution_count": 39,
   "metadata": {
    "execution": {
     "iopub.execute_input": "2020-10-08T18:48:47.239283Z",
     "iopub.status.busy": "2020-10-08T18:48:47.238528Z",
     "iopub.status.idle": "2020-10-08T18:48:47.263707Z",
     "shell.execute_reply": "2020-10-08T18:48:47.263206Z"
    },
    "papermill": {
     "duration": 0.392362,
     "end_time": "2020-10-08T18:48:47.263810",
     "exception": false,
     "start_time": "2020-10-08T18:48:46.871448",
     "status": "completed"
    },
    "tags": []
   },
   "outputs": [
    {
     "data": {
      "text/html": [
       "<div>\n",
       "<style scoped>\n",
       "    .dataframe tbody tr th:only-of-type {\n",
       "        vertical-align: middle;\n",
       "    }\n",
       "\n",
       "    .dataframe tbody tr th {\n",
       "        vertical-align: top;\n",
       "    }\n",
       "\n",
       "    .dataframe thead th {\n",
       "        text-align: right;\n",
       "    }\n",
       "</style>\n",
       "<table border=\"1\" class=\"dataframe\">\n",
       "  <thead>\n",
       "    <tr style=\"text-align: right;\">\n",
       "      <th></th>\n",
       "      <th>keyword</th>\n",
       "      <th>target_mean</th>\n",
       "      <th>0</th>\n",
       "      <th>ablaze</th>\n",
       "      <th>accident</th>\n",
       "      <th>aftershock</th>\n",
       "      <th>airplane%20accident</th>\n",
       "      <th>ambulance</th>\n",
       "      <th>annihilated</th>\n",
       "      <th>annihilation</th>\n",
       "      <th>...</th>\n",
       "      <th>weapons</th>\n",
       "      <th>whirlwind</th>\n",
       "      <th>wild%20fires</th>\n",
       "      <th>wildfire</th>\n",
       "      <th>windstorm</th>\n",
       "      <th>wounded</th>\n",
       "      <th>wounds</th>\n",
       "      <th>wreck</th>\n",
       "      <th>wreckage</th>\n",
       "      <th>wrecked</th>\n",
       "    </tr>\n",
       "  </thead>\n",
       "  <tbody>\n",
       "    <tr>\n",
       "      <th>115</th>\n",
       "      <td>aftershock</td>\n",
       "      <td>0.0</td>\n",
       "      <td>0</td>\n",
       "      <td>0</td>\n",
       "      <td>0</td>\n",
       "      <td>1</td>\n",
       "      <td>0</td>\n",
       "      <td>0</td>\n",
       "      <td>0</td>\n",
       "      <td>0</td>\n",
       "      <td>...</td>\n",
       "      <td>0</td>\n",
       "      <td>0</td>\n",
       "      <td>0</td>\n",
       "      <td>0</td>\n",
       "      <td>0</td>\n",
       "      <td>0</td>\n",
       "      <td>0</td>\n",
       "      <td>0</td>\n",
       "      <td>0</td>\n",
       "      <td>0</td>\n",
       "    </tr>\n",
       "    <tr>\n",
       "      <th>122</th>\n",
       "      <td>aftershock</td>\n",
       "      <td>0.0</td>\n",
       "      <td>0</td>\n",
       "      <td>0</td>\n",
       "      <td>0</td>\n",
       "      <td>1</td>\n",
       "      <td>0</td>\n",
       "      <td>0</td>\n",
       "      <td>0</td>\n",
       "      <td>0</td>\n",
       "      <td>...</td>\n",
       "      <td>0</td>\n",
       "      <td>0</td>\n",
       "      <td>0</td>\n",
       "      <td>0</td>\n",
       "      <td>0</td>\n",
       "      <td>0</td>\n",
       "      <td>0</td>\n",
       "      <td>0</td>\n",
       "      <td>0</td>\n",
       "      <td>0</td>\n",
       "    </tr>\n",
       "    <tr>\n",
       "      <th>123</th>\n",
       "      <td>aftershock</td>\n",
       "      <td>0.0</td>\n",
       "      <td>0</td>\n",
       "      <td>0</td>\n",
       "      <td>0</td>\n",
       "      <td>1</td>\n",
       "      <td>0</td>\n",
       "      <td>0</td>\n",
       "      <td>0</td>\n",
       "      <td>0</td>\n",
       "      <td>...</td>\n",
       "      <td>0</td>\n",
       "      <td>0</td>\n",
       "      <td>0</td>\n",
       "      <td>0</td>\n",
       "      <td>0</td>\n",
       "      <td>0</td>\n",
       "      <td>0</td>\n",
       "      <td>0</td>\n",
       "      <td>0</td>\n",
       "      <td>0</td>\n",
       "    </tr>\n",
       "    <tr>\n",
       "      <th>124</th>\n",
       "      <td>aftershock</td>\n",
       "      <td>0.0</td>\n",
       "      <td>0</td>\n",
       "      <td>0</td>\n",
       "      <td>0</td>\n",
       "      <td>1</td>\n",
       "      <td>0</td>\n",
       "      <td>0</td>\n",
       "      <td>0</td>\n",
       "      <td>0</td>\n",
       "      <td>...</td>\n",
       "      <td>0</td>\n",
       "      <td>0</td>\n",
       "      <td>0</td>\n",
       "      <td>0</td>\n",
       "      <td>0</td>\n",
       "      <td>0</td>\n",
       "      <td>0</td>\n",
       "      <td>0</td>\n",
       "      <td>0</td>\n",
       "      <td>0</td>\n",
       "    </tr>\n",
       "    <tr>\n",
       "      <th>125</th>\n",
       "      <td>aftershock</td>\n",
       "      <td>0.0</td>\n",
       "      <td>0</td>\n",
       "      <td>0</td>\n",
       "      <td>0</td>\n",
       "      <td>1</td>\n",
       "      <td>0</td>\n",
       "      <td>0</td>\n",
       "      <td>0</td>\n",
       "      <td>0</td>\n",
       "      <td>...</td>\n",
       "      <td>0</td>\n",
       "      <td>0</td>\n",
       "      <td>0</td>\n",
       "      <td>0</td>\n",
       "      <td>0</td>\n",
       "      <td>0</td>\n",
       "      <td>0</td>\n",
       "      <td>0</td>\n",
       "      <td>0</td>\n",
       "      <td>0</td>\n",
       "    </tr>\n",
       "    <tr>\n",
       "      <th>...</th>\n",
       "      <td>...</td>\n",
       "      <td>...</td>\n",
       "      <td>...</td>\n",
       "      <td>...</td>\n",
       "      <td>...</td>\n",
       "      <td>...</td>\n",
       "      <td>...</td>\n",
       "      <td>...</td>\n",
       "      <td>...</td>\n",
       "      <td>...</td>\n",
       "      <td>...</td>\n",
       "      <td>...</td>\n",
       "      <td>...</td>\n",
       "      <td>...</td>\n",
       "      <td>...</td>\n",
       "      <td>...</td>\n",
       "      <td>...</td>\n",
       "      <td>...</td>\n",
       "      <td>...</td>\n",
       "      <td>...</td>\n",
       "      <td>...</td>\n",
       "    </tr>\n",
       "    <tr>\n",
       "      <th>2174</th>\n",
       "      <td>debris</td>\n",
       "      <td>1.0</td>\n",
       "      <td>0</td>\n",
       "      <td>0</td>\n",
       "      <td>0</td>\n",
       "      <td>0</td>\n",
       "      <td>0</td>\n",
       "      <td>0</td>\n",
       "      <td>0</td>\n",
       "      <td>0</td>\n",
       "      <td>...</td>\n",
       "      <td>0</td>\n",
       "      <td>0</td>\n",
       "      <td>0</td>\n",
       "      <td>0</td>\n",
       "      <td>0</td>\n",
       "      <td>0</td>\n",
       "      <td>0</td>\n",
       "      <td>0</td>\n",
       "      <td>0</td>\n",
       "      <td>0</td>\n",
       "    </tr>\n",
       "    <tr>\n",
       "      <th>2173</th>\n",
       "      <td>debris</td>\n",
       "      <td>1.0</td>\n",
       "      <td>0</td>\n",
       "      <td>0</td>\n",
       "      <td>0</td>\n",
       "      <td>0</td>\n",
       "      <td>0</td>\n",
       "      <td>0</td>\n",
       "      <td>0</td>\n",
       "      <td>0</td>\n",
       "      <td>...</td>\n",
       "      <td>0</td>\n",
       "      <td>0</td>\n",
       "      <td>0</td>\n",
       "      <td>0</td>\n",
       "      <td>0</td>\n",
       "      <td>0</td>\n",
       "      <td>0</td>\n",
       "      <td>0</td>\n",
       "      <td>0</td>\n",
       "      <td>0</td>\n",
       "    </tr>\n",
       "    <tr>\n",
       "      <th>2172</th>\n",
       "      <td>debris</td>\n",
       "      <td>1.0</td>\n",
       "      <td>0</td>\n",
       "      <td>0</td>\n",
       "      <td>0</td>\n",
       "      <td>0</td>\n",
       "      <td>0</td>\n",
       "      <td>0</td>\n",
       "      <td>0</td>\n",
       "      <td>0</td>\n",
       "      <td>...</td>\n",
       "      <td>0</td>\n",
       "      <td>0</td>\n",
       "      <td>0</td>\n",
       "      <td>0</td>\n",
       "      <td>0</td>\n",
       "      <td>0</td>\n",
       "      <td>0</td>\n",
       "      <td>0</td>\n",
       "      <td>0</td>\n",
       "      <td>0</td>\n",
       "    </tr>\n",
       "    <tr>\n",
       "      <th>2170</th>\n",
       "      <td>debris</td>\n",
       "      <td>1.0</td>\n",
       "      <td>0</td>\n",
       "      <td>0</td>\n",
       "      <td>0</td>\n",
       "      <td>0</td>\n",
       "      <td>0</td>\n",
       "      <td>0</td>\n",
       "      <td>0</td>\n",
       "      <td>0</td>\n",
       "      <td>...</td>\n",
       "      <td>0</td>\n",
       "      <td>0</td>\n",
       "      <td>0</td>\n",
       "      <td>0</td>\n",
       "      <td>0</td>\n",
       "      <td>0</td>\n",
       "      <td>0</td>\n",
       "      <td>0</td>\n",
       "      <td>0</td>\n",
       "      <td>0</td>\n",
       "    </tr>\n",
       "    <tr>\n",
       "      <th>2181</th>\n",
       "      <td>debris</td>\n",
       "      <td>1.0</td>\n",
       "      <td>0</td>\n",
       "      <td>0</td>\n",
       "      <td>0</td>\n",
       "      <td>0</td>\n",
       "      <td>0</td>\n",
       "      <td>0</td>\n",
       "      <td>0</td>\n",
       "      <td>0</td>\n",
       "      <td>...</td>\n",
       "      <td>0</td>\n",
       "      <td>0</td>\n",
       "      <td>0</td>\n",
       "      <td>0</td>\n",
       "      <td>0</td>\n",
       "      <td>0</td>\n",
       "      <td>0</td>\n",
       "      <td>0</td>\n",
       "      <td>0</td>\n",
       "      <td>0</td>\n",
       "    </tr>\n",
       "  </tbody>\n",
       "</table>\n",
       "<p>7613 rows × 224 columns</p>\n",
       "</div>"
      ],
      "text/plain": [
       "         keyword  target_mean  0  ablaze  accident  aftershock  \\\n",
       "115   aftershock          0.0  0       0         0           1   \n",
       "122   aftershock          0.0  0       0         0           1   \n",
       "123   aftershock          0.0  0       0         0           1   \n",
       "124   aftershock          0.0  0       0         0           1   \n",
       "125   aftershock          0.0  0       0         0           1   \n",
       "...          ...          ... ..     ...       ...         ...   \n",
       "2174      debris          1.0  0       0         0           0   \n",
       "2173      debris          1.0  0       0         0           0   \n",
       "2172      debris          1.0  0       0         0           0   \n",
       "2170      debris          1.0  0       0         0           0   \n",
       "2181      debris          1.0  0       0         0           0   \n",
       "\n",
       "      airplane%20accident  ambulance  annihilated  annihilation  ...  weapons  \\\n",
       "115                     0          0            0             0  ...        0   \n",
       "122                     0          0            0             0  ...        0   \n",
       "123                     0          0            0             0  ...        0   \n",
       "124                     0          0            0             0  ...        0   \n",
       "125                     0          0            0             0  ...        0   \n",
       "...                   ...        ...          ...           ...  ...      ...   \n",
       "2174                    0          0            0             0  ...        0   \n",
       "2173                    0          0            0             0  ...        0   \n",
       "2172                    0          0            0             0  ...        0   \n",
       "2170                    0          0            0             0  ...        0   \n",
       "2181                    0          0            0             0  ...        0   \n",
       "\n",
       "      whirlwind  wild%20fires  wildfire  windstorm  wounded  wounds  wreck  \\\n",
       "115           0             0         0          0        0       0      0   \n",
       "122           0             0         0          0        0       0      0   \n",
       "123           0             0         0          0        0       0      0   \n",
       "124           0             0         0          0        0       0      0   \n",
       "125           0             0         0          0        0       0      0   \n",
       "...         ...           ...       ...        ...      ...     ...    ...   \n",
       "2174          0             0         0          0        0       0      0   \n",
       "2173          0             0         0          0        0       0      0   \n",
       "2172          0             0         0          0        0       0      0   \n",
       "2170          0             0         0          0        0       0      0   \n",
       "2181          0             0         0          0        0       0      0   \n",
       "\n",
       "      wreckage  wrecked  \n",
       "115          0        0  \n",
       "122          0        0  \n",
       "123          0        0  \n",
       "124          0        0  \n",
       "125          0        0  \n",
       "...        ...      ...  \n",
       "2174         0        0  \n",
       "2173         0        0  \n",
       "2172         0        0  \n",
       "2170         0        0  \n",
       "2181         0        0  \n",
       "\n",
       "[7613 rows x 224 columns]"
      ]
     },
     "execution_count": 39,
     "metadata": {},
     "output_type": "execute_result"
    }
   ],
   "source": [
    "oh_key = pd.get_dummies(df_key['keyword'])\n",
    "df_key = pd.concat([df_key,oh_key], axis = 1)\n",
    "df_key"
   ]
  },
  {
   "cell_type": "code",
   "execution_count": 40,
   "metadata": {
    "execution": {
     "iopub.execute_input": "2020-10-08T18:48:48.390174Z",
     "iopub.status.busy": "2020-10-08T18:48:48.389689Z",
     "iopub.status.idle": "2020-10-08T18:48:48.396904Z",
     "shell.execute_reply": "2020-10-08T18:48:48.396518Z"
    },
    "papermill": {
     "duration": 0.578747,
     "end_time": "2020-10-08T18:48:48.396981",
     "exception": false,
     "start_time": "2020-10-08T18:48:47.818234",
     "status": "completed"
    },
    "tags": []
   },
   "outputs": [],
   "source": [
    "key_trainx = df_key[df_key.columns[2:]]\n",
    "key_trainy = df_key['target_mean'].round().astype('int64')"
   ]
  },
  {
   "cell_type": "code",
   "execution_count": 41,
   "metadata": {
    "execution": {
     "iopub.execute_input": "2020-10-08T18:48:49.123230Z",
     "iopub.status.busy": "2020-10-08T18:48:49.122607Z",
     "iopub.status.idle": "2020-10-08T18:48:49.125948Z",
     "shell.execute_reply": "2020-10-08T18:48:49.125547Z"
    },
    "papermill": {
     "duration": 0.367765,
     "end_time": "2020-10-08T18:48:49.126053",
     "exception": false,
     "start_time": "2020-10-08T18:48:48.758288",
     "status": "completed"
    },
    "tags": []
   },
   "outputs": [
    {
     "data": {
      "text/plain": [
       "115     0\n",
       "122     0\n",
       "123     0\n",
       "124     0\n",
       "125     0\n",
       "       ..\n",
       "2174    1\n",
       "2173    1\n",
       "2172    1\n",
       "2170    1\n",
       "2181    1\n",
       "Name: target_mean, Length: 7613, dtype: int64"
      ]
     },
     "execution_count": 41,
     "metadata": {},
     "output_type": "execute_result"
    }
   ],
   "source": [
    "key_trainy"
   ]
  },
  {
   "cell_type": "code",
   "execution_count": 42,
   "metadata": {
    "execution": {
     "iopub.execute_input": "2020-10-08T18:48:49.883673Z",
     "iopub.status.busy": "2020-10-08T18:48:49.883251Z",
     "iopub.status.idle": "2020-10-08T18:48:49.906846Z",
     "shell.execute_reply": "2020-10-08T18:48:49.907198Z"
    },
    "papermill": {
     "duration": 0.413975,
     "end_time": "2020-10-08T18:48:49.907297",
     "exception": false,
     "start_time": "2020-10-08T18:48:49.493322",
     "status": "completed"
    },
    "tags": []
   },
   "outputs": [
    {
     "data": {
      "text/html": [
       "<div>\n",
       "<style scoped>\n",
       "    .dataframe tbody tr th:only-of-type {\n",
       "        vertical-align: middle;\n",
       "    }\n",
       "\n",
       "    .dataframe tbody tr th {\n",
       "        vertical-align: top;\n",
       "    }\n",
       "\n",
       "    .dataframe thead th {\n",
       "        text-align: right;\n",
       "    }\n",
       "</style>\n",
       "<table border=\"1\" class=\"dataframe\">\n",
       "  <thead>\n",
       "    <tr style=\"text-align: right;\">\n",
       "      <th></th>\n",
       "      <th>0</th>\n",
       "      <th>ablaze</th>\n",
       "      <th>accident</th>\n",
       "      <th>aftershock</th>\n",
       "      <th>airplane%20accident</th>\n",
       "      <th>ambulance</th>\n",
       "      <th>annihilated</th>\n",
       "      <th>annihilation</th>\n",
       "      <th>apocalypse</th>\n",
       "      <th>armageddon</th>\n",
       "      <th>...</th>\n",
       "      <th>weapons</th>\n",
       "      <th>whirlwind</th>\n",
       "      <th>wild%20fires</th>\n",
       "      <th>wildfire</th>\n",
       "      <th>windstorm</th>\n",
       "      <th>wounded</th>\n",
       "      <th>wounds</th>\n",
       "      <th>wreck</th>\n",
       "      <th>wreckage</th>\n",
       "      <th>wrecked</th>\n",
       "    </tr>\n",
       "  </thead>\n",
       "  <tbody>\n",
       "    <tr>\n",
       "      <th>0</th>\n",
       "      <td>1</td>\n",
       "      <td>0</td>\n",
       "      <td>0</td>\n",
       "      <td>0</td>\n",
       "      <td>0</td>\n",
       "      <td>0</td>\n",
       "      <td>0</td>\n",
       "      <td>0</td>\n",
       "      <td>0</td>\n",
       "      <td>0</td>\n",
       "      <td>...</td>\n",
       "      <td>0</td>\n",
       "      <td>0</td>\n",
       "      <td>0</td>\n",
       "      <td>0</td>\n",
       "      <td>0</td>\n",
       "      <td>0</td>\n",
       "      <td>0</td>\n",
       "      <td>0</td>\n",
       "      <td>0</td>\n",
       "      <td>0</td>\n",
       "    </tr>\n",
       "    <tr>\n",
       "      <th>1</th>\n",
       "      <td>1</td>\n",
       "      <td>0</td>\n",
       "      <td>0</td>\n",
       "      <td>0</td>\n",
       "      <td>0</td>\n",
       "      <td>0</td>\n",
       "      <td>0</td>\n",
       "      <td>0</td>\n",
       "      <td>0</td>\n",
       "      <td>0</td>\n",
       "      <td>...</td>\n",
       "      <td>0</td>\n",
       "      <td>0</td>\n",
       "      <td>0</td>\n",
       "      <td>0</td>\n",
       "      <td>0</td>\n",
       "      <td>0</td>\n",
       "      <td>0</td>\n",
       "      <td>0</td>\n",
       "      <td>0</td>\n",
       "      <td>0</td>\n",
       "    </tr>\n",
       "    <tr>\n",
       "      <th>2</th>\n",
       "      <td>1</td>\n",
       "      <td>0</td>\n",
       "      <td>0</td>\n",
       "      <td>0</td>\n",
       "      <td>0</td>\n",
       "      <td>0</td>\n",
       "      <td>0</td>\n",
       "      <td>0</td>\n",
       "      <td>0</td>\n",
       "      <td>0</td>\n",
       "      <td>...</td>\n",
       "      <td>0</td>\n",
       "      <td>0</td>\n",
       "      <td>0</td>\n",
       "      <td>0</td>\n",
       "      <td>0</td>\n",
       "      <td>0</td>\n",
       "      <td>0</td>\n",
       "      <td>0</td>\n",
       "      <td>0</td>\n",
       "      <td>0</td>\n",
       "    </tr>\n",
       "    <tr>\n",
       "      <th>3</th>\n",
       "      <td>1</td>\n",
       "      <td>0</td>\n",
       "      <td>0</td>\n",
       "      <td>0</td>\n",
       "      <td>0</td>\n",
       "      <td>0</td>\n",
       "      <td>0</td>\n",
       "      <td>0</td>\n",
       "      <td>0</td>\n",
       "      <td>0</td>\n",
       "      <td>...</td>\n",
       "      <td>0</td>\n",
       "      <td>0</td>\n",
       "      <td>0</td>\n",
       "      <td>0</td>\n",
       "      <td>0</td>\n",
       "      <td>0</td>\n",
       "      <td>0</td>\n",
       "      <td>0</td>\n",
       "      <td>0</td>\n",
       "      <td>0</td>\n",
       "    </tr>\n",
       "    <tr>\n",
       "      <th>4</th>\n",
       "      <td>1</td>\n",
       "      <td>0</td>\n",
       "      <td>0</td>\n",
       "      <td>0</td>\n",
       "      <td>0</td>\n",
       "      <td>0</td>\n",
       "      <td>0</td>\n",
       "      <td>0</td>\n",
       "      <td>0</td>\n",
       "      <td>0</td>\n",
       "      <td>...</td>\n",
       "      <td>0</td>\n",
       "      <td>0</td>\n",
       "      <td>0</td>\n",
       "      <td>0</td>\n",
       "      <td>0</td>\n",
       "      <td>0</td>\n",
       "      <td>0</td>\n",
       "      <td>0</td>\n",
       "      <td>0</td>\n",
       "      <td>0</td>\n",
       "    </tr>\n",
       "    <tr>\n",
       "      <th>...</th>\n",
       "      <td>...</td>\n",
       "      <td>...</td>\n",
       "      <td>...</td>\n",
       "      <td>...</td>\n",
       "      <td>...</td>\n",
       "      <td>...</td>\n",
       "      <td>...</td>\n",
       "      <td>...</td>\n",
       "      <td>...</td>\n",
       "      <td>...</td>\n",
       "      <td>...</td>\n",
       "      <td>...</td>\n",
       "      <td>...</td>\n",
       "      <td>...</td>\n",
       "      <td>...</td>\n",
       "      <td>...</td>\n",
       "      <td>...</td>\n",
       "      <td>...</td>\n",
       "      <td>...</td>\n",
       "      <td>...</td>\n",
       "      <td>...</td>\n",
       "    </tr>\n",
       "    <tr>\n",
       "      <th>3258</th>\n",
       "      <td>1</td>\n",
       "      <td>0</td>\n",
       "      <td>0</td>\n",
       "      <td>0</td>\n",
       "      <td>0</td>\n",
       "      <td>0</td>\n",
       "      <td>0</td>\n",
       "      <td>0</td>\n",
       "      <td>0</td>\n",
       "      <td>0</td>\n",
       "      <td>...</td>\n",
       "      <td>0</td>\n",
       "      <td>0</td>\n",
       "      <td>0</td>\n",
       "      <td>0</td>\n",
       "      <td>0</td>\n",
       "      <td>0</td>\n",
       "      <td>0</td>\n",
       "      <td>0</td>\n",
       "      <td>0</td>\n",
       "      <td>0</td>\n",
       "    </tr>\n",
       "    <tr>\n",
       "      <th>3259</th>\n",
       "      <td>1</td>\n",
       "      <td>0</td>\n",
       "      <td>0</td>\n",
       "      <td>0</td>\n",
       "      <td>0</td>\n",
       "      <td>0</td>\n",
       "      <td>0</td>\n",
       "      <td>0</td>\n",
       "      <td>0</td>\n",
       "      <td>0</td>\n",
       "      <td>...</td>\n",
       "      <td>0</td>\n",
       "      <td>0</td>\n",
       "      <td>0</td>\n",
       "      <td>0</td>\n",
       "      <td>0</td>\n",
       "      <td>0</td>\n",
       "      <td>0</td>\n",
       "      <td>0</td>\n",
       "      <td>0</td>\n",
       "      <td>0</td>\n",
       "    </tr>\n",
       "    <tr>\n",
       "      <th>3260</th>\n",
       "      <td>1</td>\n",
       "      <td>0</td>\n",
       "      <td>0</td>\n",
       "      <td>0</td>\n",
       "      <td>0</td>\n",
       "      <td>0</td>\n",
       "      <td>0</td>\n",
       "      <td>0</td>\n",
       "      <td>0</td>\n",
       "      <td>0</td>\n",
       "      <td>...</td>\n",
       "      <td>0</td>\n",
       "      <td>0</td>\n",
       "      <td>0</td>\n",
       "      <td>0</td>\n",
       "      <td>0</td>\n",
       "      <td>0</td>\n",
       "      <td>0</td>\n",
       "      <td>0</td>\n",
       "      <td>0</td>\n",
       "      <td>0</td>\n",
       "    </tr>\n",
       "    <tr>\n",
       "      <th>3261</th>\n",
       "      <td>1</td>\n",
       "      <td>0</td>\n",
       "      <td>0</td>\n",
       "      <td>0</td>\n",
       "      <td>0</td>\n",
       "      <td>0</td>\n",
       "      <td>0</td>\n",
       "      <td>0</td>\n",
       "      <td>0</td>\n",
       "      <td>0</td>\n",
       "      <td>...</td>\n",
       "      <td>0</td>\n",
       "      <td>0</td>\n",
       "      <td>0</td>\n",
       "      <td>0</td>\n",
       "      <td>0</td>\n",
       "      <td>0</td>\n",
       "      <td>0</td>\n",
       "      <td>0</td>\n",
       "      <td>0</td>\n",
       "      <td>0</td>\n",
       "    </tr>\n",
       "    <tr>\n",
       "      <th>3262</th>\n",
       "      <td>1</td>\n",
       "      <td>0</td>\n",
       "      <td>0</td>\n",
       "      <td>0</td>\n",
       "      <td>0</td>\n",
       "      <td>0</td>\n",
       "      <td>0</td>\n",
       "      <td>0</td>\n",
       "      <td>0</td>\n",
       "      <td>0</td>\n",
       "      <td>...</td>\n",
       "      <td>0</td>\n",
       "      <td>0</td>\n",
       "      <td>0</td>\n",
       "      <td>0</td>\n",
       "      <td>0</td>\n",
       "      <td>0</td>\n",
       "      <td>0</td>\n",
       "      <td>0</td>\n",
       "      <td>0</td>\n",
       "      <td>0</td>\n",
       "    </tr>\n",
       "  </tbody>\n",
       "</table>\n",
       "<p>3263 rows × 222 columns</p>\n",
       "</div>"
      ],
      "text/plain": [
       "      0  ablaze  accident  aftershock  airplane%20accident  ambulance  \\\n",
       "0     1       0         0           0                    0          0   \n",
       "1     1       0         0           0                    0          0   \n",
       "2     1       0         0           0                    0          0   \n",
       "3     1       0         0           0                    0          0   \n",
       "4     1       0         0           0                    0          0   \n",
       "...  ..     ...       ...         ...                  ...        ...   \n",
       "3258  1       0         0           0                    0          0   \n",
       "3259  1       0         0           0                    0          0   \n",
       "3260  1       0         0           0                    0          0   \n",
       "3261  1       0         0           0                    0          0   \n",
       "3262  1       0         0           0                    0          0   \n",
       "\n",
       "      annihilated  annihilation  apocalypse  armageddon  ...  weapons  \\\n",
       "0               0             0           0           0  ...        0   \n",
       "1               0             0           0           0  ...        0   \n",
       "2               0             0           0           0  ...        0   \n",
       "3               0             0           0           0  ...        0   \n",
       "4               0             0           0           0  ...        0   \n",
       "...           ...           ...         ...         ...  ...      ...   \n",
       "3258            0             0           0           0  ...        0   \n",
       "3259            0             0           0           0  ...        0   \n",
       "3260            0             0           0           0  ...        0   \n",
       "3261            0             0           0           0  ...        0   \n",
       "3262            0             0           0           0  ...        0   \n",
       "\n",
       "      whirlwind  wild%20fires  wildfire  windstorm  wounded  wounds  wreck  \\\n",
       "0             0             0         0          0        0       0      0   \n",
       "1             0             0         0          0        0       0      0   \n",
       "2             0             0         0          0        0       0      0   \n",
       "3             0             0         0          0        0       0      0   \n",
       "4             0             0         0          0        0       0      0   \n",
       "...         ...           ...       ...        ...      ...     ...    ...   \n",
       "3258          0             0         0          0        0       0      0   \n",
       "3259          0             0         0          0        0       0      0   \n",
       "3260          0             0         0          0        0       0      0   \n",
       "3261          0             0         0          0        0       0      0   \n",
       "3262          0             0         0          0        0       0      0   \n",
       "\n",
       "      wreckage  wrecked  \n",
       "0            0        0  \n",
       "1            0        0  \n",
       "2            0        0  \n",
       "3            0        0  \n",
       "4            0        0  \n",
       "...        ...      ...  \n",
       "3258         0        0  \n",
       "3259         0        0  \n",
       "3260         0        0  \n",
       "3261         0        0  \n",
       "3262         0        0  \n",
       "\n",
       "[3263 rows x 222 columns]"
      ]
     },
     "execution_count": 42,
     "metadata": {},
     "output_type": "execute_result"
    }
   ],
   "source": [
    "testkey = test['keyword']\n",
    "testkey = pd.DataFrame(testkey).fillna('0')\n",
    "testkey = pd.get_dummies(testkey)\n",
    "testkey.columns = df_key.columns[2:]\n",
    "testkey"
   ]
  },
  {
   "cell_type": "code",
   "execution_count": 43,
   "metadata": {
    "execution": {
     "iopub.execute_input": "2020-10-08T18:48:50.651379Z",
     "iopub.status.busy": "2020-10-08T18:48:50.650937Z",
     "iopub.status.idle": "2020-10-08T18:48:50.652962Z",
     "shell.execute_reply": "2020-10-08T18:48:50.653391Z"
    },
    "papermill": {
     "duration": 0.382462,
     "end_time": "2020-10-08T18:48:50.653484",
     "exception": false,
     "start_time": "2020-10-08T18:48:50.271022",
     "status": "completed"
    },
    "tags": []
   },
   "outputs": [],
   "source": [
    "def RF_model(trainx,trainy,testx):\n",
    "    estimators = 500\n",
    "    np.random.seed(1)\n",
    "    RF_prod = RandomForestClassifier(n_estimators = 500, min_samples_leaf = 1, min_samples_split = 2, max_depth = 24)\n",
    "    RF_prod_model = RF_prod.fit(trainx, trainy)\n",
    "    RF_prod_prediction = RF_prod.predict_proba(testx)[:,1]\n",
    "    \n",
    "    return RF_prod_prediction"
   ]
  },
  {
   "cell_type": "code",
   "execution_count": 44,
   "metadata": {
    "execution": {
     "iopub.execute_input": "2020-10-08T18:48:51.503531Z",
     "iopub.status.busy": "2020-10-08T18:48:51.502705Z",
     "iopub.status.idle": "2020-10-08T18:48:54.901318Z",
     "shell.execute_reply": "2020-10-08T18:48:54.900902Z"
    },
    "papermill": {
     "duration": 3.884634,
     "end_time": "2020-10-08T18:48:54.901409",
     "exception": false,
     "start_time": "2020-10-08T18:48:51.016775",
     "status": "completed"
    },
    "tags": []
   },
   "outputs": [
    {
     "data": {
      "text/html": [
       "<div>\n",
       "<style scoped>\n",
       "    .dataframe tbody tr th:only-of-type {\n",
       "        vertical-align: middle;\n",
       "    }\n",
       "\n",
       "    .dataframe tbody tr th {\n",
       "        vertical-align: top;\n",
       "    }\n",
       "\n",
       "    .dataframe thead th {\n",
       "        text-align: right;\n",
       "    }\n",
       "</style>\n",
       "<table border=\"1\" class=\"dataframe\">\n",
       "  <thead>\n",
       "    <tr style=\"text-align: right;\">\n",
       "      <th></th>\n",
       "      <th>target</th>\n",
       "    </tr>\n",
       "  </thead>\n",
       "  <tbody>\n",
       "    <tr>\n",
       "      <th>0</th>\n",
       "      <td>0.838778</td>\n",
       "    </tr>\n",
       "    <tr>\n",
       "      <th>1</th>\n",
       "      <td>0.838778</td>\n",
       "    </tr>\n",
       "    <tr>\n",
       "      <th>2</th>\n",
       "      <td>0.838778</td>\n",
       "    </tr>\n",
       "    <tr>\n",
       "      <th>3</th>\n",
       "      <td>0.838778</td>\n",
       "    </tr>\n",
       "    <tr>\n",
       "      <th>4</th>\n",
       "      <td>0.838778</td>\n",
       "    </tr>\n",
       "    <tr>\n",
       "      <th>...</th>\n",
       "      <td>...</td>\n",
       "    </tr>\n",
       "    <tr>\n",
       "      <th>3258</th>\n",
       "      <td>0.838778</td>\n",
       "    </tr>\n",
       "    <tr>\n",
       "      <th>3259</th>\n",
       "      <td>0.838778</td>\n",
       "    </tr>\n",
       "    <tr>\n",
       "      <th>3260</th>\n",
       "      <td>0.838778</td>\n",
       "    </tr>\n",
       "    <tr>\n",
       "      <th>3261</th>\n",
       "      <td>0.838778</td>\n",
       "    </tr>\n",
       "    <tr>\n",
       "      <th>3262</th>\n",
       "      <td>0.838778</td>\n",
       "    </tr>\n",
       "  </tbody>\n",
       "</table>\n",
       "<p>3263 rows × 1 columns</p>\n",
       "</div>"
      ],
      "text/plain": [
       "        target\n",
       "0     0.838778\n",
       "1     0.838778\n",
       "2     0.838778\n",
       "3     0.838778\n",
       "4     0.838778\n",
       "...        ...\n",
       "3258  0.838778\n",
       "3259  0.838778\n",
       "3260  0.838778\n",
       "3261  0.838778\n",
       "3262  0.838778\n",
       "\n",
       "[3263 rows x 1 columns]"
      ]
     },
     "execution_count": 44,
     "metadata": {},
     "output_type": "execute_result"
    }
   ],
   "source": [
    "key_predict = RF_model(key_trainx,key_trainy,testkey)\n",
    "pd_keyresult = pd.DataFrame(key_predict, columns = ['target'])\n",
    "pd_keyresult"
   ]
  },
  {
   "cell_type": "markdown",
   "metadata": {
    "papermill": {
     "duration": 0.364243,
     "end_time": "2020-10-08T18:48:55.628045",
     "exception": false,
     "start_time": "2020-10-08T18:48:55.263802",
     "status": "completed"
    },
    "tags": []
   },
   "source": [
    "# SUBMISSION"
   ]
  },
  {
   "cell_type": "code",
   "execution_count": 45,
   "metadata": {
    "execution": {
     "iopub.execute_input": "2020-10-08T18:48:56.358061Z",
     "iopub.status.busy": "2020-10-08T18:48:56.357609Z",
     "iopub.status.idle": "2020-10-08T18:48:56.378164Z",
     "shell.execute_reply": "2020-10-08T18:48:56.378519Z"
    },
    "papermill": {
     "duration": 0.387543,
     "end_time": "2020-10-08T18:48:56.378619",
     "exception": false,
     "start_time": "2020-10-08T18:48:55.991076",
     "status": "completed"
    },
    "tags": []
   },
   "outputs": [
    {
     "data": {
      "text/plain": [
       "0       1\n",
       "1       1\n",
       "2       1\n",
       "3       1\n",
       "4       1\n",
       "       ..\n",
       "3258    1\n",
       "3259    1\n",
       "3260    1\n",
       "3261    1\n",
       "3262    1\n",
       "Length: 3263, dtype: int64"
      ]
     },
     "execution_count": 45,
     "metadata": {},
     "output_type": "execute_result"
    }
   ],
   "source": [
    "result = (pd_keyresult['target'] + pd_tweet_result['result'])/2\n",
    "result = result.round().astype('int')\n",
    "result"
   ]
  },
  {
   "cell_type": "code",
   "execution_count": 46,
   "metadata": {
    "execution": {
     "iopub.execute_input": "2020-10-08T18:48:57.140504Z",
     "iopub.status.busy": "2020-10-08T18:48:57.139929Z",
     "iopub.status.idle": "2020-10-08T18:48:57.315034Z",
     "shell.execute_reply": "2020-10-08T18:48:57.314505Z"
    },
    "papermill": {
     "duration": 0.544285,
     "end_time": "2020-10-08T18:48:57.315144",
     "exception": false,
     "start_time": "2020-10-08T18:48:56.770859",
     "status": "completed"
    },
    "tags": []
   },
   "outputs": [
    {
     "name": "stdout",
     "output_type": "stream",
     "text": [
      "Your submission was successfully saved!\n"
     ]
    }
   ],
   "source": [
    "test=pd.read_csv('../input/nlp-getting-started/test.csv')\n",
    "output = pd.DataFrame({'id': test.id, 'target':result})\n",
    "output.to_csv('my_submission.csv', index=False)\n",
    "print(\"Your submission was successfully saved!\")"
   ]
  },
  {
   "cell_type": "code",
   "execution_count": 47,
   "metadata": {
    "execution": {
     "iopub.execute_input": "2020-10-08T18:48:58.107196Z",
     "iopub.status.busy": "2020-10-08T18:48:58.106670Z",
     "iopub.status.idle": "2020-10-08T18:48:58.111246Z",
     "shell.execute_reply": "2020-10-08T18:48:58.110741Z"
    },
    "papermill": {
     "duration": 0.382722,
     "end_time": "2020-10-08T18:48:58.111336",
     "exception": false,
     "start_time": "2020-10-08T18:48:57.728614",
     "status": "completed"
    },
    "tags": []
   },
   "outputs": [
    {
     "data": {
      "text/html": [
       "<div>\n",
       "<style scoped>\n",
       "    .dataframe tbody tr th:only-of-type {\n",
       "        vertical-align: middle;\n",
       "    }\n",
       "\n",
       "    .dataframe tbody tr th {\n",
       "        vertical-align: top;\n",
       "    }\n",
       "\n",
       "    .dataframe thead th {\n",
       "        text-align: right;\n",
       "    }\n",
       "</style>\n",
       "<table border=\"1\" class=\"dataframe\">\n",
       "  <thead>\n",
       "    <tr style=\"text-align: right;\">\n",
       "      <th></th>\n",
       "      <th>id</th>\n",
       "      <th>target</th>\n",
       "    </tr>\n",
       "  </thead>\n",
       "  <tbody>\n",
       "    <tr>\n",
       "      <th>0</th>\n",
       "      <td>0</td>\n",
       "      <td>1</td>\n",
       "    </tr>\n",
       "    <tr>\n",
       "      <th>1</th>\n",
       "      <td>2</td>\n",
       "      <td>1</td>\n",
       "    </tr>\n",
       "    <tr>\n",
       "      <th>2</th>\n",
       "      <td>3</td>\n",
       "      <td>1</td>\n",
       "    </tr>\n",
       "    <tr>\n",
       "      <th>3</th>\n",
       "      <td>9</td>\n",
       "      <td>1</td>\n",
       "    </tr>\n",
       "    <tr>\n",
       "      <th>4</th>\n",
       "      <td>11</td>\n",
       "      <td>1</td>\n",
       "    </tr>\n",
       "    <tr>\n",
       "      <th>...</th>\n",
       "      <td>...</td>\n",
       "      <td>...</td>\n",
       "    </tr>\n",
       "    <tr>\n",
       "      <th>3258</th>\n",
       "      <td>10861</td>\n",
       "      <td>1</td>\n",
       "    </tr>\n",
       "    <tr>\n",
       "      <th>3259</th>\n",
       "      <td>10865</td>\n",
       "      <td>1</td>\n",
       "    </tr>\n",
       "    <tr>\n",
       "      <th>3260</th>\n",
       "      <td>10868</td>\n",
       "      <td>1</td>\n",
       "    </tr>\n",
       "    <tr>\n",
       "      <th>3261</th>\n",
       "      <td>10874</td>\n",
       "      <td>1</td>\n",
       "    </tr>\n",
       "    <tr>\n",
       "      <th>3262</th>\n",
       "      <td>10875</td>\n",
       "      <td>1</td>\n",
       "    </tr>\n",
       "  </tbody>\n",
       "</table>\n",
       "<p>3263 rows × 2 columns</p>\n",
       "</div>"
      ],
      "text/plain": [
       "         id  target\n",
       "0         0       1\n",
       "1         2       1\n",
       "2         3       1\n",
       "3         9       1\n",
       "4        11       1\n",
       "...     ...     ...\n",
       "3258  10861       1\n",
       "3259  10865       1\n",
       "3260  10868       1\n",
       "3261  10874       1\n",
       "3262  10875       1\n",
       "\n",
       "[3263 rows x 2 columns]"
      ]
     },
     "execution_count": 47,
     "metadata": {},
     "output_type": "execute_result"
    }
   ],
   "source": [
    "output"
   ]
  }
 ],
 "metadata": {
  "kernelspec": {
   "display_name": "Python 3",
   "language": "python",
   "name": "python3"
  },
  "language_info": {
   "codemirror_mode": {
    "name": "ipython",
    "version": 3
   },
   "file_extension": ".py",
   "mimetype": "text/x-python",
   "name": "python",
   "nbconvert_exporter": "python",
   "pygments_lexer": "ipython3",
   "version": "3.7.6"
  },
  "papermill": {
   "duration": 162.472469,
   "end_time": "2020-10-08T18:48:58.584527",
   "environment_variables": {},
   "exception": null,
   "input_path": "__notebook__.ipynb",
   "output_path": "__notebook__.ipynb",
   "parameters": {},
   "start_time": "2020-10-08T18:46:16.112058",
   "version": "2.1.0"
  }
 },
 "nbformat": 4,
 "nbformat_minor": 4
}
